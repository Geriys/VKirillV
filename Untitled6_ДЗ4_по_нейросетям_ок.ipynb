{
  "nbformat": 4,
  "nbformat_minor": 0,
  "metadata": {
    "colab": {
      "provenance": [],
      "authorship_tag": "ABX9TyNi90T5o+pftR3Mw751SSci",
      "include_colab_link": true
    },
    "kernelspec": {
      "name": "python3",
      "display_name": "Python 3"
    },
    "language_info": {
      "name": "python"
    }
  },
  "cells": [
    {
      "cell_type": "markdown",
      "metadata": {
        "id": "view-in-github",
        "colab_type": "text"
      },
      "source": [
        "<a href=\"https://colab.research.google.com/github/Geriys/VKirillV/blob/main/Untitled6_%D0%94%D0%974_%D0%BF%D0%BE_%D0%BD%D0%B5%D0%B9%D1%80%D0%BE%D1%81%D0%B5%D1%82%D1%8F%D0%BC_%D0%BE%D0%BA.ipynb\" target=\"_parent\"><img src=\"https://colab.research.google.com/assets/colab-badge.svg\" alt=\"Open In Colab\"/></a>"
      ]
    },
    {
      "cell_type": "code",
      "execution_count": null,
      "metadata": {
        "id": "5KOZ4QWpnKlx"
      },
      "outputs": [],
      "source": [
        "# Сравнить LSTM, RNN и GRU на задаче предсказания части речи (качество предсказания, скорость обучения, время инференса модели)"
      ]
    },
    {
      "cell_type": "code",
      "source": [],
      "metadata": {
        "id": "2Of5-gT2pjZd"
      },
      "execution_count": null,
      "outputs": []
    },
    {
      "cell_type": "code",
      "source": [
        "import numpy as np\n",
        "from keras.models import Sequential\n",
        "from keras.layers import LSTM, SimpleRNN, GRU, Dense\n",
        "import time\n",
        "\n",
        "# Генерация синтетических данных\n",
        "np.random.seed(0)\n",
        "\n",
        "# Количество примеров\n",
        "num_samples = 1000\n",
        "\n",
        "# Длина последовательности\n",
        "sequence_length = 100\n",
        "\n",
        "# Генерация данных\n",
        "X = np.random.rand(num_samples, sequence_length, 1)  # Изменение формы X\n",
        "y = np.random.rand(num_samples, 1)  # Изменение формы y\n",
        "\n",
        "# Разделение данных на обучающий и тестовый наборы\n",
        "train_size = int(0.8 * num_samples)\n",
        "X_train, X_test = X[:train_size], X[train_size:]\n",
        "y_train, y_test = y[:train_size], y[train_size:]\n",
        "\n",
        "# Функция для создания и обучения модели\n",
        "def train_model(model, X_train, y_train, X_test, y_test):\n",
        "    start_time = time.time()\n",
        "    model.fit(X_train, y_train, epochs=10, batch_size=32, verbose=0)\n",
        "    end_time = time.time()\n",
        "    train_time = end_time - start_time\n",
        "\n",
        "    start_time = time.time()\n",
        "    y_pred = model.predict(X_test)\n",
        "    end_time = time.time()\n",
        "    inference_time = end_time - start_time\n",
        "\n",
        "    # Вычисление MAE\n",
        "    mae = np.mean(np.abs(y_test - y_pred))\n",
        "    accuracy = 1 - mae  # Упрощенная метрика accuracy для задачи регрессии\n",
        "\n",
        "    return mae, accuracy, train_time, inference_time\n",
        "\n",
        "# Создание и обучение модели LSTM\n",
        "lstm_model = Sequential()\n",
        "lstm_model.add(LSTM(50, activation='relu', input_shape=(sequence_length, 1)))\n",
        "lstm_model.add(Dense(1))\n",
        "lstm_model.compile(optimizer='adam', loss='mse')\n",
        "lstm_loss, lstm_accuracy, lstm_train_time, lstm_inference_time = train_model(lstm_model, X_train, y_train, X_test, y_test)\n",
        "\n",
        "# Создание и обучение модели RNN\n",
        "rnn_model = Sequential()\n",
        "rnn_model.add(SimpleRNN(50, activation='relu', input_shape=(sequence_length, 1)))\n",
        "rnn_model.add(Dense(1))\n",
        "rnn_model.compile(optimizer='adam', loss='mse')\n",
        "rnn_loss, rnn_accuracy, rnn_train_time, rnn_inference_time = train_model(rnn_model, X_train, y_train, X_test, y_test)\n",
        "\n",
        "# Создание и обучение модели GRU\n",
        "gru_model = Sequential()\n",
        "gru_model.add(GRU(50, activation='relu', input_shape=(sequence_length, 1)))\n",
        "gru_model.add(Dense(1))\n",
        "gru_model.compile(optimizer='adam', loss='mse')\n",
        "gru_loss, gru_accuracy, gru_train_time, gru_inference_time = train_model(gru_model, X_train, y_train, X_test, y_test)\n",
        "\n",
        "# Вывод результатов\n",
        "print(f\"LSTM: Loss = {lstm_loss}, Accuracy = {lstm_accuracy}, Train Time = {lstm_train_time}, Inference Time = {lstm_inference_time}\")\n",
        "print(f\"RNN: Loss = {rnn_loss}, Accuracy = {rnn_accuracy}, Train Time = {rnn_train_time}, Inference Time = {rnn_inference_time}\")\n",
        "print(f\"GRU: Loss = {gru_loss}, Accuracy = {gru_accuracy}, Train Time = {gru_train_time}, Inference Time = {gru_inference_time}\")"
      ],
      "metadata": {
        "colab": {
          "base_uri": "https://localhost:8080/"
        },
        "id": "Rbdz7yeLpjdS",
        "outputId": "ccfcda0e-1b56-4cc8-eee3-909df6d5147c"
      },
      "execution_count": null,
      "outputs": [
        {
          "output_type": "stream",
          "name": "stdout",
          "text": [
            "7/7 [==============================] - 0s 11ms/step\n",
            "7/7 [==============================] - 0s 5ms/step\n",
            "7/7 [==============================] - 0s 11ms/step\n",
            "LSTM: Loss = 0.2625649685429367, Accuracy = 0.7374350314570632, Train Time = 8.186926126480103, Inference Time = 0.3293936252593994\n",
            "RNN: Loss = 0.26888219904717814, Accuracy = 0.7311178009528219, Train Time = 3.437654495239258, Inference Time = 0.2288520336151123\n",
            "GRU: Loss = 0.2668381390008198, Accuracy = 0.7331618609991801, Train Time = 11.239949226379395, Inference Time = 0.2710278034210205\n"
          ]
        }
      ]
    },
    {
      "cell_type": "code",
      "source": [],
      "metadata": {
        "id": "FxzxgHMhpjfz"
      },
      "execution_count": null,
      "outputs": []
    },
    {
      "cell_type": "code",
      "source": [],
      "metadata": {
        "id": "C_rYdW-vpjiK"
      },
      "execution_count": null,
      "outputs": []
    },
    {
      "cell_type": "code",
      "source": [],
      "metadata": {
        "id": "KueKxST4pjkg"
      },
      "execution_count": null,
      "outputs": []
    },
    {
      "cell_type": "code",
      "source": [],
      "metadata": {
        "id": "CYcARLMppjm2"
      },
      "execution_count": null,
      "outputs": []
    }
  ]
}