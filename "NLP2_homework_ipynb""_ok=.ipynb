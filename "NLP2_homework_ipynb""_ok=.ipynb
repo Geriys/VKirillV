{
  "nbformat": 4,
  "nbformat_minor": 0,
  "metadata": {
    "colab": {
      "provenance": [],
      "include_colab_link": true
    },
    "kernelspec": {
      "name": "python3",
      "display_name": "Python 3"
    },
    "language_info": {
      "name": "python"
    }
  },
  "cells": [
    {
      "cell_type": "markdown",
      "metadata": {
        "id": "view-in-github",
        "colab_type": "text"
      },
      "source": [
        "<a href=\"https://colab.research.google.com/github/Geriys/VKirillV/blob/main/%22NLP2_homework_ipynb%22%22_ok%3D.ipynb\" target=\"_parent\"><img src=\"https://colab.research.google.com/assets/colab-badge.svg\" alt=\"Open In Colab\"/></a>"
      ]
    },
    {
      "cell_type": "markdown",
      "source": [
        "NLP2_1\n",
        "https://www.hackerrank.com/challenges/detect-the-email-addresses/problem?isFullScreen=true"
      ],
      "metadata": {
        "id": "OYZRf1ncz-sT"
      }
    },
    {
      "cell_type": "markdown",
      "source": [
        "NLP2_2 https://www.hackerrank.com/challenges/detect-the-domain-name/problem?isFullScreen=true"
      ],
      "metadata": {
        "id": "jKzbIfdq0CKr"
      }
    },
    {
      "cell_type": "markdown",
      "source": [
        "NLP2_3 (дз1): Реализовать stemming, lemmatization & BoW на следующем датасете: https://cloud.mail.ru/public/Z4L3/vB8GcgTtK (Russian Toxic-abuse comments)"
      ],
      "metadata": {
        "id": "Op8qPHa8J68_"
      }
    },
    {
      "cell_type": "markdown",
      "source": [
        "NLP2_4 Реализовать классификатор токсичных комментариев tfidf на базе датасета\n",
        "https://www.kaggle.com/datasets/blackmoon/russian-language-toxic-comments  \n",
        "\n",
        "Дубликат файла: https://cloud.mail.ru/public/Z4L3/vB8GcgTtK\n",
        "\n"
      ],
      "metadata": {
        "id": "b5DQQnoU1bXY"
      }
    },
    {
      "cell_type": "code",
      "source": [
        "# NLP2_1 https://www.hackerrank.com/challenges/detect-the-email-addresses/problem?isFullScreen=true"
      ],
      "metadata": {
        "id": "0BRC1-k81pIW"
      },
      "execution_count": null,
      "outputs": []
    },
    {
      "cell_type": "code",
      "source": [
        "import re\n",
        "p = re.compile('[_0-9a-zA-Z]+[_\\.0-9a-zA-Z]*@[0-9a-zA-Z_]+[\\.0-9a-zA-Z_]+[0-9a-zA-Z_]+')\n",
        "n = int(input())\n",
        "l = []\n",
        "for i in range(n):\n",
        "    x = str(input())\n",
        "    r = re.findall(p, x)\n",
        "    for z in r:\n",
        "        if(z not in l):\n",
        "            l.append(z)\n",
        "l.sort()\n",
        "for i in range(len(l)):\n",
        "    if(i == len(l)-1):\n",
        "        print(l[i])\n",
        "    else:\n",
        "        print(l[i],end=\";\")"
      ],
      "metadata": {
        "id": "ImpqRed1zyiS"
      },
      "execution_count": null,
      "outputs": []
    },
    {
      "cell_type": "code",
      "source": [
        "# NLP2_2 https://www.hackerrank.com/challenges/detect-the-domain-name/problem?isFullScreen=true"
      ],
      "metadata": {
        "id": "T_MJaEmczzeu"
      },
      "execution_count": null,
      "outputs": []
    },
    {
      "cell_type": "code",
      "source": [
        "import re\n",
        "pattern = '(http|https)\\\\://(www.|ww2.|)([a-zA-Z0-9\\\\-\\\\.]+)(\\\\.[a-zA-Z]+)(/\\\\S*)?'\n",
        "regex = re.compile(pattern)\n",
        "s = set()\n",
        "for i in range(int(input())):\n",
        "    string = input()\n",
        "    iterator = regex.finditer(string)\n",
        "    if iterator:\n",
        "        for match in iterator:\n",
        "            s.add(match.group(3)+match.group(4))\n",
        "print(';'.join(t for t in sorted(s)))"
      ],
      "metadata": {
        "id": "e8315jGUzzhI"
      },
      "execution_count": null,
      "outputs": []
    },
    {
      "cell_type": "code",
      "source": [
        "# NLP2_3 (дз1): Реализовать stemming, lemmatization & BoW на следующем датасете: https://cloud.mail.ru/public/Z4L3/vB8GcgTtK (Russian Toxic-abuse comments)"
      ],
      "metadata": {
        "id": "V_veaTemzzjT"
      },
      "execution_count": null,
      "outputs": []
    },
    {
      "cell_type": "code",
      "source": [],
      "metadata": {
        "id": "2Zx3u1MuzzlP"
      },
      "execution_count": null,
      "outputs": []
    },
    {
      "cell_type": "code",
      "source": [],
      "metadata": {
        "id": "Cd02fzY5zznT"
      },
      "execution_count": null,
      "outputs": []
    },
    {
      "cell_type": "code",
      "source": [
        "# NLP2_4 Реализовать классификатор токсичных комментариев tfidf на базе датасета https://www.kaggle.com/datasets/blackmoon/russian-language-toxic-comments"
      ],
      "metadata": {
        "id": "OM39bfPn3rfT"
      },
      "execution_count": null,
      "outputs": []
    },
    {
      "cell_type": "code",
      "source": [
        "import pandas as pd\n",
        "from sklearn.model_selection import train_test_split\n",
        "from sklearn.feature_extraction.text import TfidfVectorizer\n",
        "from sklearn.linear_model import LogisticRegression\n",
        "from sklearn.metrics import accuracy_score, classification_report\n",
        "\n",
        "# Загрузка данных из CSV-файла\n",
        "data = pd.read_csv('labeled.csv')\n",
        "\n",
        "# Предполагается, что в датасете есть столбцы 'text' и 'label'\n",
        "# 'text' содержит текст комментария, 'label' - метка токсичности (1 - токсичный, 0 - не токсичный)\n",
        "\n",
        "# Разделение данных на признаки (X) и целевую переменную (y)\n",
        "X = data['comment']\n",
        "y = data['toxic']\n",
        "\n",
        "# Преобразование текстов в векторное представление с помощью TF-IDF\n",
        "vectorizer = TfidfVectorizer()\n",
        "X_tfidf = vectorizer.fit_transform(X)\n",
        "\n",
        "# Разделение данных на обучающий и тестовый наборы\n",
        "X_train, X_test, y_train, y_test = train_test_split(X_tfidf, y, test_size=0.2, random_state=42)\n",
        "\n",
        "# Обучение модели логистической регрессии\n",
        "model = LogisticRegression()\n",
        "model.fit(X_train, y_train)\n",
        "\n",
        "# Предсказание на тестовых данных\n",
        "y_pred = model.predict(X_test)\n",
        "\n",
        "# Оценка модели\n",
        "accuracy = accuracy_score(y_test, y_pred)\n",
        "report = classification_report(y_test, y_pred)\n",
        "\n",
        "print(f\"Accuracy: {accuracy}\")\n",
        "print(f\"Classification Report:\\n{report}\")"
      ],
      "metadata": {
        "id": "XNSdVpv23rj9",
        "colab": {
          "base_uri": "https://localhost:8080/"
        },
        "outputId": "dc43f080-8d50-4fc9-e9c6-571071efff0d"
      },
      "execution_count": null,
      "outputs": [
        {
          "output_type": "stream",
          "name": "stdout",
          "text": [
            "Accuracy: 0.8321193201526188\n",
            "Classification Report:\n",
            "              precision    recall  f1-score   support\n",
            "\n",
            "         0.0       0.82      0.97      0.89      1944\n",
            "         1.0       0.90      0.55      0.68       939\n",
            "\n",
            "    accuracy                           0.83      2883\n",
            "   macro avg       0.86      0.76      0.78      2883\n",
            "weighted avg       0.84      0.83      0.82      2883\n",
            "\n"
          ]
        }
      ]
    }
  ]
}