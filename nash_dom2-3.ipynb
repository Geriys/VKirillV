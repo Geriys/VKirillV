{
  "cells": [
    {
      "cell_type": "markdown",
      "metadata": {
        "id": "view-in-github",
        "colab_type": "text"
      },
      "source": [
        "<a href=\"https://colab.research.google.com/github/Geriys/VKirillV/blob/main/nash_dom2-3.ipynb\" target=\"_parent\"><img src=\"https://colab.research.google.com/assets/colab-badge.svg\" alt=\"Open In Colab\"/></a>"
      ]
    },
    {
      "cell_type": "markdown",
      "id": "8618ab33",
      "metadata": {
        "id": "8618ab33"
      },
      "source": [
        "# Получение всех объектов"
      ]
    },
    {
      "cell_type": "code",
      "execution_count": null,
      "id": "dd674db7",
      "metadata": {
        "scrolled": true,
        "colab": {
          "base_uri": "https://localhost:8080/"
        },
        "id": "dd674db7",
        "outputId": "f4e88973-753b-40a4-8a5a-120b6e18bfab"
      },
      "outputs": [
        {
          "output_type": "stream",
          "name": "stdout",
          "text": [
            "Страница получена! limit: 500, offset: 0\n",
            "500\n",
            "Страница получена! limit: 500, offset: 500\n",
            "500\n",
            "Страница получена! limit: 500, offset: 1000\n",
            "500\n",
            "Страница получена! limit: 500, offset: 1500\n",
            "500\n",
            "Страница получена! limit: 500, offset: 2000\n",
            "500\n",
            "Страница получена! limit: 500, offset: 2500\n",
            "500\n",
            "Страница получена! limit: 500, offset: 3000\n",
            "500\n",
            "Страница получена! limit: 500, offset: 3500\n",
            "500\n",
            "Страница получена! limit: 500, offset: 4000\n",
            "500\n",
            "Страница получена! limit: 500, offset: 4500\n",
            "500\n",
            "Страница получена! limit: 500, offset: 5000\n",
            "500\n",
            "Страница получена! limit: 500, offset: 5500\n",
            "500\n",
            "Страница получена! limit: 500, offset: 6000\n",
            "500\n",
            "Страница получена! limit: 500, offset: 6500\n",
            "500\n",
            "Страница получена! limit: 500, offset: 7000\n",
            "500\n",
            "Страница получена! limit: 500, offset: 7500\n",
            "500\n",
            "Страница получена! limit: 500, offset: 8000\n",
            "500\n",
            "Страница получена! limit: 500, offset: 8500\n",
            "500\n",
            "Страница получена! limit: 500, offset: 9000\n",
            "500\n",
            "Страница получена! limit: 500, offset: 9500\n",
            "500\n",
            "Страница получена! limit: 500, offset: 10000\n",
            "500\n",
            "Страница получена! limit: 500, offset: 10500\n",
            "500\n",
            "Страница получена! limit: 500, offset: 11000\n",
            "500\n",
            "Страница получена! limit: 500, offset: 11500\n",
            "217\n",
            "Страница получена! limit: 500, offset: 12000\n",
            "0\n"
          ]
        },
        {
          "output_type": "execute_result",
          "data": {
            "text/plain": [
              "20749485"
            ]
          },
          "metadata": {},
          "execution_count": 1
        }
      ],
      "source": [
        "import requests\n",
        "import json\n",
        "\n",
        "offset_ = 0\n",
        "limit_ = 500\n",
        "all_objects = []\n",
        "\n",
        "while True:\n",
        "    url = f'https://xn--80az8a.xn--d1aqf.xn--p1ai/%D1%81%D0%B5%D1%80%D0%B2%D0%B8%D1%81%D1%8B/api/kn/object?offset={offset_}&limit={limit_}&sortField=devId.devShortCleanNm&sortType=asc&objStatus=0'\n",
        "    tries = 5\n",
        "    while True:\n",
        "        response = requests.get(url)\n",
        "        if response.ok:\n",
        "            print(f'Страница получена! limit: {limit_}, offset: {offset_}')\n",
        "            break\n",
        "        tries -= 1\n",
        "        print(f'Ошибка: {response.status}.')\n",
        "        print(f'Осталось попыток {tries}.')\n",
        "        time.sleep(1 * tries)\n",
        "        if tries <= 0:\n",
        "            raise Exception('too_many_tries')\n",
        "\n",
        "    data_list = response.json().get('data', {}).get('list', [])\n",
        "    print(len(data_list))\n",
        "    if len(data_list) == 0: # прерываемся, если получили пустой массив\n",
        "        break\n",
        "    all_objects += data_list\n",
        "    offset_ += limit_\n",
        "\n",
        "json_str = json.dumps(all_objects)\n",
        "open('all_objects.json', 'w').write(json_str)"
      ]
    },
    {
      "cell_type": "code",
      "execution_count": 29,
      "id": "65eb3a9f",
      "metadata": {
        "colab": {
          "base_uri": "https://localhost:8080/"
        },
        "id": "65eb3a9f",
        "outputId": "f09b97b9-7d31-45d4-8882-e098f46c26f2"
      },
      "outputs": [
        {
          "output_type": "stream",
          "name": "stdout",
          "text": [
            "11717\n"
          ]
        }
      ],
      "source": [
        "print(len(all_objects))"
      ]
    },
    {
      "cell_type": "code",
      "execution_count": 4,
      "id": "53dfab4c",
      "metadata": {
        "colab": {
          "base_uri": "https://localhost:8080/"
        },
        "id": "53dfab4c",
        "outputId": "dd506a5a-9b0d-48ce-becd-fa4efe8229e1"
      },
      "outputs": [
        {
          "output_type": "stream",
          "name": "stdout",
          "text": [
            "11717\n"
          ]
        }
      ],
      "source": [
        "import json\n",
        "f = open('all_objects.json')\n",
        "t = f.read()\n",
        "#print(t)\n",
        "all_objects = json.loads(t)\n",
        "print(len(all_objects))"
      ]
    },
    {
      "cell_type": "code",
      "execution_count": 5,
      "id": "a9783172",
      "metadata": {
        "id": "a9783172"
      },
      "outputs": [],
      "source": [
        "# Создаем таблицу DataFrame из всех полученных данных\n",
        "import pandas as pd\n",
        "df = pd.json_normalize(all_objects)"
      ]
    },
    {
      "cell_type": "code",
      "source": [
        "df.shape"
      ],
      "metadata": {
        "colab": {
          "base_uri": "https://localhost:8080/"
        },
        "id": "T4P9fLPGzkcP",
        "outputId": "8224b6ce-879e-4adc-e7a8-bd73e0191b6d"
      },
      "id": "T4P9fLPGzkcP",
      "execution_count": 6,
      "outputs": [
        {
          "output_type": "execute_result",
          "data": {
            "text/plain": [
              "(11717, 39)"
            ]
          },
          "metadata": {},
          "execution_count": 6
        }
      ]
    },
    {
      "cell_type": "code",
      "source": [
        "df.head()"
      ],
      "metadata": {
        "colab": {
          "base_uri": "https://localhost:8080/",
          "height": 429
        },
        "id": "k7Hv7nH_zkWa",
        "outputId": "d0ccb465-3663-4810-d547-966ac5cebc47"
      },
      "id": "k7Hv7nH_zkWa",
      "execution_count": 7,
      "outputs": [
        {
          "output_type": "execute_result",
          "data": {
            "text/plain": [
              "   hobjId  objId  rpdRegionCd                          objAddr  objFloorMin  \\\n",
              "0   34754  13399           72  г Тюмень, ул Профсоюзная, д. 56            1   \n",
              "1   39024  13383           72  г Тюмень, ул Профсоюзная, д. 56            4   \n",
              "2   37201  13397           72  г Тюмень, ул Профсоюзная, д. 56            6   \n",
              "3   37165  13398           72  г Тюмень, ул Профсоюзная, д. 56            7   \n",
              "4   37219  13391           72  г Тюмень, ул Профсоюзная, д. 56            3   \n",
              "\n",
              "   objFloorMax  objElemLivingCnt objReady100PercDt  objSquareLiving  \\\n",
              "0            1                 0        2024-12-31             0.00   \n",
              "1           20                68        2023-12-31          6423.85   \n",
              "2           12                65        2024-12-31          6251.10   \n",
              "3           10                43        2024-12-31          4812.98   \n",
              "4           12                44        2023-12-31          4343.90   \n",
              "\n",
              "   objCompensFundFlg  ...  developer.orgForm.fullForm  \\\n",
              "0                  0  ...        Акционерное общество   \n",
              "1                  1  ...        Акционерное общество   \n",
              "2                  0  ...        Акционерное общество   \n",
              "3                  0  ...        Акционерное общество   \n",
              "4                  1  ...        Акционерное общество   \n",
              "\n",
              "   developer.orgForm.shortForm  developer.companyGroup developer.devInn  \\\n",
              "0                           АО                  5776.0       7701651356   \n",
              "1                           АО                  5776.0       7701651356   \n",
              "2                           АО                  5776.0       7701651356   \n",
              "3                           АО                  5776.0       7701651356   \n",
              "4                           АО                  5776.0       7701651356   \n",
              "\n",
              "  objCommercNm  complexShortName  developer.bankruptStage.bankruptStageCd  \\\n",
              "0          NaN               NaN                                      NaN   \n",
              "1          NaN               NaN                                      NaN   \n",
              "2          NaN               NaN                                      NaN   \n",
              "3          NaN               NaN                                      NaN   \n",
              "4          NaN               NaN                                      NaN   \n",
              "\n",
              "  developer.bankruptStage.bankruptStageDesc  \\\n",
              "0                                       NaN   \n",
              "1                                       NaN   \n",
              "2                                       NaN   \n",
              "3                                       NaN   \n",
              "4                                       NaN   \n",
              "\n",
              "   developer.bankruptStage.bankruptLawUrl developer.orgBankruptMsgDttm  \n",
              "0                                     NaN                          NaN  \n",
              "1                                     NaN                          NaN  \n",
              "2                                     NaN                          NaN  \n",
              "3                                     NaN                          NaN  \n",
              "4                                     NaN                          NaN  \n",
              "\n",
              "[5 rows x 39 columns]"
            ],
            "text/html": [
              "\n",
              "  <div id=\"df-9b630dc1-7e26-4e02-8c2d-44b73a2a87b4\" class=\"colab-df-container\">\n",
              "    <div>\n",
              "<style scoped>\n",
              "    .dataframe tbody tr th:only-of-type {\n",
              "        vertical-align: middle;\n",
              "    }\n",
              "\n",
              "    .dataframe tbody tr th {\n",
              "        vertical-align: top;\n",
              "    }\n",
              "\n",
              "    .dataframe thead th {\n",
              "        text-align: right;\n",
              "    }\n",
              "</style>\n",
              "<table border=\"1\" class=\"dataframe\">\n",
              "  <thead>\n",
              "    <tr style=\"text-align: right;\">\n",
              "      <th></th>\n",
              "      <th>hobjId</th>\n",
              "      <th>objId</th>\n",
              "      <th>rpdRegionCd</th>\n",
              "      <th>objAddr</th>\n",
              "      <th>objFloorMin</th>\n",
              "      <th>objFloorMax</th>\n",
              "      <th>objElemLivingCnt</th>\n",
              "      <th>objReady100PercDt</th>\n",
              "      <th>objSquareLiving</th>\n",
              "      <th>objCompensFundFlg</th>\n",
              "      <th>...</th>\n",
              "      <th>developer.orgForm.fullForm</th>\n",
              "      <th>developer.orgForm.shortForm</th>\n",
              "      <th>developer.companyGroup</th>\n",
              "      <th>developer.devInn</th>\n",
              "      <th>objCommercNm</th>\n",
              "      <th>complexShortName</th>\n",
              "      <th>developer.bankruptStage.bankruptStageCd</th>\n",
              "      <th>developer.bankruptStage.bankruptStageDesc</th>\n",
              "      <th>developer.bankruptStage.bankruptLawUrl</th>\n",
              "      <th>developer.orgBankruptMsgDttm</th>\n",
              "    </tr>\n",
              "  </thead>\n",
              "  <tbody>\n",
              "    <tr>\n",
              "      <th>0</th>\n",
              "      <td>34754</td>\n",
              "      <td>13399</td>\n",
              "      <td>72</td>\n",
              "      <td>г Тюмень, ул Профсоюзная, д. 56</td>\n",
              "      <td>1</td>\n",
              "      <td>1</td>\n",
              "      <td>0</td>\n",
              "      <td>2024-12-31</td>\n",
              "      <td>0.00</td>\n",
              "      <td>0</td>\n",
              "      <td>...</td>\n",
              "      <td>Акционерное общество</td>\n",
              "      <td>АО</td>\n",
              "      <td>5776.0</td>\n",
              "      <td>7701651356</td>\n",
              "      <td>NaN</td>\n",
              "      <td>NaN</td>\n",
              "      <td>NaN</td>\n",
              "      <td>NaN</td>\n",
              "      <td>NaN</td>\n",
              "      <td>NaN</td>\n",
              "    </tr>\n",
              "    <tr>\n",
              "      <th>1</th>\n",
              "      <td>39024</td>\n",
              "      <td>13383</td>\n",
              "      <td>72</td>\n",
              "      <td>г Тюмень, ул Профсоюзная, д. 56</td>\n",
              "      <td>4</td>\n",
              "      <td>20</td>\n",
              "      <td>68</td>\n",
              "      <td>2023-12-31</td>\n",
              "      <td>6423.85</td>\n",
              "      <td>1</td>\n",
              "      <td>...</td>\n",
              "      <td>Акционерное общество</td>\n",
              "      <td>АО</td>\n",
              "      <td>5776.0</td>\n",
              "      <td>7701651356</td>\n",
              "      <td>NaN</td>\n",
              "      <td>NaN</td>\n",
              "      <td>NaN</td>\n",
              "      <td>NaN</td>\n",
              "      <td>NaN</td>\n",
              "      <td>NaN</td>\n",
              "    </tr>\n",
              "    <tr>\n",
              "      <th>2</th>\n",
              "      <td>37201</td>\n",
              "      <td>13397</td>\n",
              "      <td>72</td>\n",
              "      <td>г Тюмень, ул Профсоюзная, д. 56</td>\n",
              "      <td>6</td>\n",
              "      <td>12</td>\n",
              "      <td>65</td>\n",
              "      <td>2024-12-31</td>\n",
              "      <td>6251.10</td>\n",
              "      <td>0</td>\n",
              "      <td>...</td>\n",
              "      <td>Акционерное общество</td>\n",
              "      <td>АО</td>\n",
              "      <td>5776.0</td>\n",
              "      <td>7701651356</td>\n",
              "      <td>NaN</td>\n",
              "      <td>NaN</td>\n",
              "      <td>NaN</td>\n",
              "      <td>NaN</td>\n",
              "      <td>NaN</td>\n",
              "      <td>NaN</td>\n",
              "    </tr>\n",
              "    <tr>\n",
              "      <th>3</th>\n",
              "      <td>37165</td>\n",
              "      <td>13398</td>\n",
              "      <td>72</td>\n",
              "      <td>г Тюмень, ул Профсоюзная, д. 56</td>\n",
              "      <td>7</td>\n",
              "      <td>10</td>\n",
              "      <td>43</td>\n",
              "      <td>2024-12-31</td>\n",
              "      <td>4812.98</td>\n",
              "      <td>0</td>\n",
              "      <td>...</td>\n",
              "      <td>Акционерное общество</td>\n",
              "      <td>АО</td>\n",
              "      <td>5776.0</td>\n",
              "      <td>7701651356</td>\n",
              "      <td>NaN</td>\n",
              "      <td>NaN</td>\n",
              "      <td>NaN</td>\n",
              "      <td>NaN</td>\n",
              "      <td>NaN</td>\n",
              "      <td>NaN</td>\n",
              "    </tr>\n",
              "    <tr>\n",
              "      <th>4</th>\n",
              "      <td>37219</td>\n",
              "      <td>13391</td>\n",
              "      <td>72</td>\n",
              "      <td>г Тюмень, ул Профсоюзная, д. 56</td>\n",
              "      <td>3</td>\n",
              "      <td>12</td>\n",
              "      <td>44</td>\n",
              "      <td>2023-12-31</td>\n",
              "      <td>4343.90</td>\n",
              "      <td>1</td>\n",
              "      <td>...</td>\n",
              "      <td>Акционерное общество</td>\n",
              "      <td>АО</td>\n",
              "      <td>5776.0</td>\n",
              "      <td>7701651356</td>\n",
              "      <td>NaN</td>\n",
              "      <td>NaN</td>\n",
              "      <td>NaN</td>\n",
              "      <td>NaN</td>\n",
              "      <td>NaN</td>\n",
              "      <td>NaN</td>\n",
              "    </tr>\n",
              "  </tbody>\n",
              "</table>\n",
              "<p>5 rows × 39 columns</p>\n",
              "</div>\n",
              "    <div class=\"colab-df-buttons\">\n",
              "\n",
              "  <div class=\"colab-df-container\">\n",
              "    <button class=\"colab-df-convert\" onclick=\"convertToInteractive('df-9b630dc1-7e26-4e02-8c2d-44b73a2a87b4')\"\n",
              "            title=\"Convert this dataframe to an interactive table.\"\n",
              "            style=\"display:none;\">\n",
              "\n",
              "  <svg xmlns=\"http://www.w3.org/2000/svg\" height=\"24px\" viewBox=\"0 -960 960 960\">\n",
              "    <path d=\"M120-120v-720h720v720H120Zm60-500h600v-160H180v160Zm220 220h160v-160H400v160Zm0 220h160v-160H400v160ZM180-400h160v-160H180v160Zm440 0h160v-160H620v160ZM180-180h160v-160H180v160Zm440 0h160v-160H620v160Z\"/>\n",
              "  </svg>\n",
              "    </button>\n",
              "\n",
              "  <style>\n",
              "    .colab-df-container {\n",
              "      display:flex;\n",
              "      gap: 12px;\n",
              "    }\n",
              "\n",
              "    .colab-df-convert {\n",
              "      background-color: #E8F0FE;\n",
              "      border: none;\n",
              "      border-radius: 50%;\n",
              "      cursor: pointer;\n",
              "      display: none;\n",
              "      fill: #1967D2;\n",
              "      height: 32px;\n",
              "      padding: 0 0 0 0;\n",
              "      width: 32px;\n",
              "    }\n",
              "\n",
              "    .colab-df-convert:hover {\n",
              "      background-color: #E2EBFA;\n",
              "      box-shadow: 0px 1px 2px rgba(60, 64, 67, 0.3), 0px 1px 3px 1px rgba(60, 64, 67, 0.15);\n",
              "      fill: #174EA6;\n",
              "    }\n",
              "\n",
              "    .colab-df-buttons div {\n",
              "      margin-bottom: 4px;\n",
              "    }\n",
              "\n",
              "    [theme=dark] .colab-df-convert {\n",
              "      background-color: #3B4455;\n",
              "      fill: #D2E3FC;\n",
              "    }\n",
              "\n",
              "    [theme=dark] .colab-df-convert:hover {\n",
              "      background-color: #434B5C;\n",
              "      box-shadow: 0px 1px 3px 1px rgba(0, 0, 0, 0.15);\n",
              "      filter: drop-shadow(0px 1px 2px rgba(0, 0, 0, 0.3));\n",
              "      fill: #FFFFFF;\n",
              "    }\n",
              "  </style>\n",
              "\n",
              "    <script>\n",
              "      const buttonEl =\n",
              "        document.querySelector('#df-9b630dc1-7e26-4e02-8c2d-44b73a2a87b4 button.colab-df-convert');\n",
              "      buttonEl.style.display =\n",
              "        google.colab.kernel.accessAllowed ? 'block' : 'none';\n",
              "\n",
              "      async function convertToInteractive(key) {\n",
              "        const element = document.querySelector('#df-9b630dc1-7e26-4e02-8c2d-44b73a2a87b4');\n",
              "        const dataTable =\n",
              "          await google.colab.kernel.invokeFunction('convertToInteractive',\n",
              "                                                    [key], {});\n",
              "        if (!dataTable) return;\n",
              "\n",
              "        const docLinkHtml = 'Like what you see? Visit the ' +\n",
              "          '<a target=\"_blank\" href=https://colab.research.google.com/notebooks/data_table.ipynb>data table notebook</a>'\n",
              "          + ' to learn more about interactive tables.';\n",
              "        element.innerHTML = '';\n",
              "        dataTable['output_type'] = 'display_data';\n",
              "        await google.colab.output.renderOutput(dataTable, element);\n",
              "        const docLink = document.createElement('div');\n",
              "        docLink.innerHTML = docLinkHtml;\n",
              "        element.appendChild(docLink);\n",
              "      }\n",
              "    </script>\n",
              "  </div>\n",
              "\n",
              "\n",
              "<div id=\"df-018a7fe1-54ac-425d-87b3-c1a345bad28d\">\n",
              "  <button class=\"colab-df-quickchart\" onclick=\"quickchart('df-018a7fe1-54ac-425d-87b3-c1a345bad28d')\"\n",
              "            title=\"Suggest charts\"\n",
              "            style=\"display:none;\">\n",
              "\n",
              "<svg xmlns=\"http://www.w3.org/2000/svg\" height=\"24px\"viewBox=\"0 0 24 24\"\n",
              "     width=\"24px\">\n",
              "    <g>\n",
              "        <path d=\"M19 3H5c-1.1 0-2 .9-2 2v14c0 1.1.9 2 2 2h14c1.1 0 2-.9 2-2V5c0-1.1-.9-2-2-2zM9 17H7v-7h2v7zm4 0h-2V7h2v10zm4 0h-2v-4h2v4z\"/>\n",
              "    </g>\n",
              "</svg>\n",
              "  </button>\n",
              "\n",
              "<style>\n",
              "  .colab-df-quickchart {\n",
              "      --bg-color: #E8F0FE;\n",
              "      --fill-color: #1967D2;\n",
              "      --hover-bg-color: #E2EBFA;\n",
              "      --hover-fill-color: #174EA6;\n",
              "      --disabled-fill-color: #AAA;\n",
              "      --disabled-bg-color: #DDD;\n",
              "  }\n",
              "\n",
              "  [theme=dark] .colab-df-quickchart {\n",
              "      --bg-color: #3B4455;\n",
              "      --fill-color: #D2E3FC;\n",
              "      --hover-bg-color: #434B5C;\n",
              "      --hover-fill-color: #FFFFFF;\n",
              "      --disabled-bg-color: #3B4455;\n",
              "      --disabled-fill-color: #666;\n",
              "  }\n",
              "\n",
              "  .colab-df-quickchart {\n",
              "    background-color: var(--bg-color);\n",
              "    border: none;\n",
              "    border-radius: 50%;\n",
              "    cursor: pointer;\n",
              "    display: none;\n",
              "    fill: var(--fill-color);\n",
              "    height: 32px;\n",
              "    padding: 0;\n",
              "    width: 32px;\n",
              "  }\n",
              "\n",
              "  .colab-df-quickchart:hover {\n",
              "    background-color: var(--hover-bg-color);\n",
              "    box-shadow: 0 1px 2px rgba(60, 64, 67, 0.3), 0 1px 3px 1px rgba(60, 64, 67, 0.15);\n",
              "    fill: var(--button-hover-fill-color);\n",
              "  }\n",
              "\n",
              "  .colab-df-quickchart-complete:disabled,\n",
              "  .colab-df-quickchart-complete:disabled:hover {\n",
              "    background-color: var(--disabled-bg-color);\n",
              "    fill: var(--disabled-fill-color);\n",
              "    box-shadow: none;\n",
              "  }\n",
              "\n",
              "  .colab-df-spinner {\n",
              "    border: 2px solid var(--fill-color);\n",
              "    border-color: transparent;\n",
              "    border-bottom-color: var(--fill-color);\n",
              "    animation:\n",
              "      spin 1s steps(1) infinite;\n",
              "  }\n",
              "\n",
              "  @keyframes spin {\n",
              "    0% {\n",
              "      border-color: transparent;\n",
              "      border-bottom-color: var(--fill-color);\n",
              "      border-left-color: var(--fill-color);\n",
              "    }\n",
              "    20% {\n",
              "      border-color: transparent;\n",
              "      border-left-color: var(--fill-color);\n",
              "      border-top-color: var(--fill-color);\n",
              "    }\n",
              "    30% {\n",
              "      border-color: transparent;\n",
              "      border-left-color: var(--fill-color);\n",
              "      border-top-color: var(--fill-color);\n",
              "      border-right-color: var(--fill-color);\n",
              "    }\n",
              "    40% {\n",
              "      border-color: transparent;\n",
              "      border-right-color: var(--fill-color);\n",
              "      border-top-color: var(--fill-color);\n",
              "    }\n",
              "    60% {\n",
              "      border-color: transparent;\n",
              "      border-right-color: var(--fill-color);\n",
              "    }\n",
              "    80% {\n",
              "      border-color: transparent;\n",
              "      border-right-color: var(--fill-color);\n",
              "      border-bottom-color: var(--fill-color);\n",
              "    }\n",
              "    90% {\n",
              "      border-color: transparent;\n",
              "      border-bottom-color: var(--fill-color);\n",
              "    }\n",
              "  }\n",
              "</style>\n",
              "\n",
              "  <script>\n",
              "    async function quickchart(key) {\n",
              "      const quickchartButtonEl =\n",
              "        document.querySelector('#' + key + ' button');\n",
              "      quickchartButtonEl.disabled = true;  // To prevent multiple clicks.\n",
              "      quickchartButtonEl.classList.add('colab-df-spinner');\n",
              "      try {\n",
              "        const charts = await google.colab.kernel.invokeFunction(\n",
              "            'suggestCharts', [key], {});\n",
              "      } catch (error) {\n",
              "        console.error('Error during call to suggestCharts:', error);\n",
              "      }\n",
              "      quickchartButtonEl.classList.remove('colab-df-spinner');\n",
              "      quickchartButtonEl.classList.add('colab-df-quickchart-complete');\n",
              "    }\n",
              "    (() => {\n",
              "      let quickchartButtonEl =\n",
              "        document.querySelector('#df-018a7fe1-54ac-425d-87b3-c1a345bad28d button');\n",
              "      quickchartButtonEl.style.display =\n",
              "        google.colab.kernel.accessAllowed ? 'block' : 'none';\n",
              "    })();\n",
              "  </script>\n",
              "</div>\n",
              "    </div>\n",
              "  </div>\n"
            ]
          },
          "metadata": {},
          "execution_count": 7
        }
      ]
    },
    {
      "cell_type": "code",
      "source": [
        "# Сохраняем в csv файл\n",
        "df.to_csv('vacancies.csv', index=False)\n",
        "# Сохраняем в эксель-файл\n",
        "df.to_excel('vacancies.xlsx', index=False)\n",
        "# Сохраняем в файл в формате pickle\n",
        "df.to_pickle('vacancies.pkl')"
      ],
      "metadata": {
        "id": "dDs4Tbz9zkh2"
      },
      "id": "dDs4Tbz9zkh2",
      "execution_count": 8,
      "outputs": []
    },
    {
      "cell_type": "code",
      "source": [
        "#full_obj = []\n",
        "#for dom_id in tqdm(full_domID):\n",
        "   # url = f'https://xn--80az8a.xn--d1aqf.xn--p1ai/%D1%81%D0%B5%D1%80%D0%B2%D0%B8%D1%81%D1%8B/api/object/{dom_id}'\n",
        "   # ress = requests.get(url)\n",
        "  #  one_dom = ress.json()\n",
        "    #full_obj.append(one_dom)"
      ],
      "metadata": {
        "id": "UnCyLEzQzknt"
      },
      "id": "UnCyLEzQzknt",
      "execution_count": null,
      "outputs": []
    },
    {
      "cell_type": "code",
      "source": [
        "df.columns"
      ],
      "metadata": {
        "colab": {
          "base_uri": "https://localhost:8080/"
        },
        "id": "5po4lhYV-ZAP",
        "outputId": "0267d5c0-51a7-432f-d107-fe59ca8a0653"
      },
      "id": "5po4lhYV-ZAP",
      "execution_count": 9,
      "outputs": [
        {
          "output_type": "execute_result",
          "data": {
            "text/plain": [
              "Index(['hobjId', 'objId', 'rpdRegionCd', 'objAddr', 'objFloorMin',\n",
              "       'objFloorMax', 'objElemLivingCnt', 'objReady100PercDt',\n",
              "       'objSquareLiving', 'objCompensFundFlg', 'objProblemFlg', 'latitude',\n",
              "       'longitude', 'problemFlag', 'siteStatus', 'objGuarantyEscrowFlg',\n",
              "       'residentialBuildings', 'rpdNum', 'pdId', 'buildType', 'objStatus',\n",
              "       'hobjRenderPhotoUrl', 'objPriceAVG', 'objPublDt', 'developer.devId',\n",
              "       'developer.shortName', 'developer.fullName', 'developer.groupName',\n",
              "       'developer.orgForm.id', 'developer.orgForm.fullForm',\n",
              "       'developer.orgForm.shortForm', 'developer.companyGroup',\n",
              "       'developer.devInn', 'objCommercNm', 'complexShortName',\n",
              "       'developer.bankruptStage.bankruptStageCd',\n",
              "       'developer.bankruptStage.bankruptStageDesc',\n",
              "       'developer.bankruptStage.bankruptLawUrl',\n",
              "       'developer.orgBankruptMsgDttm'],\n",
              "      dtype='object')"
            ]
          },
          "metadata": {},
          "execution_count": 9
        }
      ]
    },
    {
      "cell_type": "code",
      "source": [
        "type(df.objReady100PercDt[0])"
      ],
      "metadata": {
        "colab": {
          "base_uri": "https://localhost:8080/"
        },
        "id": "FsnEfA6V-ZH4",
        "outputId": "c1c5efbb-f525-4e9d-e8f1-34a32223affb"
      },
      "id": "FsnEfA6V-ZH4",
      "execution_count": 10,
      "outputs": [
        {
          "output_type": "execute_result",
          "data": {
            "text/plain": [
              "str"
            ]
          },
          "metadata": {},
          "execution_count": 10
        }
      ]
    },
    {
      "cell_type": "code",
      "source": [
        "#df_norm = df\n",
        "#df_norm.columns\n",
        "#drop multiple columns by name\n",
        "#df_norm.drop(['hobjId',   'objFloorMin',\n",
        " #      'objFloorMax', 'objElemLivingCnt',\n",
        "  #      'objCompensFundFlg', 'objProblemFlg', 'latitude',\n",
        "  #     'longitude', 'problemFlag', 'siteStatus', 'objGuarantyEscrowFlg',\n",
        "  #     'residentialBuildings', 'rpdNum', 'pdId', 'objStatus',\n",
        "  #     'hobjRenderPhotoUrl',  'objPublDt', 'developer.devId',\n",
        "  #     'developer.shortName', 'developer.fullName',\n",
        "  #     'developer.orgForm.id', 'developer.orgForm.fullForm',\n",
        "  #     'developer.orgForm.shortForm', 'developer.companyGroup',\n",
        "  #       'complexShortName',\n",
        "   #    'developer.bankruptStage.bankruptStageCd',\n",
        "   #    'developer.bankruptStage.bankruptStageDesc',\n",
        "   #    'developer.bankruptStage.bankruptLawUrl',\n",
        "    #   'developer.orgBankruptMsgDttm'], axis= 1 , inplace= True )\n"
      ],
      "metadata": {
        "id": "Cv8J40A8-ZKB"
      },
      "id": "Cv8J40A8-ZKB",
      "execution_count": null,
      "outputs": []
    },
    {
      "cell_type": "code",
      "source": [
        "#objId\n",
        "#rpdRegionCd\n",
        "#objAddr\n",
        "#objReady100PercDt\n",
        "#objSquareLiving\n",
        "#buildType\n",
        "#objPriceAVG\n",
        "#developer.groupName\n",
        "#developer.devInn\n",
        "#objCommercNm\n",
        "#df_norm.columns"
      ],
      "metadata": {
        "id": "lsqM0YT7BJ4d"
      },
      "id": "lsqM0YT7BJ4d",
      "execution_count": 26,
      "outputs": []
    },
    {
      "cell_type": "code",
      "source": [
        "df.columns"
      ],
      "metadata": {
        "colab": {
          "base_uri": "https://localhost:8080/"
        },
        "id": "jGAAHdeX-ZLw",
        "outputId": "921385a7-bdcf-46a8-9cb3-4e75c690afe2"
      },
      "id": "jGAAHdeX-ZLw",
      "execution_count": 11,
      "outputs": [
        {
          "output_type": "execute_result",
          "data": {
            "text/plain": [
              "Index(['hobjId', 'objId', 'rpdRegionCd', 'objAddr', 'objFloorMin',\n",
              "       'objFloorMax', 'objElemLivingCnt', 'objReady100PercDt',\n",
              "       'objSquareLiving', 'objCompensFundFlg', 'objProblemFlg', 'latitude',\n",
              "       'longitude', 'problemFlag', 'siteStatus', 'objGuarantyEscrowFlg',\n",
              "       'residentialBuildings', 'rpdNum', 'pdId', 'buildType', 'objStatus',\n",
              "       'hobjRenderPhotoUrl', 'objPriceAVG', 'objPublDt', 'developer.devId',\n",
              "       'developer.shortName', 'developer.fullName', 'developer.groupName',\n",
              "       'developer.orgForm.id', 'developer.orgForm.fullForm',\n",
              "       'developer.orgForm.shortForm', 'developer.companyGroup',\n",
              "       'developer.devInn', 'objCommercNm', 'complexShortName',\n",
              "       'developer.bankruptStage.bankruptStageCd',\n",
              "       'developer.bankruptStage.bankruptStageDesc',\n",
              "       'developer.bankruptStage.bankruptLawUrl',\n",
              "       'developer.orgBankruptMsgDttm'],\n",
              "      dtype='object')"
            ]
          },
          "metadata": {},
          "execution_count": 11
        }
      ]
    },
    {
      "cell_type": "code",
      "source": [
        "bm_price_series = df.set_index('objAddr')['objPriceAVG']\n",
        "bm_price_series.head()"
      ],
      "metadata": {
        "colab": {
          "base_uri": "https://localhost:8080/"
        },
        "id": "ua_sSUvW-ZNq",
        "outputId": "4b90d789-8ff5-4971-a2ae-c65f1a180418"
      },
      "id": "ua_sSUvW-ZNq",
      "execution_count": 12,
      "outputs": [
        {
          "output_type": "execute_result",
          "data": {
            "text/plain": [
              "objAddr\n",
              "г Тюмень, ул Профсоюзная, д. 56    50768.0\n",
              "г Тюмень, ул Профсоюзная, д. 56    67159.0\n",
              "г Тюмень, ул Профсоюзная, д. 56    47163.0\n",
              "г Тюмень, ул Профсоюзная, д. 56    47886.0\n",
              "г Тюмень, ул Профсоюзная, д. 56    62638.0\n",
              "Name: objPriceAVG, dtype: float64"
            ]
          },
          "metadata": {},
          "execution_count": 12
        }
      ]
    },
    {
      "cell_type": "code",
      "source": [
        "import os\n",
        "import numpy as np\n",
        "import pandas as pd\n",
        "import matplotlib.pyplot as plt"
      ],
      "metadata": {
        "id": "qLP-wGJ6hsb_"
      },
      "id": "qLP-wGJ6hsb_",
      "execution_count": 20,
      "outputs": []
    },
    {
      "cell_type": "code",
      "source": [
        "price_by_region = df[df['objPriceAVG'].notnull()].groupby('rpdRegionCd')['objPriceAVG'].mean()"
      ],
      "metadata": {
        "id": "3niqo9JukSK8"
      },
      "id": "3niqo9JukSK8",
      "execution_count": 22,
      "outputs": []
    },
    {
      "cell_type": "code",
      "source": [
        "#price_by_region = df[df['objPriceAVG'].notnull()].groupby('rpdRegionCd')['objPriceAVG'].mean()\n",
        "\n",
        "import matplotlib.pyplot as plt\n",
        "price_by_region.plot(kind='bar')\n",
        "plt.show"
      ],
      "metadata": {
        "colab": {
          "base_uri": "https://localhost:8080/",
          "height": 470
        },
        "id": "uUFRSL1kiyxA",
        "outputId": "6480937c-450c-4936-f1fd-85a1c72b56a0"
      },
      "id": "uUFRSL1kiyxA",
      "execution_count": 14,
      "outputs": [
        {
          "output_type": "execute_result",
          "data": {
            "text/plain": [
              "<function matplotlib.pyplot.show(close=None, block=None)>"
            ]
          },
          "metadata": {},
          "execution_count": 14
        },
        {
          "output_type": "display_data",
          "data": {
            "text/plain": [
              "<Figure size 640x480 with 1 Axes>"
            ],
            "image/png": "[encoded data removed]"
          },
          "metadata": {}
        }
      ]
    },
    {
      "cell_type": "code",
      "source": [
        "from pylab import rcParams\n",
        "rcParams['figure.figsize'] = 19,12\n",
        "price_by_region.plot(kind='bar')\n",
        "plt.xlabel('Регионы')\n",
        "plt.show()"
      ],
      "metadata": {
        "colab": {
          "base_uri": "https://localhost:8080/",
          "height": 1000
        },
        "id": "8p90ZwOSg0Sz",
        "outputId": "8bd644e2-b2ba-4f6e-f2ff-b3ba0cb39183"
      },
      "id": "8p90ZwOSg0Sz",
      "execution_count": 25,
      "outputs": [
        {
          "output_type": "display_data",
          "data": {
            "text/plain": [
              "<Figure size 1900x1200 with 1 Axes>"
            ],
            "image/png": "[encoded data removed]"
          },
          "metadata": {}
        }
      ]
    },
    {
      "cell_type": "code",
      "source": [
        "price_by_region.sort_values(ascending=False).plot(kind='barh')\n",
        "plt.ylabel('Регионы')\n",
        "plt.show()"
      ],
      "metadata": {
        "colab": {
          "base_uri": "https://localhost:8080/",
          "height": 984
        },
        "id": "OoaTP6QOlhIz",
        "outputId": "4af0fcb7-4144-4e0f-f694-3d14869814b9"
      },
      "id": "OoaTP6QOlhIz",
      "execution_count": 28,
      "outputs": [
        {
          "output_type": "display_data",
          "data": {
            "text/plain": [
              "<Figure size 1900x1200 with 1 Axes>"
            ],
            "image/png": "[encoded data removed]"
          },
          "metadata": {}
        }
      ]
    }
  ],
  "metadata": {
    "kernelspec": {
      "display_name": "Python 3 (ipykernel)",
      "language": "python",
      "name": "python3"
    },
    "language_info": {
      "codemirror_mode": {
        "name": "ipython",
        "version": 3
      },
      "file_extension": ".py",
      "mimetype": "text/x-python",
      "name": "python",
      "nbconvert_exporter": "python",
      "pygments_lexer": "ipython3",
      "version": "3.9.13"
    },
    "colab": {
      "provenance": [],
      "include_colab_link": true
    }
  },
  "nbformat": 4,
  "nbformat_minor": 5
}