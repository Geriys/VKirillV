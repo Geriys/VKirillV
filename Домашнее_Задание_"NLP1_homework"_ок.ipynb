{
  "nbformat": 4,
  "nbformat_minor": 0,
  "metadata": {
    "colab": {
      "provenance": [],
      "include_colab_link": true
    },
    "kernelspec": {
      "name": "python3",
      "display_name": "Python 3"
    },
    "language_info": {
      "name": "python"
    }
  },
  "cells": [
    {
      "cell_type": "markdown",
      "metadata": {
        "id": "view-in-github",
        "colab_type": "text"
      },
      "source": [
        "<a href=\"https://colab.research.google.com/github/Geriys/VKirillV/blob/main/%D0%94%D0%BE%D0%BC%D0%B0%D1%88%D0%BD%D0%B5%D0%B5_%D0%97%D0%B0%D0%B4%D0%B0%D0%BD%D0%B8%D0%B5_%22NLP1_homework%22_%D0%BE%D0%BA.ipynb\" target=\"_parent\"><img src=\"https://colab.research.google.com/assets/colab-badge.svg\" alt=\"Open In Colab\"/></a>"
      ]
    },
    {
      "cell_type": "markdown",
      "source": [
        "###ML1_1:\n",
        "https://www.hackerrank.com/challenges/capturing-non-capturing-groups/problem?isFullScreen=true\n",
        "\n",
        "###ML1_2:\n",
        "https://www.hackerrank.com/challenges/branch-reset-groups/problem?isFullScreen=true\n",
        "\n",
        "###ML1_3:\n",
        "https://www.hackerrank.com/challenges/detect-html-links/problem?isFullScreen=true\n",
        "\n",
        "###ML1_4: Реализовать stemming, lemmatization & BoW на следующем датасете: https://cloud.mail.ru/public/Z4L3/vB8GcgTtK (Russian Toxic-abuse comments)"
      ],
      "metadata": {
        "id": "dH7qx_irU4Y8"
      }
    },
    {
      "cell_type": "code",
      "source": [
        "# ML1_1:"
      ],
      "metadata": {
        "id": "xJfkstKpqsXp"
      },
      "execution_count": null,
      "outputs": []
    },
    {
      "cell_type": "code",
      "source": [
        "Regex_Pattern = r'(ok){3,}'\t# Do not delete 'r'."
      ],
      "metadata": {
        "id": "mrMjeykGyYME"
      },
      "execution_count": null,
      "outputs": []
    },
    {
      "cell_type": "code",
      "source": [
        "# ML1_2:"
      ],
      "metadata": {
        "id": "tdUp3v4hyaG2"
      },
      "execution_count": null,
      "outputs": []
    },
    {
      "cell_type": "code",
      "source": [
        "Regex_Pattern = ^\\d{2}(-(?:--)?|\\.|:)\\d{2}\\1\\d{2}\\1\\d{2}$"
      ],
      "metadata": {
        "id": "HVZBbNUgbiRW"
      },
      "execution_count": null,
      "outputs": []
    },
    {
      "cell_type": "code",
      "source": [
        "Regex_Pattern = '^(\\d{2}(?:-|:|---|\\.){1}){3}\\d{2}$'"
      ],
      "metadata": {
        "id": "yvkq_ZDVfQKF"
      },
      "execution_count": null,
      "outputs": []
    },
    {
      "cell_type": "code",
      "source": [
        "# ML1_3:"
      ],
      "metadata": {
        "id": "pO82NMbIbiWa"
      },
      "execution_count": null,
      "outputs": []
    },
    {
      "cell_type": "code",
      "source": [
        "import re\n",
        "n = int(input())\n",
        "l = []\n",
        "for i in range(n):\n",
        "    x = str(input())\n",
        "    l.append(x)\n",
        "pattern = re.compile('<a href=\"(.+?)\".*?>(.*?)<\\/a>')\n",
        "for x in l:\n",
        "        a = re.findall(pattern, x)\n",
        "        for z in a:\n",
        "            y1 = z[0].strip()\n",
        "            y2 = z[1].strip()\n",
        "            p2 = re.compile('[<.*>]*(.*?)<.*>')\n",
        "            y2 = re.findall(p2, y2)\n",
        "            if(len(y2) != 0):\n",
        "                y2 = str(y2)\n",
        "                y2 = y2[2:len(y2)-2]\n",
        "                zz = y2.find('>')\n",
        "                y2 = y2[zz+1 : len(y2)]\n",
        "                print(y1+','+y2)\n",
        "            else:\n",
        "                print(y1 + ',' + z[1].strip())"
      ],
      "metadata": {
        "id": "sSl3yguUbiYm"
      },
      "execution_count": null,
      "outputs": []
    },
    {
      "cell_type": "code",
      "source": [
        "# ML1_4: Реализовать stemming, lemmatization & BoW на следующем датасете: https://cloud.mail.ru/public/Z4L3/vB8GcgTtK (Russian Toxic-abuse comments)"
      ],
      "metadata": {
        "id": "9COcYFvhbidC"
      },
      "execution_count": null,
      "outputs": []
    },
    {
      "cell_type": "code",
      "source": [
        "pip install pandas nltk sklearn"
      ],
      "metadata": {
        "id": "R43n3IqaxBZy"
      },
      "execution_count": null,
      "outputs": []
    },
    {
      "cell_type": "code",
      "source": [
        "pip install pymorphy2"
      ],
      "metadata": {
        "id": "PXDzb56xTvSi"
      },
      "execution_count": null,
      "outputs": []
    },
    {
      "cell_type": "code",
      "source": [
        "from nltk.stem.snowball import SnowballStemmer"
      ],
      "metadata": {
        "id": "pIlp72ECm6mP"
      },
      "execution_count": 31,
      "outputs": []
    },
    {
      "cell_type": "code",
      "source": [
        "import nltk\n",
        "nltk.download('punkt')\n",
        "nltk.download('wordnet')"
      ],
      "metadata": {
        "colab": {
          "base_uri": "https://localhost:8080/"
        },
        "id": "O-U5XAZhxBck",
        "outputId": "e40b87d2-c2f6-4416-e1c0-ae726b8e41af"
      },
      "execution_count": 32,
      "outputs": [
        {
          "output_type": "stream",
          "name": "stderr",
          "text": [
            "[nltk_data] Downloading package punkt to /root/nltk_data...\n",
            "[nltk_data]   Package punkt is already up-to-date!\n",
            "[nltk_data] Downloading package wordnet to /root/nltk_data...\n",
            "[nltk_data]   Package wordnet is already up-to-date!\n"
          ]
        },
        {
          "output_type": "execute_result",
          "data": {
            "text/plain": [
              "True"
            ]
          },
          "metadata": {},
          "execution_count": 32
        }
      ]
    },
    {
      "cell_type": "code",
      "source": [
        "import pandas as pd\n",
        "from nltk.stem import WordNetLemmatizer\n",
        "from nltk.tokenize import word_tokenize\n",
        "from sklearn.feature_extraction.text import CountVectorizer"
      ],
      "metadata": {
        "id": "bZLYpDeKxBet"
      },
      "execution_count": 33,
      "outputs": []
    },
    {
      "cell_type": "code",
      "source": [
        "# Загрузка данных из CSV файла\n",
        "df = pd.read_csv('labeled.csv')\n",
        "\n",
        "# Инициализация стеммера и лемматизатора\n",
        "# stemmer = PorterStemmer()\n",
        "stemmer = SnowballStemmer(\"russian\")\n",
        "# lemmatizer = WordNetLemmatizer()\n",
        "lemmatizer = pymorphy2.MorphAnalyzer()\n",
        "\n",
        "# Функция для стемминга\n",
        "def stem_sentences(sentence):\n",
        "    tokens = word_tokenize(sentence)\n",
        "    stemmed_tokens = [stemmer.stem(token) for token in tokens]\n",
        "    return ' '.join(stemmed_tokens)\n",
        "\n",
        "# # Функция для лемматизации (дополнительная функция)\n",
        "# def lemmatize_sentences(sentence):\n",
        "#     tokens = word_tokenize(sentence)\n",
        "#     lemmatized_tokens = [lemmatizer.lemmatize(token) for token in tokens]\n",
        "#     return ' '.join(lemmatized_tokens)\n",
        "\n",
        "# Функция для лемматизации\n",
        "def lemmatize_sentences(sentence):\n",
        "    tokens = word_tokenize(sentence)\n",
        "    lemmatized_tokens = [lemmatizer.parse(token)[0].normal_form for token in tokens]\n",
        "    return ' '.join(lemmatized_tokens)\n",
        "\n",
        "# Применение стемминга и лемматизации к комментариям\n",
        "df['stemmed_comments'] = df['comment'].apply(stem_sentences)\n",
        "df['lemmatized_comments'] = df['comment'].apply(lemmatize_sentences)\n",
        "\n",
        "# Создание матрицы признаков BoW\n",
        "vectorizer = CountVectorizer()\n",
        "bow_matrix = vectorizer.fit_transform(df['comment'])\n",
        "\n",
        "# Вывод результатов\n",
        "print(df[['comment', 'stemmed_comments', 'lemmatized_comments']].head())\n",
        "# print(bow_matrix.toarray())"
      ],
      "metadata": {
        "colab": {
          "base_uri": "https://localhost:8080/"
        },
        "id": "4GPjCe9UxBgv",
        "outputId": "b7847203-fa3b-400c-b0a7-3dceae43428e"
      },
      "execution_count": 35,
      "outputs": [
        {
          "output_type": "stream",
          "name": "stdout",
          "text": [
            "                                             comment  \\\n",
            "0               Верблюдов-то за что? Дебилы, бл...\\n   \n",
            "1  Хохлы, это отдушина затюканого россиянина, мол...   \n",
            "2                          Собаке - собачья смерть\\n   \n",
            "3  Страницу обнови, дебил. Это тоже не оскорблени...   \n",
            "4  тебя не убедил 6-страничный пдф в том, что Скр...   \n",
            "\n",
            "                                    stemmed_comments  \\\n",
            "0                верблюдов-т за что ? дебил , бл ...   \n",
            "1  хохл , эт отдушин затюкан россиянин , мол , во...   \n",
            "2                                собак - собач смерт   \n",
            "3  страниц обнов , деб . эт тож не оскорблен , а ...   \n",
            "4  теб не убед 6-страничн пдф в том , что скрипал...   \n",
            "\n",
            "                                 lemmatized_comments  \n",
            "0                 верблюд-то за что ? дебил , бл ...  \n",
            "1  хохол , это отдушина затюканый россиянин , мол...  \n",
            "2                            собака - собачий смерть  \n",
            "3  страница обновить , дебил . это тоже не оскорб...  \n",
            "4  ты не убедить 6-страничный пдф в тот , что скр...  \n"
          ]
        }
      ]
    },
    {
      "cell_type": "code",
      "source": [
        "df.columns"
      ],
      "metadata": {
        "id": "UIEjnLEoFFkv",
        "colab": {
          "base_uri": "https://localhost:8080/"
        },
        "outputId": "c9e2f4e6-eaee-4719-9c5c-d024b8055f6e"
      },
      "execution_count": 38,
      "outputs": [
        {
          "output_type": "execute_result",
          "data": {
            "text/plain": [
              "Index(['comment', 'toxic', 'stemmed_comments', 'lemmatized_comments'], dtype='object')"
            ]
          },
          "metadata": {},
          "execution_count": 38
        }
      ]
    },
    {
      "cell_type": "code",
      "source": [
        "df.head()"
      ],
      "metadata": {
        "colab": {
          "base_uri": "https://localhost:8080/",
          "height": 206
        },
        "id": "gn6370oiC3p1",
        "outputId": "59eb9c52-2ec9-4b40-ba4b-bb2b82f0523c"
      },
      "execution_count": 39,
      "outputs": [
        {
          "output_type": "execute_result",
          "data": {
            "text/plain": [
              "                                             comment  toxic  \\\n",
              "0               Верблюдов-то за что? Дебилы, бл...\\n    1.0   \n",
              "1  Хохлы, это отдушина затюканого россиянина, мол...    1.0   \n",
              "2                          Собаке - собачья смерть\\n    1.0   \n",
              "3  Страницу обнови, дебил. Это тоже не оскорблени...    1.0   \n",
              "4  тебя не убедил 6-страничный пдф в том, что Скр...    1.0   \n",
              "\n",
              "                                    stemmed_comments  \\\n",
              "0                верблюдов-т за что ? дебил , бл ...   \n",
              "1  хохл , эт отдушин затюкан россиянин , мол , во...   \n",
              "2                                собак - собач смерт   \n",
              "3  страниц обнов , деб . эт тож не оскорблен , а ...   \n",
              "4  теб не убед 6-страничн пдф в том , что скрипал...   \n",
              "\n",
              "                                 lemmatized_comments  \n",
              "0                 верблюд-то за что ? дебил , бл ...  \n",
              "1  хохол , это отдушина затюканый россиянин , мол...  \n",
              "2                            собака - собачий смерть  \n",
              "3  страница обновить , дебил . это тоже не оскорб...  \n",
              "4  ты не убедить 6-страничный пдф в тот , что скр...  "
            ],
            "text/html": [
              "\n",
              "  <div id=\"df-99a41325-695a-445e-a9c6-a697bead6110\" class=\"colab-df-container\">\n",
              "    <div>\n",
              "<style scoped>\n",
              "    .dataframe tbody tr th:only-of-type {\n",
              "        vertical-align: middle;\n",
              "    }\n",
              "\n",
              "    .dataframe tbody tr th {\n",
              "        vertical-align: top;\n",
              "    }\n",
              "\n",
              "    .dataframe thead th {\n",
              "        text-align: right;\n",
              "    }\n",
              "</style>\n",
              "<table border=\"1\" class=\"dataframe\">\n",
              "  <thead>\n",
              "    <tr style=\"text-align: right;\">\n",
              "      <th></th>\n",
              "      <th>comment</th>\n",
              "      <th>toxic</th>\n",
              "      <th>stemmed_comments</th>\n",
              "      <th>lemmatized_comments</th>\n",
              "    </tr>\n",
              "  </thead>\n",
              "  <tbody>\n",
              "    <tr>\n",
              "      <th>0</th>\n",
              "      <td>Верблюдов-то за что? Дебилы, бл...\\n</td>\n",
              "      <td>1.0</td>\n",
              "      <td>верблюдов-т за что ? дебил , бл ...</td>\n",
              "      <td>верблюд-то за что ? дебил , бл ...</td>\n",
              "    </tr>\n",
              "    <tr>\n",
              "      <th>1</th>\n",
              "      <td>Хохлы, это отдушина затюканого россиянина, мол...</td>\n",
              "      <td>1.0</td>\n",
              "      <td>хохл , эт отдушин затюкан россиянин , мол , во...</td>\n",
              "      <td>хохол , это отдушина затюканый россиянин , мол...</td>\n",
              "    </tr>\n",
              "    <tr>\n",
              "      <th>2</th>\n",
              "      <td>Собаке - собачья смерть\\n</td>\n",
              "      <td>1.0</td>\n",
              "      <td>собак - собач смерт</td>\n",
              "      <td>собака - собачий смерть</td>\n",
              "    </tr>\n",
              "    <tr>\n",
              "      <th>3</th>\n",
              "      <td>Страницу обнови, дебил. Это тоже не оскорблени...</td>\n",
              "      <td>1.0</td>\n",
              "      <td>страниц обнов , деб . эт тож не оскорблен , а ...</td>\n",
              "      <td>страница обновить , дебил . это тоже не оскорб...</td>\n",
              "    </tr>\n",
              "    <tr>\n",
              "      <th>4</th>\n",
              "      <td>тебя не убедил 6-страничный пдф в том, что Скр...</td>\n",
              "      <td>1.0</td>\n",
              "      <td>теб не убед 6-страничн пдф в том , что скрипал...</td>\n",
              "      <td>ты не убедить 6-страничный пдф в тот , что скр...</td>\n",
              "    </tr>\n",
              "  </tbody>\n",
              "</table>\n",
              "</div>\n",
              "    <div class=\"colab-df-buttons\">\n",
              "\n",
              "  <div class=\"colab-df-container\">\n",
              "    <button class=\"colab-df-convert\" onclick=\"convertToInteractive('df-99a41325-695a-445e-a9c6-a697bead6110')\"\n",
              "            title=\"Convert this dataframe to an interactive table.\"\n",
              "            style=\"display:none;\">\n",
              "\n",
              "  <svg xmlns=\"http://www.w3.org/2000/svg\" height=\"24px\" viewBox=\"0 -960 960 960\">\n",
              "    <path d=\"M120-120v-720h720v720H120Zm60-500h600v-160H180v160Zm220 220h160v-160H400v160Zm0 220h160v-160H400v160ZM180-400h160v-160H180v160Zm440 0h160v-160H620v160ZM180-180h160v-160H180v160Zm440 0h160v-160H620v160Z\"/>\n",
              "  </svg>\n",
              "    </button>\n",
              "\n",
              "  <style>\n",
              "    .colab-df-container {\n",
              "      display:flex;\n",
              "      gap: 12px;\n",
              "    }\n",
              "\n",
              "    .colab-df-convert {\n",
              "      background-color: #E8F0FE;\n",
              "      border: none;\n",
              "      border-radius: 50%;\n",
              "      cursor: pointer;\n",
              "      display: none;\n",
              "      fill: #1967D2;\n",
              "      height: 32px;\n",
              "      padding: 0 0 0 0;\n",
              "      width: 32px;\n",
              "    }\n",
              "\n",
              "    .colab-df-convert:hover {\n",
              "      background-color: #E2EBFA;\n",
              "      box-shadow: 0px 1px 2px rgba(60, 64, 67, 0.3), 0px 1px 3px 1px rgba(60, 64, 67, 0.15);\n",
              "      fill: #174EA6;\n",
              "    }\n",
              "\n",
              "    .colab-df-buttons div {\n",
              "      margin-bottom: 4px;\n",
              "    }\n",
              "\n",
              "    [theme=dark] .colab-df-convert {\n",
              "      background-color: #3B4455;\n",
              "      fill: #D2E3FC;\n",
              "    }\n",
              "\n",
              "    [theme=dark] .colab-df-convert:hover {\n",
              "      background-color: #434B5C;\n",
              "      box-shadow: 0px 1px 3px 1px rgba(0, 0, 0, 0.15);\n",
              "      filter: drop-shadow(0px 1px 2px rgba(0, 0, 0, 0.3));\n",
              "      fill: #FFFFFF;\n",
              "    }\n",
              "  </style>\n",
              "\n",
              "    <script>\n",
              "      const buttonEl =\n",
              "        document.querySelector('#df-99a41325-695a-445e-a9c6-a697bead6110 button.colab-df-convert');\n",
              "      buttonEl.style.display =\n",
              "        google.colab.kernel.accessAllowed ? 'block' : 'none';\n",
              "\n",
              "      async function convertToInteractive(key) {\n",
              "        const element = document.querySelector('#df-99a41325-695a-445e-a9c6-a697bead6110');\n",
              "        const dataTable =\n",
              "          await google.colab.kernel.invokeFunction('convertToInteractive',\n",
              "                                                    [key], {});\n",
              "        if (!dataTable) return;\n",
              "\n",
              "        const docLinkHtml = 'Like what you see? Visit the ' +\n",
              "          '<a target=\"_blank\" href=https://colab.research.google.com/notebooks/data_table.ipynb>data table notebook</a>'\n",
              "          + ' to learn more about interactive tables.';\n",
              "        element.innerHTML = '';\n",
              "        dataTable['output_type'] = 'display_data';\n",
              "        await google.colab.output.renderOutput(dataTable, element);\n",
              "        const docLink = document.createElement('div');\n",
              "        docLink.innerHTML = docLinkHtml;\n",
              "        element.appendChild(docLink);\n",
              "      }\n",
              "    </script>\n",
              "  </div>\n",
              "\n",
              "\n",
              "<div id=\"df-82acf85a-3515-49c7-aaa1-6cbb9b725429\">\n",
              "  <button class=\"colab-df-quickchart\" onclick=\"quickchart('df-82acf85a-3515-49c7-aaa1-6cbb9b725429')\"\n",
              "            title=\"Suggest charts\"\n",
              "            style=\"display:none;\">\n",
              "\n",
              "<svg xmlns=\"http://www.w3.org/2000/svg\" height=\"24px\"viewBox=\"0 0 24 24\"\n",
              "     width=\"24px\">\n",
              "    <g>\n",
              "        <path d=\"M19 3H5c-1.1 0-2 .9-2 2v14c0 1.1.9 2 2 2h14c1.1 0 2-.9 2-2V5c0-1.1-.9-2-2-2zM9 17H7v-7h2v7zm4 0h-2V7h2v10zm4 0h-2v-4h2v4z\"/>\n",
              "    </g>\n",
              "</svg>\n",
              "  </button>\n",
              "\n",
              "<style>\n",
              "  .colab-df-quickchart {\n",
              "      --bg-color: #E8F0FE;\n",
              "      --fill-color: #1967D2;\n",
              "      --hover-bg-color: #E2EBFA;\n",
              "      --hover-fill-color: #174EA6;\n",
              "      --disabled-fill-color: #AAA;\n",
              "      --disabled-bg-color: #DDD;\n",
              "  }\n",
              "\n",
              "  [theme=dark] .colab-df-quickchart {\n",
              "      --bg-color: #3B4455;\n",
              "      --fill-color: #D2E3FC;\n",
              "      --hover-bg-color: #434B5C;\n",
              "      --hover-fill-color: #FFFFFF;\n",
              "      --disabled-bg-color: #3B4455;\n",
              "      --disabled-fill-color: #666;\n",
              "  }\n",
              "\n",
              "  .colab-df-quickchart {\n",
              "    background-color: var(--bg-color);\n",
              "    border: none;\n",
              "    border-radius: 50%;\n",
              "    cursor: pointer;\n",
              "    display: none;\n",
              "    fill: var(--fill-color);\n",
              "    height: 32px;\n",
              "    padding: 0;\n",
              "    width: 32px;\n",
              "  }\n",
              "\n",
              "  .colab-df-quickchart:hover {\n",
              "    background-color: var(--hover-bg-color);\n",
              "    box-shadow: 0 1px 2px rgba(60, 64, 67, 0.3), 0 1px 3px 1px rgba(60, 64, 67, 0.15);\n",
              "    fill: var(--button-hover-fill-color);\n",
              "  }\n",
              "\n",
              "  .colab-df-quickchart-complete:disabled,\n",
              "  .colab-df-quickchart-complete:disabled:hover {\n",
              "    background-color: var(--disabled-bg-color);\n",
              "    fill: var(--disabled-fill-color);\n",
              "    box-shadow: none;\n",
              "  }\n",
              "\n",
              "  .colab-df-spinner {\n",
              "    border: 2px solid var(--fill-color);\n",
              "    border-color: transparent;\n",
              "    border-bottom-color: var(--fill-color);\n",
              "    animation:\n",
              "      spin 1s steps(1) infinite;\n",
              "  }\n",
              "\n",
              "  @keyframes spin {\n",
              "    0% {\n",
              "      border-color: transparent;\n",
              "      border-bottom-color: var(--fill-color);\n",
              "      border-left-color: var(--fill-color);\n",
              "    }\n",
              "    20% {\n",
              "      border-color: transparent;\n",
              "      border-left-color: var(--fill-color);\n",
              "      border-top-color: var(--fill-color);\n",
              "    }\n",
              "    30% {\n",
              "      border-color: transparent;\n",
              "      border-left-color: var(--fill-color);\n",
              "      border-top-color: var(--fill-color);\n",
              "      border-right-color: var(--fill-color);\n",
              "    }\n",
              "    40% {\n",
              "      border-color: transparent;\n",
              "      border-right-color: var(--fill-color);\n",
              "      border-top-color: var(--fill-color);\n",
              "    }\n",
              "    60% {\n",
              "      border-color: transparent;\n",
              "      border-right-color: var(--fill-color);\n",
              "    }\n",
              "    80% {\n",
              "      border-color: transparent;\n",
              "      border-right-color: var(--fill-color);\n",
              "      border-bottom-color: var(--fill-color);\n",
              "    }\n",
              "    90% {\n",
              "      border-color: transparent;\n",
              "      border-bottom-color: var(--fill-color);\n",
              "    }\n",
              "  }\n",
              "</style>\n",
              "\n",
              "  <script>\n",
              "    async function quickchart(key) {\n",
              "      const quickchartButtonEl =\n",
              "        document.querySelector('#' + key + ' button');\n",
              "      quickchartButtonEl.disabled = true;  // To prevent multiple clicks.\n",
              "      quickchartButtonEl.classList.add('colab-df-spinner');\n",
              "      try {\n",
              "        const charts = await google.colab.kernel.invokeFunction(\n",
              "            'suggestCharts', [key], {});\n",
              "      } catch (error) {\n",
              "        console.error('Error during call to suggestCharts:', error);\n",
              "      }\n",
              "      quickchartButtonEl.classList.remove('colab-df-spinner');\n",
              "      quickchartButtonEl.classList.add('colab-df-quickchart-complete');\n",
              "    }\n",
              "    (() => {\n",
              "      let quickchartButtonEl =\n",
              "        document.querySelector('#df-82acf85a-3515-49c7-aaa1-6cbb9b725429 button');\n",
              "      quickchartButtonEl.style.display =\n",
              "        google.colab.kernel.accessAllowed ? 'block' : 'none';\n",
              "    })();\n",
              "  </script>\n",
              "</div>\n",
              "    </div>\n",
              "  </div>\n"
            ],
            "application/vnd.google.colaboratory.intrinsic+json": {
              "type": "dataframe",
              "variable_name": "df",
              "summary": "{\n  \"name\": \"df\",\n  \"rows\": 14412,\n  \"fields\": [\n    {\n      \"column\": \"comment\",\n      \"properties\": {\n        \"dtype\": \"string\",\n        \"num_unique_values\": 14412,\n        \"samples\": [\n          \"\\u0431\\u0435\\u0437\\u0440\\u043e\\u0434\\u043d\\u044b\\u0439 \\u043f\\u043e\\u0442\\u043e\\u043c\\u043e\\u043a \\u0445\\u043e\\u043b\\u043e\\u043f\\u0430 \\u0440\\u0430\\u0441\\u0441\\u0443\\u0436\\u0434\\u0430\\u0435\\u0442 \\u043e \\u043d\\u0430\\u0446\\u0438\\u043e\\u043d\\u0430\\u043b\\u044c\\u043d\\u043e\\u0439 \\u0433\\u043e\\u0440\\u0434\\u043e\\u0441\\u0442\\u0438.\\n\",\n          \"\\u0418\\u043d\\u0442\\u0435\\u0440\\u0435\\u0441\\u043d\\u0430\\u044f \\u0442\\u0435\\u043c\\u0430, \\u043e\\u0434\\u043d\\u0430\\u043a\\u043e. \\u041e\\u0422\\u041f \\u0432\\u0440\\u043e\\u0434\\u0435 \\u0432\\u0435\\u043d\\u0433\\u0435\\u0440\\u0441\\u043a\\u0438\\u0439 \\u0431\\u0430\\u043d\\u043a, \\u0432 \\u0412\\u0435\\u043d\\u0433\\u0440\\u0438\\u0438 \\u043e\\u043d \\u0441\\u0430\\u043c\\u044b\\u0439 \\u043f\\u043e\\u043f\\u0443\\u043b\\u044f\\u0440\\u043d\\u044b\\u0439, \\u0443 \\u043c\\u0435\\u043d\\u044f \\u0443 \\u0441\\u0430\\u043c\\u043e\\u0433\\u043e \\u0435\\u0433\\u043e \\u0441\\u0447\\u0451\\u0442 \\u0438 \\u043a\\u0430\\u0440\\u0442\\u0430, \\u0438\\u0431\\u043e \\u0443 \\u043d\\u0435\\u0433\\u043e \\u0434\\u043e\\u0433\\u043e\\u0432\\u043e\\u0440 \\u0441 \\u0443\\u043d\\u0438\\u0432\\u0435\\u0440\\u043e\\u043c, \\u0441\\u043a\\u0438\\u0434\\u043a\\u0438-\\u043f\\u043b\\u044e\\u0448\\u043a\\u0438-\\u0432\\u043e\\u0437\\u0432\\u0440\\u0430\\u0442 \\u0438 \\u0442.\\u043f. \\u0434\\u043b\\u044f \\u0441\\u0442\\u0443\\u0434\\u0435\\u043d\\u0442\\u043e\\u0432. \\u0418 \\u0437\\u0430 4 \\u0433\\u043e\\u0434\\u0430 \\u043f\\u043e\\u043b\\u044c\\u0437\\u043e\\u0432\\u0430\\u043d\\u0438\\u044f \\u043d\\u0438 \\u043e\\u0434\\u043d\\u043e\\u0439 \\u043f\\u0440\\u043e\\u0431\\u043b\\u0435\\u043c\\u044b, \\u043d\\u0438 \\u043e\\u0434\\u043d\\u043e\\u0439 \\u043f\\u043e\\u0434\\u043a\\u043b\\u044e\\u0447\\u0451\\u043d\\u043d\\u043e\\u0439 \\u0443\\u0441\\u043b\\u0443\\u0433\\u0438, \\u0431\\u043b\\u043e\\u043a\\u0438\\u0440\\u043e\\u0432\\u0430\\u043d\\u0438\\u044f, \\u0441\\u043f\\u0438\\u0441\\u0430\\u043d\\u0438\\u044f \\u043d\\u0438 \\u0437\\u0430 \\u0447\\u0442\\u043e \\u0438 \\u043f\\u043e\\u0434\\u043e\\u0431\\u043d\\u043e\\u0439 \\u0435\\u0440\\u0435\\u0441\\u0438, \\u043a\\u043e\\u0442\\u043e\\u0440\\u043e\\u0439 \\u0441\\u0442\\u0440\\u0430\\u0434\\u0430\\u044e\\u0442 \\u0432\\u0441\\u0435 \\u0440\\u043e\\u0441\\u0441\\u0438\\u0439\\u0441\\u043a\\u0438\\u0435 \\u0431\\u0430\\u043d\\u043a\\u0438. \\u041d\\u0438\\u043a\\u0430\\u043a\\u0438\\u0445 \\u043a\\u0440\\u0435\\u0434\\u0438\\u0442\\u043d\\u044b\\u0445 \\u043a\\u0430\\u0440\\u0442 \\u0434\\u0430\\u0436\\u0435 \\u043d\\u0435 \\u043f\\u0440\\u0435\\u0434\\u043b\\u0430\\u0433\\u0430\\u044e\\u0442 (\\u0438 \\u0432\\u043e\\u043e\\u0431\\u0449\\u0435 \\u043e \\u043f\\u043e\\u0434\\u043e\\u0431\\u043d\\u044b\\u0445 \\u0438\\u0441\\u0442\\u043e\\u0440\\u0438\\u044f\\u0445 \\u043d\\u0435 \\u0441\\u043b\\u044b\\u0448\\u0430\\u043b). \\u0412\\u044b\\u0445\\u043e\\u0434\\u0438\\u0442, \\u0431\\u0430\\u043d\\u043a \\u0442\\u043e\\u0442 \\u0436\\u0435, \\u0430 \\u043f\\u0440\\u0438\\u043d\\u0446\\u0438\\u043f \\u0440\\u0430\\u0431\\u043e\\u0442\\u044b \\u0434\\u0440\\u0443\\u0433\\u043e\\u0439, \\u0437\\u0430\\u0442\\u043e\\u0447\\u0435\\u043d\\u043d\\u044b\\u0439 \\u043f\\u043e\\u0434 \\u0440\\u043e\\u0441\\u0441\\u0438\\u0439\\u0441\\u043a\\u0438\\u0439 \\u043a\\u043b\\u0438\\u0435\\u043d\\u0442 - \\u043b\\u043e\\u0445 . P.S. \\u0412 \\u0412\\u0435\\u043d\\u0433\\u0440\\u0438\\u0438 \\u0432\\u0441\\u0435 \\u0431\\u0430\\u043d\\u043a\\u0438 \\u0448\\u043b\\u044e\\u0442 \\u043a\\u0430\\u0440\\u0442\\u044b \\u043f\\u043e \\u043f\\u043e\\u0447\\u0442\\u0435, \\u043c\\u043e\\u044f \\u043a\\u0430\\u043a \\u0440\\u0430\\u0437 \\u0432 \\u044d\\u0442\\u043e\\u043c \\u043c\\u0435\\u0441\\u044f\\u0446\\u0435 \\u043f\\u0440\\u0438\\u0448\\u043b\\u0430. \\u041d\\u043e \\u0432 \\u043f\\u043e\\u0447\\u0442\\u043e\\u0432\\u044b\\u0439 \\u044f\\u0449\\u0438\\u043a \\u0438\\u0445 \\u043d\\u0438 \\u0437\\u0430 \\u0447\\u0442\\u043e \\u043d\\u0435 \\u043a\\u0438\\u043d\\u0443\\u0442. \\u041b\\u0438\\u0431\\u043e \\u0432 \\u0440\\u0443\\u043a\\u0438, \\u043b\\u0438\\u0431\\u043e \\u0438\\u0437\\u0432\\u0435\\u0449\\u0435\\u043d\\u0438\\u0435 \\u0447\\u0442\\u043e\\u0431 \\u0437\\u0430\\u0431\\u0440\\u0430\\u043b \\u043d\\u0430 \\u043f\\u043e\\u0447\\u0442\\u0435. \\u0410 \\u043f\\u043e\\u0447\\u0442\\u0430 \\u043f\\u043e\\u0440\\u044f\\u0434\\u043e\\u0447\\u043d\\u0430\\u044f\\n\",\n          \"\\u0421\\u0443\\u0442\\u044c \\u0442\\u0440\\u0435\\u0431\\u043e\\u0432\\u0430\\u043d\\u0438\\u044f \\u043f\\u0440\\u043e \\u041230 - \\u043d\\u0435 \\u043f\\u0440\\u043e\\u0447\\u043d\\u043e\\u0441\\u0442\\u044c, \\u0430 \\u0432\\u043e\\u0434\\u043e\\u043d\\u0435\\u043f\\u0440\\u043e\\u043d\\u0438\\u0446\\u0430\\u0435\\u043c\\u043e\\u0441\\u0442\\u044c. \\u0412\\u043e\\u0434\\u043e\\u043d\\u0435\\u043f\\u0440\\u043e\\u043d\\u0438\\u0446\\u0430\\u0435\\u043c\\u043e\\u0441\\u0442\\u044c \\u0432\\u043e\\u043e\\u0431\\u0449\\u0435 \\u0442\\u043e \\u043e\\u0431\\u043e\\u0437\\u043d\\u0430\\u0447\\u0430\\u0435\\u0442\\u0441\\u044f W, \\u043d\\u0443 \\u0434\\u0430 \\u043d\\u0435 \\u0441\\u0443\\u0442\\u044c, \\u0437\\u0430\\u0447\\u0435\\u043c \\u043c\\u043d\\u0435 \\u043e\\u043d\\u0430 \\u0432 \\u043b\\u0435\\u043d\\u0442\\u0435 \\u043f\\u043e\\u0434 \\u0437\\u0435\\u043c\\u043b\\u0451\\u0439 ?\\n\"\n        ],\n        \"semantic_type\": \"\",\n        \"description\": \"\"\n      }\n    },\n    {\n      \"column\": \"toxic\",\n      \"properties\": {\n        \"dtype\": \"number\",\n        \"std\": 0.47195781877088117,\n        \"min\": 0.0,\n        \"max\": 1.0,\n        \"num_unique_values\": 2,\n        \"samples\": [\n          0.0,\n          1.0\n        ],\n        \"semantic_type\": \"\",\n        \"description\": \"\"\n      }\n    },\n    {\n      \"column\": \"stemmed_comments\",\n      \"properties\": {\n        \"dtype\": \"string\",\n        \"num_unique_values\": 14155,\n        \"samples\": [\n          \"\\u043a\\u043e\\u0433\\u0434 \\u0448\\u0430\\u0440\\u0430\\u0445\\u043d\\u0443\\u043b \\u0438\\u0445 6 \\u0432 \\u0433\\u043e\\u0434 , \\u0438\\u0437 \\u043d\\u0438\\u0445 4 \\u0437\\u0430 \\u043c\\u0435\\u0441\\u044f\\u0446-\\u0432\\u043e\\u043e\\u0431\\u0449 \\u0441\\u0442\\u0430\\u043b \\u043e\\u0431\\u044b\\u0447\\u043d \\u0434\\u0435\\u043b \\u0442\\u043e\\u0436 )\",\n          \"\\u043b\\u0435\\u0442 7 \\u043d\\u0430\\u0437\\u0430\\u0434 \\u0436\\u0438\\u043b \\u0432 \\u0434\\u043e\\u043c \\u0441 \\u043e\\u0434\\u043d \\u043f\\u043e\\u0434\\u044a\\u0435\\u0437\\u0434 . \\u0437\\u0432\\u043e\\u043d \\u0432 \\u0441\\u043a\\u043e\\u0440 \\u043f\\u043e \\u0442\\u0440\\u0430\\u0432\\u043c \\u0433\\u043e\\u043b\\u043e\\u0432 \\u0443 \\u0431\\u043b\\u0438\\u0437\\u043a \\u0447\\u0435\\u043b\\u043e\\u0432\\u0435\\u043a \\u0438 \\u043e\\u043f\\u0435\\u0440\\u0430\\u0442\\u043e\\u0440 \\u043e\\u043f\\u0440\\u043e\\u0441 \\u043e\\u0431 \\u0432\\u0441\\u0435\\u043c \\u0434\\u043e\\u0445\\u043e\\u0434 \\u0434\\u043e \\u0432\\u043e\\u043f\\u0440\\u043e\\u0441 \\u043d\\u043e\\u043c\\u0435\\u0440 \\u043f\\u043e\\u0434\\u044a\\u0435\\u0437\\u0434 , \\u0433\\u043e\\u0432\\u043e\\u0440 , \\u0447\\u0442\\u043e \\u043f\\u043e\\u0434\\u044a\\u0435\\u0437\\u0434 \\u0432\\u0441\\u0435\\u0433 1 \\u0438 \\u043d\\u0430\\u0434 \\u043d\\u0438\\u043c \\u0434\\u0430\\u0436 \\u043d\\u043e\\u043c\\u0435\\u0440 \\u043d\\u0438\\u043a\\u043e\\u0433\\u0434 \\u043d\\u0435 \\u0432\\u0438\\u0441\\u0435\\u043b . \\u0445\\u043e\\u043b\\u043e\\u0434\\u043d \\u0442\\u043e\\u043d \\u043f\\u043e\\u0432\\u0442\\u043e\\u0440 \\u0432\\u043e\\u043f\\u0440\\u043e\\u0441 . \\u044f \\u0431\\u044b\\u0441\\u0442\\u0440 \\u043f\\u043e\\u043f\\u044b\\u0442\\u0430 \\u043f\\u043e\\u0432\\u0442\\u043e\\u0440 \\u0442\\u043e\\u0442 \\u0436\\u0435 \\u043e\\u0442\\u0432\\u0435\\u0442 , \\u0442\\u0430\\u043a \\u043a\\u0430\\u043a \\u0431\\u043e\\u044f \\u043e\\u0448\\u0438\\u0431 \\u0441 23 \\u043f\\u043e\\u0434\\u044a\\u0435\\u0437\\u0434 , \\u0432\\u0434\\u0440\\u0443\\u0433 \\u0436\\u0435 \\u0441\\u043a\\u043e\\u0440 \\u043a \\u043d\\u0435\\u043c \\u043f\\u043e\\u0434\\u044a\\u0435\\u0434\\u0435\\u0442 \\u0438 \\u0435 \\u0431\\u0443\\u0434\\u0435\\u0442 \\u0434\\u0430\\u043b\\u0435\\u043a \\u043f\\u043e\\u0442 \\u0438\\u0434\\u0442 \\u0434\\u043e \\u043c\\u043e \\u0431\\u0435\\u0437 \\u043d\\u043e\\u043c\\u0435\\u0440 . 4 \\u043f\\u043e\\u043f\\u044b\\u0442\\u043a \\u0438 \\u044f \\u0431\\u0440\\u043e\\u0441 \\u0442\\u0440\\u0443\\u0431\\u043a , \\u0432\\u044b\\u0432\\u0435\\u043b \\u0442\\u0440\\u0430\\u0432\\u043c\\u0438\\u0440\\u043e\\u0432\\u0430\\u043d \\u043d\\u0430 \\u0443\\u043b\\u0438\\u0446 \\u0438 \\u0441\\u0440\\u0430\\u0437 \\u044d\\u0442 \\u043a\\u0430\\u0440\\u0442\\u0438\\u043d \\u0437\\u0430\\u043c\\u0435\\u0442 \\u0441\\u043e\\u0441\\u0435\\u0434 \\u0441 \\u043c\\u0430\\u0448\\u0438\\u043d , \\u0447\\u0435\\u0440\\u0435\\u0437 10 \\u043c\\u0438\\u043d\\u0443\\u0442 \\u0431\\u044b\\u043b \\u0432 \\u043f\\u0440\\u0438\\u0435\\u043c\\u043d \\u043e\\u0442\\u0434\\u0435\\u043b\\u0435\\u043d .\"\n        ],\n        \"semantic_type\": \"\",\n        \"description\": \"\"\n      }\n    },\n    {\n      \"column\": \"lemmatized_comments\",\n      \"properties\": {\n        \"dtype\": \"string\",\n        \"num_unique_values\": 14155,\n        \"samples\": [\n          \"\\u043a\\u043e\\u0433\\u0434\\u0430 \\u0448\\u0430\\u0440\\u0430\\u0445\\u043d\\u0443\\u0442\\u044c \\u043e\\u043d\\u0438 6 \\u0432 \\u0433\\u043e\\u0434 , \\u0438\\u0437 \\u043e\\u043d\\u0438 4 \\u0437\\u0430 \\u043c\\u0435\\u0441\\u044f\\u0446-\\u0432\\u043e\\u043e\\u0431\\u0449\\u0435 \\u0441\\u0442\\u0430\\u0442\\u044c \\u043e\\u0431\\u044b\\u0447\\u043d\\u044b\\u0439 \\u0434\\u0435\\u043b\\u043e \\u0442\\u043e\\u0436\\u0435 )\",\n          \"\\u0433\\u043e\\u0434 7 \\u043d\\u0430\\u0437\\u0430\\u0434 \\u0436\\u0438\\u0442\\u044c \\u0432 \\u0434\\u043e\\u043c \\u0441 \\u043e\\u0434\\u0438\\u043d \\u043f\\u043e\\u0434\\u044a\\u0435\\u0437\\u0434 . \\u0437\\u0432\\u043e\\u043d\\u0438\\u0442\\u044c \\u0432 \\u0441\\u043a\\u043e\\u0440\\u044b\\u0439 \\u043f\\u043e \\u0442\\u0440\\u0430\\u0432\\u043c\\u0430 \\u0433\\u043e\\u043b\\u043e\\u0432\\u0430 \\u0443 \\u0431\\u043b\\u0438\\u0437\\u043a\\u0438\\u0439 \\u0447\\u0435\\u043b\\u043e\\u0432\\u0435\\u043a \\u0438 \\u043e\\u043f\\u0435\\u0440\\u0430\\u0442\\u043e\\u0440 \\u043e\\u043f\\u0440\\u043e\\u0441\\u0438\\u0442\\u044c \\u043e \\u0432\\u0435\\u0441\\u044c \\u0434\\u043e\\u0445\\u043e\\u0434\\u0438\\u0442\\u044c \\u0434\\u043e \\u0432\\u043e\\u043f\\u0440\\u043e\\u0441 \\u043d\\u043e\\u043c\\u0435\\u0440 \\u043f\\u043e\\u0434\\u044a\\u0435\\u0437\\u0434 , \\u0433\\u043e\\u0432\\u043e\\u0440\\u0438\\u0442\\u044c , \\u0447\\u0442\\u043e \\u043f\\u043e\\u0434\\u044a\\u0435\\u0437\\u0434 \\u0432\\u0435\\u0441\\u044c 1 \\u0438 \\u043d\\u0430\\u0434 \\u043e\\u043d\\u0438 \\u0434\\u0430\\u0436\\u0435 \\u043d\\u043e\\u043c\\u0435\\u0440 \\u043d\\u0438\\u043a\\u043e\\u0433\\u0434\\u0430 \\u043d\\u0435 \\u0432\\u0438\\u0441\\u0435\\u0442\\u044c . \\u0445\\u043e\\u043b\\u043e\\u0434\\u043d\\u044b\\u0439 \\u0442\\u043e\\u043d \\u043f\\u043e\\u0432\\u0442\\u043e\\u0440\\u0438\\u0442\\u044c \\u0432\\u043e\\u043f\\u0440\\u043e\\u0441 . \\u044f \\u0431\\u044b\\u0441\\u0442\\u0440\\u043e \\u043f\\u043e\\u043f\\u044b\\u0442\\u0430\\u0442\\u044c\\u0441\\u044f \\u043f\\u043e\\u0432\\u0442\\u043e\\u0440\\u0438\\u0442\\u044c \\u0442\\u043e\\u0442 \\u0436\\u0435 \\u043e\\u0442\\u0432\\u0435\\u0442 , \\u0442\\u0430\\u043a \\u043a\\u0430\\u043a \\u0431\\u043e\\u044f\\u0442\\u044c\\u0441\\u044f \\u043e\\u0448\\u0438\\u0431\\u0438\\u0442\\u044c\\u0441\\u044f \\u0441 23 \\u043f\\u043e\\u0434\\u044a\\u0435\\u0437\\u0434 , \\u0432\\u0434\\u0440\\u0443\\u0433 \\u0436\\u0435 \\u0441\\u043a\\u043e\\u0440\\u044b\\u0439 \\u043a \\u043e\\u043d \\u043f\\u043e\\u0434\\u044a\\u0435\\u0445\\u0430\\u0442\\u044c \\u0438 \\u043e\\u043d\\u0430 \\u0431\\u044b\\u0442\\u044c \\u0434\\u0430\\u043b\\u0435\\u043a\\u043e \\u043f\\u043e\\u0442\\u043e\\u043c \\u0438\\u0434\\u0442\\u0438 \\u0434\\u043e \\u043c\\u043e\\u0439 \\u0431\\u0435\\u0437 \\u043d\\u043e\\u043c\\u0435\\u0440 . 4 \\u043f\\u043e\\u043f\\u044b\\u0442\\u043a\\u0430 \\u0438 \\u044f \\u0431\\u0440\\u043e\\u0441\\u0438\\u0442\\u044c \\u0442\\u0440\\u0443\\u0431\\u043a\\u0430 , \\u0432\\u044b\\u0432\\u0435\\u0441\\u0442\\u0438 \\u0442\\u0440\\u0430\\u0432\\u043c\\u0438\\u0440\\u043e\\u0432\\u0430\\u043d\\u044b\\u0439 \\u043d\\u0430 \\u0443\\u043b\\u0438\\u0446\\u0430 \\u0438 \\u0441\\u0440\\u0430\\u0437\\u0443 \\u044d\\u0442\\u043e\\u0442 \\u043a\\u0430\\u0440\\u0442\\u0438\\u043d\\u0430 \\u0437\\u0430\\u043c\\u0435\\u0442\\u0438\\u0442\\u044c \\u0441\\u043e\\u0441\\u0435\\u0434 \\u0441 \\u043c\\u0430\\u0448\\u0438\\u043d\\u0430 , \\u0447\\u0435\\u0440\\u0435\\u0437 10 \\u043c\\u0438\\u043d\\u0443\\u0442\\u0430 \\u0431\\u044b\\u0442\\u044c \\u0432 \\u043f\\u0440\\u0438\\u0451\\u043c\\u043d\\u044b\\u0439 \\u043e\\u0442\\u0434\\u0435\\u043b\\u0435\\u043d\\u0438\\u0435 .\"\n        ],\n        \"semantic_type\": \"\",\n        \"description\": \"\"\n      }\n    }\n  ]\n}"
            }
          },
          "metadata": {},
          "execution_count": 39
        }
      ]
    },
    {
      "cell_type": "code",
      "source": [
        "df.info()"
      ],
      "metadata": {
        "colab": {
          "base_uri": "https://localhost:8080/"
        },
        "id": "gUPo6VGCxBi-",
        "outputId": "c6296cd6-0af0-4df2-9904-4cd8aa8c19d7"
      },
      "execution_count": 40,
      "outputs": [
        {
          "output_type": "stream",
          "name": "stdout",
          "text": [
            "<class 'pandas.core.frame.DataFrame'>\n",
            "RangeIndex: 14412 entries, 0 to 14411\n",
            "Data columns (total 4 columns):\n",
            " #   Column               Non-Null Count  Dtype  \n",
            "---  ------               --------------  -----  \n",
            " 0   comment              14412 non-null  object \n",
            " 1   toxic                14412 non-null  float64\n",
            " 2   stemmed_comments     14412 non-null  object \n",
            " 3   lemmatized_comments  14412 non-null  object \n",
            "dtypes: float64(1), object(3)\n",
            "memory usage: 450.5+ KB\n"
          ]
        }
      ]
    },
    {
      "cell_type": "code",
      "source": [],
      "metadata": {
        "id": "vL_6360exV-r"
      },
      "execution_count": null,
      "outputs": []
    }
  ]
}