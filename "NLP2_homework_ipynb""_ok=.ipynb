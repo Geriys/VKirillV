{
  "nbformat": 4,
  "nbformat_minor": 0,
  "metadata": {
    "colab": {
      "provenance": [],
      "include_colab_link": true
    },
    "kernelspec": {
      "name": "python3",
      "display_name": "Python 3"
    },
    "language_info": {
      "name": "python"
    }
  },
  "cells": [
    {
      "cell_type": "markdown",
      "metadata": {
        "id": "view-in-github",
        "colab_type": "text"
      },
      "source": [
        "<a href=\"https://colab.research.google.com/github/Geriys/VKirillV/blob/main/%22NLP2_homework_ipynb%22%22_ok%3D.ipynb\" target=\"_parent\"><img src=\"https://colab.research.google.com/assets/colab-badge.svg\" alt=\"Open In Colab\"/></a>"
      ]
    },
    {
      "cell_type": "markdown",
      "source": [
        "NLP2_1\n",
        "https://www.hackerrank.com/challenges/detect-the-email-addresses/problem?isFullScreen=true"
      ],
      "metadata": {
        "id": "OYZRf1ncz-sT"
      }
    },
    {
      "cell_type": "markdown",
      "source": [
        "NLP2_2 https://www.hackerrank.com/challenges/detect-the-domain-name/problem?isFullScreen=true"
      ],
      "metadata": {
        "id": "jKzbIfdq0CKr"
      }
    },
    {
      "cell_type": "markdown",
      "source": [
        "NLP2_3 (дз1): Реализовать stemming, lemmatization & BoW на следующем датасете: https://cloud.mail.ru/public/Z4L3/vB8GcgTtK (Russian Toxic-abuse comments)"
      ],
      "metadata": {
        "id": "Op8qPHa8J68_"
      }
    },
    {
      "cell_type": "markdown",
      "source": [
        "NLP2_4 Реализовать классификатор токсичных комментариев tfidf на базе датасета\n",
        "https://www.kaggle.com/datasets/blackmoon/russian-language-toxic-comments  \n",
        "\n",
        "Дубликат файла: https://cloud.mail.ru/public/Z4L3/vB8GcgTtK\n",
        "\n"
      ],
      "metadata": {
        "id": "b5DQQnoU1bXY"
      }
    },
    {
      "cell_type": "code",
      "source": [
        "# NLP2_1 https://www.hackerrank.com/challenges/detect-the-email-addresses/problem?isFullScreen=true"
      ],
      "metadata": {
        "id": "0BRC1-k81pIW"
      },
      "execution_count": null,
      "outputs": []
    },
    {
      "cell_type": "code",
      "source": [
        "import re\n",
        "p = re.compile('[_0-9a-zA-Z]+[_\\.0-9a-zA-Z]*@[0-9a-zA-Z_]+[\\.0-9a-zA-Z_]+[0-9a-zA-Z_]+')\n",
        "n = int(input())\n",
        "l = []\n",
        "for i in range(n):\n",
        "    x = str(input())\n",
        "    r = re.findall(p, x)\n",
        "    for z in r:\n",
        "        if(z not in l):\n",
        "            l.append(z)\n",
        "l.sort()\n",
        "for i in range(len(l)):\n",
        "    if(i == len(l)-1):\n",
        "        print(l[i])\n",
        "    else:\n",
        "        print(l[i],end=\";\")"
      ],
      "metadata": {
        "id": "ImpqRed1zyiS"
      },
      "execution_count": null,
      "outputs": []
    },
    {
      "cell_type": "code",
      "source": [
        "# NLP2_2 https://www.hackerrank.com/challenges/detect-the-domain-name/problem?isFullScreen=true"
      ],
      "metadata": {
        "id": "T_MJaEmczzeu"
      },
      "execution_count": null,
      "outputs": []
    },
    {
      "cell_type": "code",
      "source": [
        "import re\n",
        "pattern = '(http|https)\\\\://(www.|ww2.|)([a-zA-Z0-9\\\\-\\\\.]+)(\\\\.[a-zA-Z]+)(/\\\\S*)?'\n",
        "regex = re.compile(pattern)\n",
        "s = set()\n",
        "for i in range(int(input())):\n",
        "    string = input()\n",
        "    iterator = regex.finditer(string)\n",
        "    if iterator:\n",
        "        for match in iterator:\n",
        "            s.add(match.group(3)+match.group(4))\n",
        "print(';'.join(t for t in sorted(s)))"
      ],
      "metadata": {
        "id": "e8315jGUzzhI"
      },
      "execution_count": null,
      "outputs": []
    },
    {
      "cell_type": "code",
      "source": [
        "# NLP2_3 (дз1): Реализовать stemming, lemmatization & BoW на следующем датасете: https://cloud.mail.ru/public/Z4L3/vB8GcgTtK (Russian Toxic-abuse comments)"
      ],
      "metadata": {
        "id": "V_veaTemzzjT"
      },
      "execution_count": null,
      "outputs": []
    },
    {
      "cell_type": "code",
      "source": [
        "pip install pandas nltk sklearn"
      ],
      "metadata": {
        "id": "2Zx3u1MuzzlP"
      },
      "execution_count": null,
      "outputs": []
    },
    {
      "cell_type": "code",
      "source": [
        "pip install pymorphy2"
      ],
      "metadata": {
        "id": "_YKLTPhhYzWv"
      },
      "execution_count": null,
      "outputs": []
    },
    {
      "cell_type": "code",
      "source": [
        "from nltk.stem.snowball import SnowballStemmer"
      ],
      "metadata": {
        "id": "pbpuaHI6aLnz"
      },
      "execution_count": 21,
      "outputs": []
    },
    {
      "cell_type": "code",
      "source": [
        "import nltk\n",
        "nltk.download('punkt')\n",
        "nltk.download('wordnet')"
      ],
      "metadata": {
        "id": "zP4ZCwnGY2Qo",
        "outputId": "db8e5b32-ae9b-468e-bb69-a42ee9757460",
        "colab": {
          "base_uri": "https://localhost:8080/"
        }
      },
      "execution_count": 15,
      "outputs": [
        {
          "output_type": "stream",
          "name": "stderr",
          "text": [
            "[nltk_data] Downloading package punkt to /root/nltk_data...\n",
            "[nltk_data]   Package punkt is already up-to-date!\n",
            "[nltk_data] Downloading package wordnet to /root/nltk_data...\n",
            "[nltk_data]   Package wordnet is already up-to-date!\n"
          ]
        },
        {
          "output_type": "execute_result",
          "data": {
            "text/plain": [
              "True"
            ]
          },
          "metadata": {},
          "execution_count": 15
        }
      ]
    },
    {
      "cell_type": "code",
      "source": [
        "import pandas as pd\n",
        "from nltk.stem import WordNetLemmatizer\n",
        "from nltk.tokenize import word_tokenize\n",
        "from sklearn.feature_extraction.text import CountVectorizer"
      ],
      "metadata": {
        "id": "S6xDVhswY2S0"
      },
      "execution_count": 16,
      "outputs": []
    },
    {
      "cell_type": "code",
      "source": [
        "# Загрузка данных из CSV файла\n",
        "df = pd.read_csv('labeled.csv')\n",
        "\n",
        "# Инициализация стеммера и лемматизатора\n",
        "# stemmer = PorterStemmer()\n",
        "stemmer = SnowballStemmer(\"russian\")\n",
        "# lemmatizer = WordNetLemmatizer()\n",
        "lemmatizer = pymorphy2.MorphAnalyzer()\n",
        "\n",
        "# Функция для стемминга\n",
        "def stem_sentences(sentence):\n",
        "    tokens = word_tokenize(sentence)\n",
        "    stemmed_tokens = [stemmer.stem(token) for token in tokens]\n",
        "    return ' '.join(stemmed_tokens)\n",
        "\n",
        "# # Функция для лемматизации (дополнительная функция)\n",
        "# def lemmatize_sentences(sentence):\n",
        "#     tokens = word_tokenize(sentence)\n",
        "#     lemmatized_tokens = [lemmatizer.lemmatize(token) for token in tokens]\n",
        "#     return ' '.join(lemmatized_tokens)\n",
        "\n",
        "# Функция для лемматизации\n",
        "def lemmatize_sentences(sentence):\n",
        "    tokens = word_tokenize(sentence)\n",
        "    lemmatized_tokens = [lemmatizer.parse(token)[0].normal_form for token in tokens]\n",
        "    return ' '.join(lemmatized_tokens)\n",
        "\n",
        "# Применение стемминга и лемматизации к комментариям\n",
        "df['stemmed_comments'] = df['comment'].apply(stem_sentences)\n",
        "df['lemmatized_comments'] = df['comment'].apply(lemmatize_sentences)\n",
        "\n",
        "# Создание матрицы признаков BoW\n",
        "vectorizer = CountVectorizer()\n",
        "bow_matrix = vectorizer.fit_transform(df['comment'])\n",
        "\n",
        "# Вывод результатов\n",
        "print(df[['comment', 'stemmed_comments', 'lemmatized_comments']].head())\n",
        "# print(bow_matrix.toarray())"
      ],
      "metadata": {
        "id": "ccteK6wuY2VR",
        "outputId": "4e71874c-3ff8-4413-d23c-a4b584894f7e",
        "colab": {
          "base_uri": "https://localhost:8080/",
          "height": 211
        }
      },
      "execution_count": 20,
      "outputs": [
        {
          "output_type": "error",
          "ename": "NameError",
          "evalue": "name 'pymorphy2' is not defined",
          "traceback": [
            "\u001b[0;31m---------------------------------------------------------------------------\u001b[0m",
            "\u001b[0;31mNameError\u001b[0m                                 Traceback (most recent call last)",
            "\u001b[0;32m<ipython-input-20-3ccfc0ed3387>\u001b[0m in \u001b[0;36m<cell line: 8>\u001b[0;34m()\u001b[0m\n\u001b[1;32m      6\u001b[0m \u001b[0mstemmer\u001b[0m \u001b[0;34m=\u001b[0m \u001b[0mSnowballStemmer\u001b[0m\u001b[0;34m(\u001b[0m\u001b[0;34m\"russian\"\u001b[0m\u001b[0;34m)\u001b[0m\u001b[0;34m\u001b[0m\u001b[0;34m\u001b[0m\u001b[0m\n\u001b[1;32m      7\u001b[0m \u001b[0;31m# lemmatizer = WordNetLemmatizer()\u001b[0m\u001b[0;34m\u001b[0m\u001b[0;34m\u001b[0m\u001b[0m\n\u001b[0;32m----> 8\u001b[0;31m \u001b[0mlemmatizer\u001b[0m \u001b[0;34m=\u001b[0m \u001b[0mpymorphy2\u001b[0m\u001b[0;34m.\u001b[0m\u001b[0mMorphAnalyzer\u001b[0m\u001b[0;34m(\u001b[0m\u001b[0;34m)\u001b[0m\u001b[0;34m\u001b[0m\u001b[0;34m\u001b[0m\u001b[0m\n\u001b[0m\u001b[1;32m      9\u001b[0m \u001b[0;34m\u001b[0m\u001b[0m\n\u001b[1;32m     10\u001b[0m \u001b[0;31m# Функция для стемминга\u001b[0m\u001b[0;34m\u001b[0m\u001b[0;34m\u001b[0m\u001b[0m\n",
            "\u001b[0;31mNameError\u001b[0m: name 'pymorphy2' is not defined"
          ]
        }
      ]
    },
    {
      "cell_type": "code",
      "source": [
        "df.columns"
      ],
      "metadata": {
        "id": "rFZh95--Y2YA"
      },
      "execution_count": null,
      "outputs": []
    },
    {
      "cell_type": "code",
      "source": [
        "df.head()"
      ],
      "metadata": {
        "id": "Cd02fzY5zznT"
      },
      "execution_count": null,
      "outputs": []
    },
    {
      "cell_type": "code",
      "source": [
        "df.info()"
      ],
      "metadata": {
        "id": "YJvzzhG9ZDyg"
      },
      "execution_count": null,
      "outputs": []
    },
    {
      "cell_type": "code",
      "source": [
        "# NLP2_4 Реализовать классификатор токсичных комментариев tfidf на базе датасета https://www.kaggle.com/datasets/blackmoon/russian-language-toxic-comments"
      ],
      "metadata": {
        "id": "OM39bfPn3rfT"
      },
      "execution_count": null,
      "outputs": []
    },
    {
      "cell_type": "code",
      "source": [
        "import pandas as pd\n",
        "from sklearn.model_selection import train_test_split\n",
        "from sklearn.feature_extraction.text import TfidfVectorizer\n",
        "from sklearn.linear_model import LogisticRegression\n",
        "from sklearn.metrics import accuracy_score, classification_report\n",
        "\n",
        "# Загрузка данных из CSV-файла\n",
        "data = pd.read_csv('labeled.csv')\n",
        "\n",
        "# Предполагается, что в датасете есть столбцы 'text' и 'label'\n",
        "# 'text' содержит текст комментария, 'label' - метка токсичности (1 - токсичный, 0 - не токсичный)\n",
        "\n",
        "# Разделение данных на признаки (X) и целевую переменную (y)\n",
        "X = data['comment']\n",
        "y = data['toxic']\n",
        "\n",
        "# Преобразование текстов в векторное представление с помощью TF-IDF\n",
        "vectorizer = TfidfVectorizer()\n",
        "X_tfidf = vectorizer.fit_transform(X)\n",
        "\n",
        "# Разделение данных на обучающий и тестовый наборы\n",
        "X_train, X_test, y_train, y_test = train_test_split(X_tfidf, y, test_size=0.2, random_state=42)\n",
        "\n",
        "# Обучение модели логистической регрессии\n",
        "model = LogisticRegression()\n",
        "model.fit(X_train, y_train)\n",
        "\n",
        "# Предсказание на тестовых данных\n",
        "y_pred = model.predict(X_test)\n",
        "\n",
        "# Оценка модели\n",
        "accuracy = accuracy_score(y_test, y_pred)\n",
        "report = classification_report(y_test, y_pred)\n",
        "\n",
        "print(f\"Accuracy: {accuracy}\")\n",
        "print(f\"Classification Report:\\n{report}\")"
      ],
      "metadata": {
        "id": "XNSdVpv23rj9",
        "colab": {
          "base_uri": "https://localhost:8080/"
        },
        "outputId": "dc43f080-8d50-4fc9-e9c6-571071efff0d"
      },
      "execution_count": null,
      "outputs": [
        {
          "output_type": "stream",
          "name": "stdout",
          "text": [
            "Accuracy: 0.8321193201526188\n",
            "Classification Report:\n",
            "              precision    recall  f1-score   support\n",
            "\n",
            "         0.0       0.82      0.97      0.89      1944\n",
            "         1.0       0.90      0.55      0.68       939\n",
            "\n",
            "    accuracy                           0.83      2883\n",
            "   macro avg       0.86      0.76      0.78      2883\n",
            "weighted avg       0.84      0.83      0.82      2883\n",
            "\n"
          ]
        }
      ]
    }
  ]
}