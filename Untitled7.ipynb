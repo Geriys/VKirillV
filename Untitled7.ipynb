{
  "nbformat": 4,
  "nbformat_minor": 0,
  "metadata": {
    "colab": {
      "provenance": [],
      "authorship_tag": "ABX9TyO2RQA5vhE3w8bAKSZDcq+D",
      "include_colab_link": true
    },
    "kernelspec": {
      "name": "python3",
      "display_name": "Python 3"
    },
    "language_info": {
      "name": "python"
    }
  },
  "cells": [
    {
      "cell_type": "markdown",
      "metadata": {
        "id": "view-in-github",
        "colab_type": "text"
      },
      "source": [
        "<a href=\"https://colab.research.google.com/github/Geriys/VKirillV/blob/main/Untitled7.ipynb\" target=\"_parent\"><img src=\"https://colab.research.google.com/assets/colab-badge.svg\" alt=\"Open In Colab\"/></a>"
      ]
    },
    {
      "cell_type": "code",
      "execution_count": null,
      "metadata": {
        "id": "JxH_96-hicvE"
      },
      "outputs": [],
      "source": [
        "# 1. Выгрузить описания открытых вакансий с любой из площадок ( hh ru, rabota sber ru, indeed com ) и сохранить их в\n",
        "# 2. Предообработать текст описаний вакансий ( токенизировать , привести к нормальной форме)\n",
        "# 3. Взять любой текст, описывающий опыт из резюме, и аналогично предобработать\n",
        "# 4. Подготовить векторное представление описаний вакансий и опыта из резюме .\n",
        "# Желательно попробовать разные варианты (TF IDF, Word2Vec, Fasttext , BERT и другие) и затем сравнить результаты (эффективность и релевантность)\n",
        "# 5. Посчитать меру сходства для опыта и описаний вакансий.\n",
        "# 6. Ранжировать вакансии по мере их сходства с опытом.\n",
        "# 7. Вывести Топ 10 наиболее релевантных.\n",
        "# 8. Подготовить скрипт принимающий на вход текстовое описание опыта и выводящий Топ 10\n",
        "# наиболее релевантных вакансий из 1000 случайных.\n",
        "# 9. Реализовать в виде rest сервиса или бота.\n",
        "# Проект «близкие вакансии»"
      ]
    },
    {
      "cell_type": "code",
      "source": [],
      "metadata": {
        "id": "s0zya9n7idWm"
      },
      "execution_count": null,
      "outputs": []
    },
    {
      "cell_type": "code",
      "source": [],
      "metadata": {
        "id": "Czu-qKTeidZY"
      },
      "execution_count": null,
      "outputs": []
    },
    {
      "cell_type": "code",
      "source": [],
      "metadata": {
        "id": "EJ97PA85idbr"
      },
      "execution_count": null,
      "outputs": []
    },
    {
      "cell_type": "code",
      "source": [],
      "metadata": {
        "id": "fQrAPVJ4iddz"
      },
      "execution_count": null,
      "outputs": []
    },
    {
      "cell_type": "code",
      "source": [],
      "metadata": {
        "id": "F-Oox6Bvidf8"
      },
      "execution_count": null,
      "outputs": []
    },
    {
      "cell_type": "code",
      "source": [],
      "metadata": {
        "id": "DFRf6CmSidhs"
      },
      "execution_count": null,
      "outputs": []
    },
    {
      "cell_type": "code",
      "source": [],
      "metadata": {
        "id": "XufrsNz5idj5"
      },
      "execution_count": null,
      "outputs": []
    },
    {
      "cell_type": "code",
      "source": [],
      "metadata": {
        "id": "gWK8IxpUidly"
      },
      "execution_count": null,
      "outputs": []
    },
    {
      "cell_type": "code",
      "source": [],
      "metadata": {
        "id": "QUO-holhidn4"
      },
      "execution_count": null,
      "outputs": []
    }
  ]
}