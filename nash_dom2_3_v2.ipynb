{
  "cells": [
    {
      "cell_type": "markdown",
      "metadata": {
        "id": "view-in-github",
        "colab_type": "text"
      },
      "source": [
        "<a href=\"https://colab.research.google.com/github/Geriys/VKirillV/blob/main/nash_dom2_3_v2.ipynb\" target=\"_parent\"><img src=\"https://colab.research.google.com/assets/colab-badge.svg\" alt=\"Open In Colab\"/></a>"
      ]
    },
    {
      "cell_type": "markdown",
      "id": "8618ab33",
      "metadata": {
        "id": "8618ab33"
      },
      "source": [
        "# Получение всех объектов"
      ]
    },
    {
      "cell_type": "code",
      "source": [
        "import requests\n",
        "import json"
      ],
      "metadata": {
        "id": "ezntnFFj_wHF"
      },
      "id": "ezntnFFj_wHF",
      "execution_count": 2,
      "outputs": []
    },
    {
      "cell_type": "code",
      "execution_count": null,
      "id": "dd674db7",
      "metadata": {
        "scrolled": true,
        "colab": {
          "base_uri": "https://localhost:8080/"
        },
        "id": "dd674db7",
        "outputId": "f4e88973-753b-40a4-8a5a-120b6e18bfab"
      },
      "outputs": [
        {
          "output_type": "stream",
          "name": "stdout",
          "text": [
            "Страница получена! limit: 500, offset: 0\n",
            "500\n",
            "Страница получена! limit: 500, offset: 500\n",
            "500\n",
            "Страница получена! limit: 500, offset: 1000\n",
            "500\n",
            "Страница получена! limit: 500, offset: 1500\n",
            "500\n",
            "Страница получена! limit: 500, offset: 2000\n",
            "500\n",
            "Страница получена! limit: 500, offset: 2500\n",
            "500\n",
            "Страница получена! limit: 500, offset: 3000\n",
            "500\n",
            "Страница получена! limit: 500, offset: 3500\n",
            "500\n",
            "Страница получена! limit: 500, offset: 4000\n",
            "500\n",
            "Страница получена! limit: 500, offset: 4500\n",
            "500\n",
            "Страница получена! limit: 500, offset: 5000\n",
            "500\n",
            "Страница получена! limit: 500, offset: 5500\n",
            "500\n",
            "Страница получена! limit: 500, offset: 6000\n",
            "500\n",
            "Страница получена! limit: 500, offset: 6500\n",
            "500\n",
            "Страница получена! limit: 500, offset: 7000\n",
            "500\n",
            "Страница получена! limit: 500, offset: 7500\n",
            "500\n",
            "Страница получена! limit: 500, offset: 8000\n",
            "500\n",
            "Страница получена! limit: 500, offset: 8500\n",
            "500\n",
            "Страница получена! limit: 500, offset: 9000\n",
            "500\n",
            "Страница получена! limit: 500, offset: 9500\n",
            "500\n",
            "Страница получена! limit: 500, offset: 10000\n",
            "500\n",
            "Страница получена! limit: 500, offset: 10500\n",
            "500\n",
            "Страница получена! limit: 500, offset: 11000\n",
            "500\n",
            "Страница получена! limit: 500, offset: 11500\n",
            "217\n",
            "Страница получена! limit: 500, offset: 12000\n",
            "0\n"
          ]
        },
        {
          "output_type": "execute_result",
          "data": {
            "text/plain": [
              "20749485"
            ]
          },
          "metadata": {},
          "execution_count": 1
        }
      ],
      "source": [
        "class Get_api:\n",
        "\n",
        "offset_ = 0\n",
        "limit_ = 500\n",
        "all_objects = []\n",
        "\n",
        "while True:\n",
        "    url = f'https://xn--80az8a.xn--d1aqf.xn--p1ai/%D1%81%D0%B5%D1%80%D0%B2%D0%B8%D1%81%D1%8B/api/kn/object?offset={offset_}&limit={limit_}&sortField=devId.devShortCleanNm&sortType=asc&objStatus=0'\n",
        "    tries = 5\n",
        "    while True:\n",
        "        response = requests.get(url)\n",
        "        if response.ok:\n",
        "            print(f'Страница получена! limit: {limit_}, offset: {offset_}')\n",
        "            break\n",
        "        tries -= 1\n",
        "        print(f'Ошибка: {response.status}.')\n",
        "        print(f'Осталось попыток {tries}.')\n",
        "        time.sleep(1 * tries)\n",
        "        if tries <= 0:\n",
        "            raise Exception('too_many_tries')\n",
        "\n",
        "    data_list = response.json().get('data', {}).get('list', [])\n",
        "    print(len(data_list))\n",
        "    if len(data_list) == 0: # прерываемся, если получили пустой массив\n",
        "        break\n",
        "    all_objects += data_list\n",
        "    offset_ += limit_\n",
        "\n",
        "json_str = json.dumps(all_objects)\n",
        "open('all_objects.json', 'w').write(json_str)"
      ]
    },
    {
      "cell_type": "code",
      "execution_count": 3,
      "id": "65eb3a9f",
      "metadata": {
        "colab": {
          "base_uri": "https://localhost:8080/",
          "height": 175
        },
        "id": "65eb3a9f",
        "outputId": "64b0fd03-60b3-4642-9bd7-1ab7a1427cd2"
      },
      "outputs": [
        {
          "output_type": "error",
          "ename": "NameError",
          "evalue": "ignored",
          "traceback": [
            "\u001b[0;31m---------------------------------------------------------------------------\u001b[0m",
            "\u001b[0;31mNameError\u001b[0m                                 Traceback (most recent call last)",
            "\u001b[0;32m<ipython-input-3-8c44adffa01d>\u001b[0m in \u001b[0;36m<cell line: 1>\u001b[0;34m()\u001b[0m\n\u001b[0;32m----> 1\u001b[0;31m \u001b[0mprint\u001b[0m\u001b[0;34m(\u001b[0m\u001b[0mlen\u001b[0m\u001b[0;34m(\u001b[0m\u001b[0mall_objects\u001b[0m\u001b[0;34m)\u001b[0m\u001b[0;34m)\u001b[0m\u001b[0;34m\u001b[0m\u001b[0;34m\u001b[0m\u001b[0m\n\u001b[0m",
            "\u001b[0;31mNameError\u001b[0m: name 'all_objects' is not defined"
          ]
        }
      ],
      "source": [
        "print(len(all_objects))"
      ]
    },
    {
      "cell_type": "code",
      "execution_count": 17,
      "id": "53dfab4c",
      "metadata": {
        "colab": {
          "base_uri": "https://localhost:8080/"
        },
        "id": "53dfab4c",
        "outputId": "fb1facda-5700-4674-fc84-bac460b9de13"
      },
      "outputs": [
        {
          "output_type": "stream",
          "name": "stdout",
          "text": [
            "11717\n"
          ]
        },
        {
          "output_type": "execute_result",
          "data": {
            "text/plain": [
              "list"
            ]
          },
          "metadata": {},
          "execution_count": 17
        }
      ],
      "source": [
        "import json\n",
        "f = open('all_objects.json')\n",
        "t = f.read()\n",
        "#print(t)\n",
        "all_objects = json.loads(t)\n",
        "print(len(all_objects))\n",
        "#type(all_objects)"
      ]
    },
    {
      "cell_type": "code",
      "source": [
        "#class Get_data:\n",
        "# import json\n",
        " #def __init__(self, ):\n",
        "  #import json\n",
        "\n",
        "   #f = open('all_objects.json')\n",
        "   #t = f.read()\n",
        "   #all_objects = json.loads(t)\n",
        "   #return (all_objects)\n",
        "   #print(t)\n",
        "   #print(len(all_objects))"
      ],
      "metadata": {
        "id": "bZH6Np1rBoak"
      },
      "id": "bZH6Np1rBoak",
      "execution_count": 20,
      "outputs": []
    },
    {
      "cell_type": "code",
      "source": [
        "#Сделали класс по загрузке данных из файла\n",
        "class FileReader:\n",
        "    import json\n",
        "    def __init__(self, filename):\n",
        "        self.filename = filename\n",
        "        f = open(filename)\n",
        "        self.content = f.read()\n",
        "\n",
        "    def parse_json(self):\n",
        "        return json.loads(self.content)"
      ],
      "metadata": {
        "id": "WVoYQ9P9B_y5"
      },
      "id": "WVoYQ9P9B_y5",
      "execution_count": 32,
      "outputs": []
    },
    {
      "cell_type": "code",
      "source": [
        "#Проверяем работу данного класса\n",
        "fr = FileReader('all_objects.json')\n",
        "arr = fr.parse_json()\n",
        "print(len(arr))\n",
        "print(arr[0])"
      ],
      "metadata": {
        "colab": {
          "base_uri": "https://localhost:8080/"
        },
        "id": "vaHBIjzTK9w-",
        "outputId": "42052531-b0ae-43c5-947e-72493fb792f8"
      },
      "id": "vaHBIjzTK9w-",
      "execution_count": 33,
      "outputs": [
        {
          "output_type": "stream",
          "name": "stdout",
          "text": [
            "11717\n",
            "{'hobjId': 34754, 'objId': 13399, 'developer': {'devId': 306, 'shortName': '2МЕН ГРУПП', 'fullName': '2МЕН ГРУПП', 'groupName': '2МЕН ГРУПП ДЕВЕЛОПМЕНТ', 'orgForm': {'id': 1, 'fullForm': 'Акционерное общество', 'shortForm': 'АО'}, 'companyGroup': 5776, 'devInn': '7701651356'}, 'rpdRegionCd': 72, 'objAddr': 'г Тюмень, ул Профсоюзная, д. 56', 'objFloorMin': 1, 'objFloorMax': 1, 'objElemLivingCnt': 0, 'objReady100PercDt': '2024-12-31', 'objSquareLiving': 0.0, 'objCompensFundFlg': 0, 'objProblemFlg': 0, 'latitude': 57.1519, 'longitude': 65.5544, 'problemFlag': 'NONE', 'siteStatus': 'Строящиеся', 'objGuarantyEscrowFlg': 0, 'residentialBuildings': 0, 'rpdNum': '72-000097', 'pdId': 28141, 'buildType': 'Нежилое', 'objStatus': 0, 'hobjRenderPhotoUrl': 'https://xn--80az8a.xn--d1aqf.xn--p1ai/api/ext/file/6C6B7A3A589C136AAB8F47F5BDCC02C31E7D0A1E', 'objPriceAVG': 50768, 'objPublDt': '2019-05-31'}\n"
          ]
        }
      ]
    },
    {
      "cell_type": "code",
      "source": [],
      "metadata": {
        "id": "0JFiSSs1K_LN"
      },
      "id": "0JFiSSs1K_LN",
      "execution_count": 35,
      "outputs": []
    },
    {
      "cell_type": "code",
      "source": [
        "# Создаем класс для таблицы DataFrame из всех полученных данных\n",
        "class cl_pd:\n",
        "    import pandas as pd\n",
        "    def __init__(self, arr):\n",
        "        self.df = pd.json_normalize(arr)\n"
      ],
      "metadata": {
        "id": "gzbQWKOuMS6x"
      },
      "id": "gzbQWKOuMS6x",
      "execution_count": 46,
      "outputs": []
    },
    {
      "cell_type": "code",
      "source": [
        "dff = cl_pd(arr)\n",
        "dff.df.shape"
      ],
      "metadata": {
        "colab": {
          "base_uri": "https://localhost:8080/"
        },
        "id": "Y2h89ATjMS9g",
        "outputId": "0b7b3ae8-ea11-4b08-ffe6-69e2cf676bcb"
      },
      "id": "Y2h89ATjMS9g",
      "execution_count": 50,
      "outputs": [
        {
          "output_type": "execute_result",
          "data": {
            "text/plain": [
              "(11717, 39)"
            ]
          },
          "metadata": {},
          "execution_count": 50
        }
      ]
    },
    {
      "cell_type": "code",
      "execution_count": 34,
      "id": "a9783172",
      "metadata": {
        "id": "a9783172"
      },
      "outputs": [],
      "source": [
        "# Создаем таблицу DataFrame из всех полученных данных\n",
        "#import pandas as pd\n",
        "#df = pd.json_normalize(all_objects)"
      ]
    },
    {
      "cell_type": "code",
      "source": [
        "#df.shape"
      ],
      "metadata": {
        "colab": {
          "base_uri": "https://localhost:8080/"
        },
        "id": "T4P9fLPGzkcP",
        "outputId": "b6dfa7c1-5f51-47ed-e6f4-d7f96103c2ab"
      },
      "id": "T4P9fLPGzkcP",
      "execution_count": 35,
      "outputs": [
        {
          "output_type": "execute_result",
          "data": {
            "text/plain": [
              "(11717, 39)"
            ]
          },
          "metadata": {},
          "execution_count": 35
        }
      ]
    },
    {
      "cell_type": "code",
      "source": [
        "# Смотрим топ 5 данных из нашей переменной dff нашего класса\n",
        "dff.df.head()"
      ],
      "metadata": {
        "colab": {
          "base_uri": "https://localhost:8080/",
          "height": 429
        },
        "id": "k7Hv7nH_zkWa",
        "outputId": "6fcd5459-db04-423e-fcac-bf0876debd37"
      },
      "id": "k7Hv7nH_zkWa",
      "execution_count": 48,
      "outputs": [
        {
          "output_type": "execute_result",
          "data": {
            "text/plain": [
              "   hobjId  objId  rpdRegionCd                          objAddr  objFloorMin  \\\n",
              "0   34754  13399           72  г Тюмень, ул Профсоюзная, д. 56            1   \n",
              "1   39024  13383           72  г Тюмень, ул Профсоюзная, д. 56            4   \n",
              "2   37201  13397           72  г Тюмень, ул Профсоюзная, д. 56            6   \n",
              "3   37165  13398           72  г Тюмень, ул Профсоюзная, д. 56            7   \n",
              "4   37219  13391           72  г Тюмень, ул Профсоюзная, д. 56            3   \n",
              "\n",
              "   objFloorMax  objElemLivingCnt objReady100PercDt  objSquareLiving  \\\n",
              "0            1                 0        2024-12-31             0.00   \n",
              "1           20                68        2023-12-31          6423.85   \n",
              "2           12                65        2024-12-31          6251.10   \n",
              "3           10                43        2024-12-31          4812.98   \n",
              "4           12                44        2023-12-31          4343.90   \n",
              "\n",
              "   objCompensFundFlg  ...  developer.orgForm.fullForm  \\\n",
              "0                  0  ...        Акционерное общество   \n",
              "1                  1  ...        Акционерное общество   \n",
              "2                  0  ...        Акционерное общество   \n",
              "3                  0  ...        Акционерное общество   \n",
              "4                  1  ...        Акционерное общество   \n",
              "\n",
              "   developer.orgForm.shortForm  developer.companyGroup developer.devInn  \\\n",
              "0                           АО                  5776.0       7701651356   \n",
              "1                           АО                  5776.0       7701651356   \n",
              "2                           АО                  5776.0       7701651356   \n",
              "3                           АО                  5776.0       7701651356   \n",
              "4                           АО                  5776.0       7701651356   \n",
              "\n",
              "  objCommercNm  complexShortName  developer.bankruptStage.bankruptStageCd  \\\n",
              "0          NaN               NaN                                      NaN   \n",
              "1          NaN               NaN                                      NaN   \n",
              "2          NaN               NaN                                      NaN   \n",
              "3          NaN               NaN                                      NaN   \n",
              "4          NaN               NaN                                      NaN   \n",
              "\n",
              "  developer.bankruptStage.bankruptStageDesc  \\\n",
              "0                                       NaN   \n",
              "1                                       NaN   \n",
              "2                                       NaN   \n",
              "3                                       NaN   \n",
              "4                                       NaN   \n",
              "\n",
              "   developer.bankruptStage.bankruptLawUrl developer.orgBankruptMsgDttm  \n",
              "0                                     NaN                          NaN  \n",
              "1                                     NaN                          NaN  \n",
              "2                                     NaN                          NaN  \n",
              "3                                     NaN                          NaN  \n",
              "4                                     NaN                          NaN  \n",
              "\n",
              "[5 rows x 39 columns]"
            ],
            "text/html": [
              "\n",
              "  <div id=\"df-f58b169e-c780-410f-91c9-c0bea48b956f\" class=\"colab-df-container\">\n",
              "    <div>\n",
              "<style scoped>\n",
              "    .dataframe tbody tr th:only-of-type {\n",
              "        vertical-align: middle;\n",
              "    }\n",
              "\n",
              "    .dataframe tbody tr th {\n",
              "        vertical-align: top;\n",
              "    }\n",
              "\n",
              "    .dataframe thead th {\n",
              "        text-align: right;\n",
              "    }\n",
              "</style>\n",
              "<table border=\"1\" class=\"dataframe\">\n",
              "  <thead>\n",
              "    <tr style=\"text-align: right;\">\n",
              "      <th></th>\n",
              "      <th>hobjId</th>\n",
              "      <th>objId</th>\n",
              "      <th>rpdRegionCd</th>\n",
              "      <th>objAddr</th>\n",
              "      <th>objFloorMin</th>\n",
              "      <th>objFloorMax</th>\n",
              "      <th>objElemLivingCnt</th>\n",
              "      <th>objReady100PercDt</th>\n",
              "      <th>objSquareLiving</th>\n",
              "      <th>objCompensFundFlg</th>\n",
              "      <th>...</th>\n",
              "      <th>developer.orgForm.fullForm</th>\n",
              "      <th>developer.orgForm.shortForm</th>\n",
              "      <th>developer.companyGroup</th>\n",
              "      <th>developer.devInn</th>\n",
              "      <th>objCommercNm</th>\n",
              "      <th>complexShortName</th>\n",
              "      <th>developer.bankruptStage.bankruptStageCd</th>\n",
              "      <th>developer.bankruptStage.bankruptStageDesc</th>\n",
              "      <th>developer.bankruptStage.bankruptLawUrl</th>\n",
              "      <th>developer.orgBankruptMsgDttm</th>\n",
              "    </tr>\n",
              "  </thead>\n",
              "  <tbody>\n",
              "    <tr>\n",
              "      <th>0</th>\n",
              "      <td>34754</td>\n",
              "      <td>13399</td>\n",
              "      <td>72</td>\n",
              "      <td>г Тюмень, ул Профсоюзная, д. 56</td>\n",
              "      <td>1</td>\n",
              "      <td>1</td>\n",
              "      <td>0</td>\n",
              "      <td>2024-12-31</td>\n",
              "      <td>0.00</td>\n",
              "      <td>0</td>\n",
              "      <td>...</td>\n",
              "      <td>Акционерное общество</td>\n",
              "      <td>АО</td>\n",
              "      <td>5776.0</td>\n",
              "      <td>7701651356</td>\n",
              "      <td>NaN</td>\n",
              "      <td>NaN</td>\n",
              "      <td>NaN</td>\n",
              "      <td>NaN</td>\n",
              "      <td>NaN</td>\n",
              "      <td>NaN</td>\n",
              "    </tr>\n",
              "    <tr>\n",
              "      <th>1</th>\n",
              "      <td>39024</td>\n",
              "      <td>13383</td>\n",
              "      <td>72</td>\n",
              "      <td>г Тюмень, ул Профсоюзная, д. 56</td>\n",
              "      <td>4</td>\n",
              "      <td>20</td>\n",
              "      <td>68</td>\n",
              "      <td>2023-12-31</td>\n",
              "      <td>6423.85</td>\n",
              "      <td>1</td>\n",
              "      <td>...</td>\n",
              "      <td>Акционерное общество</td>\n",
              "      <td>АО</td>\n",
              "      <td>5776.0</td>\n",
              "      <td>7701651356</td>\n",
              "      <td>NaN</td>\n",
              "      <td>NaN</td>\n",
              "      <td>NaN</td>\n",
              "      <td>NaN</td>\n",
              "      <td>NaN</td>\n",
              "      <td>NaN</td>\n",
              "    </tr>\n",
              "    <tr>\n",
              "      <th>2</th>\n",
              "      <td>37201</td>\n",
              "      <td>13397</td>\n",
              "      <td>72</td>\n",
              "      <td>г Тюмень, ул Профсоюзная, д. 56</td>\n",
              "      <td>6</td>\n",
              "      <td>12</td>\n",
              "      <td>65</td>\n",
              "      <td>2024-12-31</td>\n",
              "      <td>6251.10</td>\n",
              "      <td>0</td>\n",
              "      <td>...</td>\n",
              "      <td>Акционерное общество</td>\n",
              "      <td>АО</td>\n",
              "      <td>5776.0</td>\n",
              "      <td>7701651356</td>\n",
              "      <td>NaN</td>\n",
              "      <td>NaN</td>\n",
              "      <td>NaN</td>\n",
              "      <td>NaN</td>\n",
              "      <td>NaN</td>\n",
              "      <td>NaN</td>\n",
              "    </tr>\n",
              "    <tr>\n",
              "      <th>3</th>\n",
              "      <td>37165</td>\n",
              "      <td>13398</td>\n",
              "      <td>72</td>\n",
              "      <td>г Тюмень, ул Профсоюзная, д. 56</td>\n",
              "      <td>7</td>\n",
              "      <td>10</td>\n",
              "      <td>43</td>\n",
              "      <td>2024-12-31</td>\n",
              "      <td>4812.98</td>\n",
              "      <td>0</td>\n",
              "      <td>...</td>\n",
              "      <td>Акционерное общество</td>\n",
              "      <td>АО</td>\n",
              "      <td>5776.0</td>\n",
              "      <td>7701651356</td>\n",
              "      <td>NaN</td>\n",
              "      <td>NaN</td>\n",
              "      <td>NaN</td>\n",
              "      <td>NaN</td>\n",
              "      <td>NaN</td>\n",
              "      <td>NaN</td>\n",
              "    </tr>\n",
              "    <tr>\n",
              "      <th>4</th>\n",
              "      <td>37219</td>\n",
              "      <td>13391</td>\n",
              "      <td>72</td>\n",
              "      <td>г Тюмень, ул Профсоюзная, д. 56</td>\n",
              "      <td>3</td>\n",
              "      <td>12</td>\n",
              "      <td>44</td>\n",
              "      <td>2023-12-31</td>\n",
              "      <td>4343.90</td>\n",
              "      <td>1</td>\n",
              "      <td>...</td>\n",
              "      <td>Акционерное общество</td>\n",
              "      <td>АО</td>\n",
              "      <td>5776.0</td>\n",
              "      <td>7701651356</td>\n",
              "      <td>NaN</td>\n",
              "      <td>NaN</td>\n",
              "      <td>NaN</td>\n",
              "      <td>NaN</td>\n",
              "      <td>NaN</td>\n",
              "      <td>NaN</td>\n",
              "    </tr>\n",
              "  </tbody>\n",
              "</table>\n",
              "<p>5 rows × 39 columns</p>\n",
              "</div>\n",
              "    <div class=\"colab-df-buttons\">\n",
              "\n",
              "  <div class=\"colab-df-container\">\n",
              "    <button class=\"colab-df-convert\" onclick=\"convertToInteractive('df-f58b169e-c780-410f-91c9-c0bea48b956f')\"\n",
              "            title=\"Convert this dataframe to an interactive table.\"\n",
              "            style=\"display:none;\">\n",
              "\n",
              "  <svg xmlns=\"http://www.w3.org/2000/svg\" height=\"24px\" viewBox=\"0 -960 960 960\">\n",
              "    <path d=\"M120-120v-720h720v720H120Zm60-500h600v-160H180v160Zm220 220h160v-160H400v160Zm0 220h160v-160H400v160ZM180-400h160v-160H180v160Zm440 0h160v-160H620v160ZM180-180h160v-160H180v160Zm440 0h160v-160H620v160Z\"/>\n",
              "  </svg>\n",
              "    </button>\n",
              "\n",
              "  <style>\n",
              "    .colab-df-container {\n",
              "      display:flex;\n",
              "      gap: 12px;\n",
              "    }\n",
              "\n",
              "    .colab-df-convert {\n",
              "      background-color: #E8F0FE;\n",
              "      border: none;\n",
              "      border-radius: 50%;\n",
              "      cursor: pointer;\n",
              "      display: none;\n",
              "      fill: #1967D2;\n",
              "      height: 32px;\n",
              "      padding: 0 0 0 0;\n",
              "      width: 32px;\n",
              "    }\n",
              "\n",
              "    .colab-df-convert:hover {\n",
              "      background-color: #E2EBFA;\n",
              "      box-shadow: 0px 1px 2px rgba(60, 64, 67, 0.3), 0px 1px 3px 1px rgba(60, 64, 67, 0.15);\n",
              "      fill: #174EA6;\n",
              "    }\n",
              "\n",
              "    .colab-df-buttons div {\n",
              "      margin-bottom: 4px;\n",
              "    }\n",
              "\n",
              "    [theme=dark] .colab-df-convert {\n",
              "      background-color: #3B4455;\n",
              "      fill: #D2E3FC;\n",
              "    }\n",
              "\n",
              "    [theme=dark] .colab-df-convert:hover {\n",
              "      background-color: #434B5C;\n",
              "      box-shadow: 0px 1px 3px 1px rgba(0, 0, 0, 0.15);\n",
              "      filter: drop-shadow(0px 1px 2px rgba(0, 0, 0, 0.3));\n",
              "      fill: #FFFFFF;\n",
              "    }\n",
              "  </style>\n",
              "\n",
              "    <script>\n",
              "      const buttonEl =\n",
              "        document.querySelector('#df-f58b169e-c780-410f-91c9-c0bea48b956f button.colab-df-convert');\n",
              "      buttonEl.style.display =\n",
              "        google.colab.kernel.accessAllowed ? 'block' : 'none';\n",
              "\n",
              "      async function convertToInteractive(key) {\n",
              "        const element = document.querySelector('#df-f58b169e-c780-410f-91c9-c0bea48b956f');\n",
              "        const dataTable =\n",
              "          await google.colab.kernel.invokeFunction('convertToInteractive',\n",
              "                                                    [key], {});\n",
              "        if (!dataTable) return;\n",
              "\n",
              "        const docLinkHtml = 'Like what you see? Visit the ' +\n",
              "          '<a target=\"_blank\" href=https://colab.research.google.com/notebooks/data_table.ipynb>data table notebook</a>'\n",
              "          + ' to learn more about interactive tables.';\n",
              "        element.innerHTML = '';\n",
              "        dataTable['output_type'] = 'display_data';\n",
              "        await google.colab.output.renderOutput(dataTable, element);\n",
              "        const docLink = document.createElement('div');\n",
              "        docLink.innerHTML = docLinkHtml;\n",
              "        element.appendChild(docLink);\n",
              "      }\n",
              "    </script>\n",
              "  </div>\n",
              "\n",
              "\n",
              "<div id=\"df-5f419243-dae7-42e4-87b0-42a2ec0fdbb0\">\n",
              "  <button class=\"colab-df-quickchart\" onclick=\"quickchart('df-5f419243-dae7-42e4-87b0-42a2ec0fdbb0')\"\n",
              "            title=\"Suggest charts\"\n",
              "            style=\"display:none;\">\n",
              "\n",
              "<svg xmlns=\"http://www.w3.org/2000/svg\" height=\"24px\"viewBox=\"0 0 24 24\"\n",
              "     width=\"24px\">\n",
              "    <g>\n",
              "        <path d=\"M19 3H5c-1.1 0-2 .9-2 2v14c0 1.1.9 2 2 2h14c1.1 0 2-.9 2-2V5c0-1.1-.9-2-2-2zM9 17H7v-7h2v7zm4 0h-2V7h2v10zm4 0h-2v-4h2v4z\"/>\n",
              "    </g>\n",
              "</svg>\n",
              "  </button>\n",
              "\n",
              "<style>\n",
              "  .colab-df-quickchart {\n",
              "      --bg-color: #E8F0FE;\n",
              "      --fill-color: #1967D2;\n",
              "      --hover-bg-color: #E2EBFA;\n",
              "      --hover-fill-color: #174EA6;\n",
              "      --disabled-fill-color: #AAA;\n",
              "      --disabled-bg-color: #DDD;\n",
              "  }\n",
              "\n",
              "  [theme=dark] .colab-df-quickchart {\n",
              "      --bg-color: #3B4455;\n",
              "      --fill-color: #D2E3FC;\n",
              "      --hover-bg-color: #434B5C;\n",
              "      --hover-fill-color: #FFFFFF;\n",
              "      --disabled-bg-color: #3B4455;\n",
              "      --disabled-fill-color: #666;\n",
              "  }\n",
              "\n",
              "  .colab-df-quickchart {\n",
              "    background-color: var(--bg-color);\n",
              "    border: none;\n",
              "    border-radius: 50%;\n",
              "    cursor: pointer;\n",
              "    display: none;\n",
              "    fill: var(--fill-color);\n",
              "    height: 32px;\n",
              "    padding: 0;\n",
              "    width: 32px;\n",
              "  }\n",
              "\n",
              "  .colab-df-quickchart:hover {\n",
              "    background-color: var(--hover-bg-color);\n",
              "    box-shadow: 0 1px 2px rgba(60, 64, 67, 0.3), 0 1px 3px 1px rgba(60, 64, 67, 0.15);\n",
              "    fill: var(--button-hover-fill-color);\n",
              "  }\n",
              "\n",
              "  .colab-df-quickchart-complete:disabled,\n",
              "  .colab-df-quickchart-complete:disabled:hover {\n",
              "    background-color: var(--disabled-bg-color);\n",
              "    fill: var(--disabled-fill-color);\n",
              "    box-shadow: none;\n",
              "  }\n",
              "\n",
              "  .colab-df-spinner {\n",
              "    border: 2px solid var(--fill-color);\n",
              "    border-color: transparent;\n",
              "    border-bottom-color: var(--fill-color);\n",
              "    animation:\n",
              "      spin 1s steps(1) infinite;\n",
              "  }\n",
              "\n",
              "  @keyframes spin {\n",
              "    0% {\n",
              "      border-color: transparent;\n",
              "      border-bottom-color: var(--fill-color);\n",
              "      border-left-color: var(--fill-color);\n",
              "    }\n",
              "    20% {\n",
              "      border-color: transparent;\n",
              "      border-left-color: var(--fill-color);\n",
              "      border-top-color: var(--fill-color);\n",
              "    }\n",
              "    30% {\n",
              "      border-color: transparent;\n",
              "      border-left-color: var(--fill-color);\n",
              "      border-top-color: var(--fill-color);\n",
              "      border-right-color: var(--fill-color);\n",
              "    }\n",
              "    40% {\n",
              "      border-color: transparent;\n",
              "      border-right-color: var(--fill-color);\n",
              "      border-top-color: var(--fill-color);\n",
              "    }\n",
              "    60% {\n",
              "      border-color: transparent;\n",
              "      border-right-color: var(--fill-color);\n",
              "    }\n",
              "    80% {\n",
              "      border-color: transparent;\n",
              "      border-right-color: var(--fill-color);\n",
              "      border-bottom-color: var(--fill-color);\n",
              "    }\n",
              "    90% {\n",
              "      border-color: transparent;\n",
              "      border-bottom-color: var(--fill-color);\n",
              "    }\n",
              "  }\n",
              "</style>\n",
              "\n",
              "  <script>\n",
              "    async function quickchart(key) {\n",
              "      const quickchartButtonEl =\n",
              "        document.querySelector('#' + key + ' button');\n",
              "      quickchartButtonEl.disabled = true;  // To prevent multiple clicks.\n",
              "      quickchartButtonEl.classList.add('colab-df-spinner');\n",
              "      try {\n",
              "        const charts = await google.colab.kernel.invokeFunction(\n",
              "            'suggestCharts', [key], {});\n",
              "      } catch (error) {\n",
              "        console.error('Error during call to suggestCharts:', error);\n",
              "      }\n",
              "      quickchartButtonEl.classList.remove('colab-df-spinner');\n",
              "      quickchartButtonEl.classList.add('colab-df-quickchart-complete');\n",
              "    }\n",
              "    (() => {\n",
              "      let quickchartButtonEl =\n",
              "        document.querySelector('#df-5f419243-dae7-42e4-87b0-42a2ec0fdbb0 button');\n",
              "      quickchartButtonEl.style.display =\n",
              "        google.colab.kernel.accessAllowed ? 'block' : 'none';\n",
              "    })();\n",
              "  </script>\n",
              "</div>\n",
              "    </div>\n",
              "  </div>\n"
            ]
          },
          "metadata": {},
          "execution_count": 48
        }
      ]
    },
    {
      "cell_type": "code",
      "source": [
        "# Сохраняем в csv файл\n",
        "df.to_csv('vacancies.csv', index=False)\n",
        "# Сохраняем в эксель-файл\n",
        "df.to_excel('vacancies.xlsx', index=False)\n",
        "# Сохраняем в файл в формате pickle\n",
        "df.to_pickle('vacancies.pkl')"
      ],
      "metadata": {
        "id": "dDs4Tbz9zkh2"
      },
      "id": "dDs4Tbz9zkh2",
      "execution_count": null,
      "outputs": []
    },
    {
      "cell_type": "code",
      "source": [
        "class Save_f:\n",
        "    import pandas as pd\n",
        "    def to_csv(self, ):\n",
        "        self.df.to_csv('vacancies.csv', index=False)\n",
        "\n",
        "    def to_xlsx(self, ):\n",
        "        self.df.to_excel('vacancies.xlsx', index=False)\n",
        "\n",
        "    def to_pickle(self, ):\n",
        "        self.df.to_pickle('vacancies.pkl')"
      ],
      "metadata": {
        "id": "CBeGzHvQQQ1N"
      },
      "id": "CBeGzHvQQQ1N",
      "execution_count": 59,
      "outputs": []
    },
    {
      "cell_type": "code",
      "source": [
        "SaveF = save_f(dff)"
      ],
      "metadata": {
        "colab": {
          "base_uri": "https://localhost:8080/",
          "height": 175
        },
        "id": "BnAS5bAsTKpw",
        "outputId": "375c250f-7b63-4433-ad2b-0ee4e67235ee"
      },
      "id": "BnAS5bAsTKpw",
      "execution_count": 61,
      "outputs": [
        {
          "output_type": "error",
          "ename": "TypeError",
          "evalue": "ignored",
          "traceback": [
            "\u001b[0;31m---------------------------------------------------------------------------\u001b[0m",
            "\u001b[0;31mTypeError\u001b[0m                                 Traceback (most recent call last)",
            "\u001b[0;32m<ipython-input-61-0361bafb9d9a>\u001b[0m in \u001b[0;36m<cell line: 1>\u001b[0;34m()\u001b[0m\n\u001b[0;32m----> 1\u001b[0;31m \u001b[0mSaveF\u001b[0m \u001b[0;34m=\u001b[0m \u001b[0msave_f\u001b[0m\u001b[0;34m(\u001b[0m\u001b[0mdff\u001b[0m\u001b[0;34m)\u001b[0m\u001b[0;34m\u001b[0m\u001b[0;34m\u001b[0m\u001b[0m\n\u001b[0m",
            "\u001b[0;31mTypeError\u001b[0m: save_f() takes no arguments"
          ]
        }
      ]
    },
    {
      "cell_type": "code",
      "source": [
        "#Делаем класс по сохранению файлов\n",
        "class DFSaver:\n",
        "    #import pandas as pd\n",
        "    def __init__(self, df):\n",
        "        self.df = df\n",
        "\n",
        "    def to_csv(self, filename):\n",
        "        self.df.to_csv(filename, index=False)\n",
        "\n",
        "    def to_excel(self, filename):\n",
        "        self.df.to_excel(filename, index=False)\n",
        "\n",
        "    def to_pickle(self, filename):\n",
        "        self.df.to_pickle(filename, )"
      ],
      "metadata": {
        "id": "GMg4Jei4UZnu"
      },
      "id": "GMg4Jei4UZnu",
      "execution_count": 69,
      "outputs": []
    },
    {
      "cell_type": "code",
      "source": [
        "df_saver = DFSaver(dff.df)\n",
        "df_saver.to_csv('vacancies.csv')"
      ],
      "metadata": {
        "id": "kFve7HWEU02T"
      },
      "id": "kFve7HWEU02T",
      "execution_count": 70,
      "outputs": []
    },
    {
      "cell_type": "code",
      "source": [
        "#full_obj = []\n",
        "#for dom_id in tqdm(full_domID):\n",
        "   # url = f'https://xn--80az8a.xn--d1aqf.xn--p1ai/%D1%81%D0%B5%D1%80%D0%B2%D0%B8%D1%81%D1%8B/api/object/{dom_id}'\n",
        "   # ress = requests.get(url)\n",
        "  #  one_dom = ress.json()\n",
        "    #full_obj.append(one_dom)"
      ],
      "metadata": {
        "id": "UnCyLEzQzknt"
      },
      "id": "UnCyLEzQzknt",
      "execution_count": 63,
      "outputs": []
    },
    {
      "cell_type": "code",
      "source": [
        "df.columns"
      ],
      "metadata": {
        "colab": {
          "base_uri": "https://localhost:8080/"
        },
        "id": "5po4lhYV-ZAP",
        "outputId": "daebacb6-35a9-40ab-d68f-231daf511774"
      },
      "id": "5po4lhYV-ZAP",
      "execution_count": null,
      "outputs": [
        {
          "output_type": "execute_result",
          "data": {
            "text/plain": [
              "Index(['hobjId', 'objId', 'rpdRegionCd', 'objAddr', 'objFloorMin',\n",
              "       'objFloorMax', 'objElemLivingCnt', 'objReady100PercDt',\n",
              "       'objSquareLiving', 'objCompensFundFlg', 'objProblemFlg', 'latitude',\n",
              "       'longitude', 'problemFlag', 'siteStatus', 'objGuarantyEscrowFlg',\n",
              "       'residentialBuildings', 'rpdNum', 'pdId', 'buildType', 'objStatus',\n",
              "       'hobjRenderPhotoUrl', 'objPriceAVG', 'objPublDt', 'developer.devId',\n",
              "       'developer.shortName', 'developer.fullName', 'developer.groupName',\n",
              "       'developer.orgForm.id', 'developer.orgForm.fullForm',\n",
              "       'developer.orgForm.shortForm', 'developer.companyGroup',\n",
              "       'developer.devInn', 'objCommercNm', 'complexShortName',\n",
              "       'developer.bankruptStage.bankruptStageCd',\n",
              "       'developer.bankruptStage.bankruptStageDesc',\n",
              "       'developer.bankruptStage.bankruptLawUrl',\n",
              "       'developer.orgBankruptMsgDttm'],\n",
              "      dtype='object')"
            ]
          },
          "metadata": {},
          "execution_count": 7
        }
      ]
    },
    {
      "cell_type": "code",
      "source": [
        "type(df.objReady100PercDt[0])"
      ],
      "metadata": {
        "colab": {
          "base_uri": "https://localhost:8080/"
        },
        "id": "FsnEfA6V-ZH4",
        "outputId": "2640415e-71c3-48f5-c499-2ef76e6cf20d"
      },
      "id": "FsnEfA6V-ZH4",
      "execution_count": null,
      "outputs": [
        {
          "output_type": "execute_result",
          "data": {
            "text/plain": [
              "str"
            ]
          },
          "metadata": {},
          "execution_count": 8
        }
      ]
    },
    {
      "cell_type": "code",
      "source": [
        "#df_norm = df\n",
        "#df_norm.columns\n",
        "#drop multiple columns by name\n",
        "#df_norm.drop(['hobjId',   'objFloorMin',\n",
        " #      'objFloorMax', 'objElemLivingCnt',\n",
        "  #      'objCompensFundFlg', 'objProblemFlg', 'latitude',\n",
        "  #     'longitude', 'problemFlag', 'siteStatus', 'objGuarantyEscrowFlg',\n",
        "  #     'residentialBuildings', 'rpdNum', 'pdId', 'objStatus',\n",
        "  #     'hobjRenderPhotoUrl',  'objPublDt', 'developer.devId',\n",
        "  #     'developer.shortName', 'developer.fullName',\n",
        "  #     'developer.orgForm.id', 'developer.orgForm.fullForm',\n",
        "  #     'developer.orgForm.shortForm', 'developer.companyGroup',\n",
        "  #       'complexShortName',\n",
        "   #    'developer.bankruptStage.bankruptStageCd',\n",
        "   #    'developer.bankruptStage.bankruptStageDesc',\n",
        "   #    'developer.bankruptStage.bankruptLawUrl',\n",
        "    #   'developer.orgBankruptMsgDttm'], axis= 1 , inplace= True )\n"
      ],
      "metadata": {
        "id": "Cv8J40A8-ZKB"
      },
      "id": "Cv8J40A8-ZKB",
      "execution_count": null,
      "outputs": []
    },
    {
      "cell_type": "code",
      "source": [
        "#objId\n",
        "#rpdRegionCd\n",
        "#objAddr\n",
        "#objReady100PercDt\n",
        "#objSquareLiving\n",
        "#buildType\n",
        "#objPriceAVG\n",
        "#developer.groupName\n",
        "#developer.devInn\n",
        "#objCommercNm\n",
        "#df_norm.columns"
      ],
      "metadata": {
        "id": "lsqM0YT7BJ4d"
      },
      "id": "lsqM0YT7BJ4d",
      "execution_count": null,
      "outputs": []
    },
    {
      "cell_type": "code",
      "source": [
        "df.columns"
      ],
      "metadata": {
        "colab": {
          "base_uri": "https://localhost:8080/"
        },
        "id": "jGAAHdeX-ZLw",
        "outputId": "2ed6297d-57a4-430e-a3ab-e8cc8214aaa1"
      },
      "id": "jGAAHdeX-ZLw",
      "execution_count": null,
      "outputs": [
        {
          "output_type": "execute_result",
          "data": {
            "text/plain": [
              "Index(['hobjId', 'objId', 'rpdRegionCd', 'objAddr', 'objFloorMin',\n",
              "       'objFloorMax', 'objElemLivingCnt', 'objReady100PercDt',\n",
              "       'objSquareLiving', 'objCompensFundFlg', 'objProblemFlg', 'latitude',\n",
              "       'longitude', 'problemFlag', 'siteStatus', 'objGuarantyEscrowFlg',\n",
              "       'residentialBuildings', 'rpdNum', 'pdId', 'buildType', 'objStatus',\n",
              "       'hobjRenderPhotoUrl', 'objPriceAVG', 'objPublDt', 'developer.devId',\n",
              "       'developer.shortName', 'developer.fullName', 'developer.groupName',\n",
              "       'developer.orgForm.id', 'developer.orgForm.fullForm',\n",
              "       'developer.orgForm.shortForm', 'developer.companyGroup',\n",
              "       'developer.devInn', 'objCommercNm', 'complexShortName',\n",
              "       'developer.bankruptStage.bankruptStageCd',\n",
              "       'developer.bankruptStage.bankruptStageDesc',\n",
              "       'developer.bankruptStage.bankruptLawUrl',\n",
              "       'developer.orgBankruptMsgDttm'],\n",
              "      dtype='object')"
            ]
          },
          "metadata": {},
          "execution_count": 9
        }
      ]
    },
    {
      "cell_type": "code",
      "source": [
        "bm_price_series = df.set_index('objAddr')['objPriceAVG']\n",
        "bm_price_series.head()"
      ],
      "metadata": {
        "colab": {
          "base_uri": "https://localhost:8080/"
        },
        "id": "ua_sSUvW-ZNq",
        "outputId": "807db2eb-b85a-4198-fea2-acd6db7fea37"
      },
      "id": "ua_sSUvW-ZNq",
      "execution_count": null,
      "outputs": [
        {
          "output_type": "execute_result",
          "data": {
            "text/plain": [
              "objAddr\n",
              "г Тюмень, ул Профсоюзная, д. 56    50768.0\n",
              "г Тюмень, ул Профсоюзная, д. 56    67159.0\n",
              "г Тюмень, ул Профсоюзная, д. 56    47163.0\n",
              "г Тюмень, ул Профсоюзная, д. 56    47886.0\n",
              "г Тюмень, ул Профсоюзная, д. 56    62638.0\n",
              "Name: objPriceAVG, dtype: float64"
            ]
          },
          "metadata": {},
          "execution_count": 57
        }
      ]
    },
    {
      "cell_type": "code",
      "source": [
        "bm_kodreg_addr = df.set_index('objAddr')['rpdRegionCd']\n",
        "bm_kodreg_addr.drop_duplicates().head()\n",
        "#bm_kodreg_addr.head()"
      ],
      "metadata": {
        "colab": {
          "base_uri": "https://localhost:8080/"
        },
        "id": "-z_pKIWcoy_o",
        "outputId": "71dca4e5-556b-449a-aa4e-9936d1745a70"
      },
      "id": "-z_pKIWcoy_o",
      "execution_count": null,
      "outputs": [
        {
          "output_type": "execute_result",
          "data": {
            "text/plain": [
              "objAddr\n",
              "г Тюмень, ул Профсоюзная, д. 56                  72\n",
              "г Вологда, ул Медуницинская, д. 11               35\n",
              "город Новосибирск, район Советский               54\n",
              "г Казань, район Приволжский р-н, ул Карбышева    16\n",
              "г Лыткарино, мкр 6-й, корпус 4                   50\n",
              "Name: rpdRegionCd, dtype: int64"
            ]
          },
          "metadata": {},
          "execution_count": 59
        }
      ]
    },
    {
      "cell_type": "code",
      "source": [
        "#ВЫВЕЛИ ТОП 5 РАЙОНОВ С МАКСИМАЛЬНОЙ ЦЕНОЙ\n",
        "bm_price_series = df.sort_values(by='objPriceAVG', ascending=False).set_index('objAddr')['objPriceAVG']\n",
        "bm_price_series.head()"
      ],
      "metadata": {
        "colab": {
          "base_uri": "https://localhost:8080/"
        },
        "id": "RwIh3CuFhDSh",
        "outputId": "dd9b9a60-a81b-4f1d-cf3e-bc141bf138af"
      },
      "id": "RwIh3CuFhDSh",
      "execution_count": null,
      "outputs": [
        {
          "output_type": "execute_result",
          "data": {
            "text/plain": [
              "objAddr\n",
              "г Москва, район Пресненский р-н, пер Брюсов, д. 2/14, строение 10                      2820739.0\n",
              "г Москва, район Пресненский р-н, пер Трёхпрудный, д. 9, строение 2                     2600000.0\n",
              "г Москва, район Тверской р-н, ул Ильинка, д. 3/8                                       2259458.0\n",
              "г Москва, пер 3-й Обыденский, вл. 1                                                    2239098.0\n",
              "г Москва, район Р-н Якиманка, пер Большой Толмачёвский, корпус 4, строение 5, вл. 5    2212890.0\n",
              "Name: objPriceAVG, dtype: float64"
            ]
          },
          "metadata": {},
          "execution_count": 48
        }
      ]
    },
    {
      "cell_type": "code",
      "source": [
        "#проверил командой максимум\n",
        "bm_price_series.max()"
      ],
      "metadata": {
        "colab": {
          "base_uri": "https://localhost:8080/"
        },
        "id": "pzlvRNlUglE4",
        "outputId": "70ebeef6-bfeb-4d0b-e59b-4850327a1bec"
      },
      "id": "pzlvRNlUglE4",
      "execution_count": null,
      "outputs": [
        {
          "output_type": "execute_result",
          "data": {
            "text/plain": [
              "2820739.0"
            ]
          },
          "metadata": {},
          "execution_count": 32
        }
      ]
    },
    {
      "cell_type": "code",
      "source": [
        "#проверил цену сортировкой массива\n",
        "from heapq import nlargest\n",
        "res1 = nlargest(5, bm_price_series)\n",
        "print(res1)"
      ],
      "metadata": {
        "colab": {
          "base_uri": "https://localhost:8080/"
        },
        "id": "TILEDgulgd3M",
        "outputId": "f0662a97-ccfe-459e-b280-d7cbf0031717"
      },
      "id": "TILEDgulgd3M",
      "execution_count": null,
      "outputs": [
        {
          "output_type": "stream",
          "name": "stdout",
          "text": [
            "[2820739.0, 2600000.0, 2259458.0, 2239098.0, 2212890.0]\n"
          ]
        }
      ]
    },
    {
      "cell_type": "code",
      "source": [
        "type(res1)"
      ],
      "metadata": {
        "colab": {
          "base_uri": "https://localhost:8080/"
        },
        "id": "BQxc7C9fhuNT",
        "outputId": "65f0d95c-aa2b-4c1d-e916-88a6380e77e1"
      },
      "id": "BQxc7C9fhuNT",
      "execution_count": null,
      "outputs": [
        {
          "output_type": "execute_result",
          "data": {
            "text/plain": [
              "list"
            ]
          },
          "metadata": {},
          "execution_count": 40
        }
      ]
    },
    {
      "cell_type": "code",
      "source": [
        "#Загружаем все необходимые библиотеки\n",
        "import os\n",
        "import numpy as np\n",
        "import pandas as pd\n",
        "import matplotlib.pyplot as plt"
      ],
      "metadata": {
        "id": "qLP-wGJ6hsb_"
      },
      "id": "qLP-wGJ6hsb_",
      "execution_count": null,
      "outputs": []
    },
    {
      "cell_type": "code",
      "source": [
        "price_by_region = df[df['objPriceAVG'].notnull()].groupby('rpdRegionCd')['objPriceAVG'].mean()"
      ],
      "metadata": {
        "id": "3niqo9JukSK8"
      },
      "id": "3niqo9JukSK8",
      "execution_count": null,
      "outputs": []
    },
    {
      "cell_type": "code",
      "source": [
        "#price_by_region = df[df['objPriceAVG'].notnull()].groupby('rpdRegionCd')['objPriceAVG'].mean()\n",
        "\n",
        "#строим диаграммы в соответствии с примерами про бигмаки, по оси Y цена за квадратный метр по оси Х код региона\n",
        "import matplotlib.pyplot as plt\n",
        "price_by_region.plot(kind='bar')\n",
        "plt.show"
      ],
      "metadata": {
        "colab": {
          "base_uri": "https://localhost:8080/",
          "height": 470
        },
        "id": "uUFRSL1kiyxA",
        "outputId": "7b4c0160-c365-4321-8b45-d70fe3533f07"
      },
      "id": "uUFRSL1kiyxA",
      "execution_count": null,
      "outputs": [
        {
          "output_type": "execute_result",
          "data": {
            "text/plain": [
              "<function matplotlib.pyplot.show(close=None, block=None)>"
            ]
          },
          "metadata": {},
          "execution_count": 51
        },
        {
          "output_type": "display_data",
          "data": {
            "text/plain": [
              "<Figure size 640x480 with 1 Axes>"
            ],
            "image/png": "[encoded data removed]"
          },
          "metadata": {}
        }
      ]
    },
    {
      "cell_type": "code",
      "source": [
        "#Сделали диаграмму со средними ценами на квадратный метр более читаемой, добавил описание осей.\n",
        "from pylab import rcParams\n",
        "rcParams['figure.figsize'] = 19,12\n",
        "price_by_region.plot(kind='bar')\n",
        "plt.xlabel('Код Региона')\n",
        "plt.ylabel('Средняя стоимость квадратного метра')\n",
        "plt.show()"
      ],
      "metadata": {
        "colab": {
          "base_uri": "https://localhost:8080/",
          "height": 1000
        },
        "id": "8p90ZwOSg0Sz",
        "outputId": "6e78ead3-eccb-4097-9c68-39e0fdf7c52b"
      },
      "id": "8p90ZwOSg0Sz",
      "execution_count": null,
      "outputs": [
        {
          "output_type": "display_data",
          "data": {
            "text/plain": [
              "<Figure size 1900x1200 with 1 Axes>"
            ],
            "image/png": "[encoded data removed]"
          },
          "metadata": {}
        }
      ]
    },
    {
      "cell_type": "code",
      "source": [
        "#Отсортировали рассматриваемую сортировку\n",
        "price_by_region.sort_values(ascending=False).plot(kind='barh')\n",
        "plt.ylabel('Код региона')\n",
        "plt.xlabel('Средняя стоимость квадратного метра')\n",
        "plt.show()"
      ],
      "metadata": {
        "colab": {
          "base_uri": "https://localhost:8080/",
          "height": 1000
        },
        "id": "OoaTP6QOlhIz",
        "outputId": "c80ebc92-e112-4c9f-bcb1-61d16bc23e70"
      },
      "id": "OoaTP6QOlhIz",
      "execution_count": null,
      "outputs": [
        {
          "output_type": "display_data",
          "data": {
            "text/plain": [
              "<Figure size 1900x1200 with 1 Axes>"
            ],
            "image/png": "[encoded data removed]"
          },
          "metadata": {}
        }
      ]
    },
    {
      "cell_type": "code",
      "source": [
        "#Выводим список соответсвия кода региона адресу\n",
        "print(bm_kodreg_addr.drop_duplicates())"
      ],
      "metadata": {
        "colab": {
          "base_uri": "https://localhost:8080/"
        },
        "id": "CId6VOJmnluj",
        "outputId": "d7f285d8-5910-4365-c479-fddf5fb8c37c"
      },
      "id": "CId6VOJmnluj",
      "execution_count": null,
      "outputs": [
        {
          "output_type": "stream",
          "name": "stdout",
          "text": [
            "objAddr\n",
            "г Тюмень, ул Профсоюзная, д. 56                                               72\n",
            "г Вологда, ул Медуницинская, д. 11                                            35\n",
            "город Новосибирск, район Советский                                            54\n",
            "г Казань, район Приволжский р-н, ул Карбышева                                 16\n",
            "г Лыткарино, мкр 6-й, корпус 4                                                50\n",
            "                                                                              ..\n",
            "г Магадан, район Гороховое поле, ул Ягодная, д. 3                             49\n",
            "г Петропавловск-Камчатский, ул Топоркова, д. 1                                41\n",
            "г Мариуполь, пр-кт Металлургов, д. 54А                                        93\n",
            "г Биробиджан, улица Осенняя, 4 метра на юго-восток от дома, д. 1, корпус А    79\n",
            "г Назрань, пр-кт И.Базоркина, д. 68                                            6\n",
            "Name: rpdRegionCd, Length: 86, dtype: int64\n"
          ]
        }
      ]
    },
    {
      "cell_type": "code",
      "source": [
        "pd.set_option('display.max_rows', None)\n",
        "pd.set_option('display.max_columns', None)\n",
        "pd.set_option('display.max_colwidth', None)\n"
      ],
      "metadata": {
        "id": "c_Mw1VF4nl23"
      },
      "id": "c_Mw1VF4nl23",
      "execution_count": null,
      "outputs": []
    },
    {
      "cell_type": "code",
      "source": [
        "#Вывели отсортированный список соответствия региона и адреса/города.\n",
        "bm_kodreg_addr_sor = df.sort_values(by='rpdRegionCd', ascending=False).set_index('objAddr')['rpdRegionCd']\n",
        "print(bm_kodreg_addr_sor.drop_duplicates())"
      ],
      "metadata": {
        "colab": {
          "base_uri": "https://localhost:8080/"
        },
        "id": "yPVR9Lc2ucnd",
        "outputId": "a9b76b47-844e-481b-ca23-94bda6205807"
      },
      "id": "yPVR9Lc2ucnd",
      "execution_count": null,
      "outputs": [
        {
          "output_type": "stream",
          "name": "stdout",
          "text": [
            "objAddr\n",
            "г Мариуполь, пр-кт Металлургов, д. 54А                                           93\n",
            "г Севастополь, ул Астана Кесаева, д. 3Б                                          92\n",
            "г Симферополь, д. 18                                                             91\n",
            "г Надым                                                                          89\n",
            "город Анадырь, ул Мандрикова, д. 20, вл. дом                                     87\n",
            "г Сургут                                                                         86\n",
            "г Нарьян-Мар, ул Авиаторов                                                       83\n",
            "г Биробиджан, улица Осенняя, 4 метра на юго-восток от дома, д. 1, корпус А       79\n",
            "г Санкт-Петербург, ш Московское, д. 13, литера жз                                78\n",
            "г Москва, район Р-н Южное Бутово, ш Варшавское                                   77\n",
            "г Ярославль, ул Дядьковская                                                      76\n",
            "г Чита, ул Токмакова, д. 50                                                      75\n",
            "город Челябинск, район Тракторозаводский                                         74\n",
            "г Ульяновск, пр-кт Маршала Устинова, д. 27                                       73\n",
            "г Тюмень, ул Полевая, д. 117, корпус 4                                           72\n",
            "город Тула, ул Рязанская                                                         71\n",
            "микрорайон Северный (деревня Кисловка), улица Бориса Пастернака, д. 385          70\n",
            "г Тверь, ш Бурашевское, д. 60                                                    69\n",
            "г Тамбов, ул Пахотная, д. 16                                                     68\n",
            "деревня Ясенная                                                                  67\n",
            "город Верхняя Пышма                                                              66\n",
            "г Южно-Сахалинск, корпус 6                                                       65\n",
            "г Вольск, ул Фирстова, д. 55В                                                    64\n",
            "г Самара, ул Максима Горького                                                    63\n",
            "г Рязань, ул Пролетарская, д. 15                                                 62\n",
            "г Ростов-на-Дону, ул Привокзальная, д. 3б                                        61\n",
            "д Портянниково, ул Окольная, д. 21                                               60\n",
            "с Култаево, ул Первоцветная                                                      59\n",
            "город Пенза, пр-кт Строителей                                                    58\n",
            "г Орёл, ул Межквартальная, д. 3                                                  57\n",
            "город Оренбург                                                                   56\n",
            "г Омск, ул Волгоградская, д. 1 стр                                               55\n",
            "г Новосибирск, район Заельцовский р-н, ул Декоративный Питомник, д. 4стр         54\n",
            "г Великий Новгород, ул Псковская                                                 53\n",
            "г Нижний Новгород, район Московский р-н                                          52\n",
            "г Мурманск, ул Шевченко, блок-секция 1,2                                         51\n",
            "мкр Пригород Лесное (деревня Мисайлово)                                          50\n",
            "г Магадан, район Гороховое поле, ул Ягодная, д. 8                                49\n",
            "г Липецк, Микрорайон Елецкий                                                     48\n",
            "г Всеволожск                                                                     47\n",
            "г Курчатов, ул Набережная, д. 19                                                 46\n",
            "микрорайон 8-й                                                                   45\n",
            "г Кострома                                                                       44\n",
            "город Киров, ул Карла Маркса, д. 182, вл. дом                                    43\n",
            "г Кемерово, д. 38А                                                               42\n",
            "г Петропавловск-Камчатский, ул Топоркова, д. 1                                   41\n",
            "город Калуга                                                                     40\n",
            "город Черняховск                                                                 39\n",
            "д Новолисиха, д. 13-6                                                            38\n",
            "г Иваново, ул Павла Большевикова, д. 50, литера 2                                37\n",
            "г Воронеж, ул Ленинградская, д. Земельный участок 28                             36\n",
            "город Вологда, пер Февральский                                                   35\n",
            "г Волгоград, ул им. Пархоменко, д. 26                                            34\n",
            "г Владимир, корпус 2                                                             33\n",
            "поселок Свень                                                                    32\n",
            "г Старый Оскол, мкр Центральный                                                  31\n",
            "г Астрахань, улица Космонавтов, д. 18                                            30\n",
            "г Северодвинск                                                                   29\n",
            "г Благовещенск, корпус 3                                                         28\n",
            "г Хабаровск, пер Доступный, блок-секция 1,2                                      27\n",
            "г Ессентуки, ул Буачидзе, д. 1-5                                                 26\n",
            "г Владивосток, район Первореченский, ул Иртышская, д. 19                         25\n",
            "город Красноярск                                                                 24\n",
            "г Краснодар, район Прикубанский округ, пр-д 1-й Лиговский, литера 7              23\n",
            "г Барнаул, район Центральный р-н, ул Интернациональная, д. 130, блок-секция 1    22\n",
            "г Новочебоксарск, блок-секция А Б                                                21\n",
            "район Грозный, ул Э.Э.Исмаилова                                                  20\n",
            "г Абакан, ул Стофато, д. 16А                                                     19\n",
            "г Ижевск, район Индустриальный р-н, ш Воткинское, д. 41                          18\n",
            "г Кызыл, ул Олега Саган-оола, д. 4, строение 5                                   17\n",
            "г Казань, ул 25-го Октября, д. 5                                                 16\n",
            "тер Автодорога Владикавказ-Алагир (с Гизель), д. 0                               15\n",
            "г Якутск, тракт Вилюйский, д. 6км                                                14\n",
            "г Саранск, ул А.Лусс                                                             13\n",
            "пгт Медведево, д. Позиция 24, блок-секция Ж,И                                    12\n",
            "г Сыктывкар, ул Интернациональная, д. 223                                        11\n",
            "р-н Древлянка, корпус 3                                                          10\n",
            "курортный поселок Домбай, улица Тебердинская, д. 5, строение 3                    9\n",
            "г Элиста, мкр 1, д. 40А                                                           8\n",
            "город Нальчик                                                                     7\n",
            "г Назрань, пр-кт И.Базоркина, д. 68                                               6\n",
            "г Махачкала, ул Ахмата-Хаджи Кадырова, д. 132                                     5\n",
            "с Майма, ул Ленина, д. 60, литера А, корпус 2                                     4\n",
            "мкр 128-й, район Октябрьский р-н, Мкр 128, д. 3.4                                 3\n",
            "г Уфа                                                                             2\n",
            "пгт Энем, пер Ильницкого, д. 3, литера 3                                          1\n",
            "Name: rpdRegionCd, dtype: int64\n"
          ]
        }
      ]
    },
    {
      "cell_type": "code",
      "source": [],
      "metadata": {
        "id": "yHTW3OUDnl7e"
      },
      "id": "yHTW3OUDnl7e",
      "execution_count": null,
      "outputs": []
    },
    {
      "cell_type": "code",
      "source": [],
      "metadata": {
        "id": "XWnu8TxmnmFI"
      },
      "id": "XWnu8TxmnmFI",
      "execution_count": null,
      "outputs": []
    }
  ],
  "metadata": {
    "kernelspec": {
      "display_name": "Python 3 (ipykernel)",
      "language": "python",
      "name": "python3"
    },
    "language_info": {
      "codemirror_mode": {
        "name": "ipython",
        "version": 3
      },
      "file_extension": ".py",
      "mimetype": "text/x-python",
      "name": "python",
      "nbconvert_exporter": "python",
      "pygments_lexer": "ipython3",
      "version": "3.9.13"
    },
    "colab": {
      "provenance": [],
      "include_colab_link": true
    }
  },
  "nbformat": 4,
  "nbformat_minor": 5
}