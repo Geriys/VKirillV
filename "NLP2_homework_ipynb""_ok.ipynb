{
  "nbformat": 4,
  "nbformat_minor": 0,
  "metadata": {
    "colab": {
      "provenance": [],
      "include_colab_link": true
    },
    "kernelspec": {
      "name": "python3",
      "display_name": "Python 3"
    },
    "language_info": {
      "name": "python"
    }
  },
  "cells": [
    {
      "cell_type": "markdown",
      "metadata": {
        "id": "view-in-github",
        "colab_type": "text"
      },
      "source": [
        "<a href=\"https://colab.research.google.com/github/Geriys/VKirillV/blob/main/%22NLP2_homework_ipynb%22%22_ok.ipynb\" target=\"_parent\"><img src=\"https://colab.research.google.com/assets/colab-badge.svg\" alt=\"Open In Colab\"/></a>"
      ]
    },
    {
      "cell_type": "markdown",
      "source": [
        "NLP2_1\n",
        "https://www.hackerrank.com/challenges/detect-the-email-addresses/problem?isFullScreen=true"
      ],
      "metadata": {
        "id": "OYZRf1ncz-sT"
      }
    },
    {
      "cell_type": "markdown",
      "source": [
        "NLP2_2 https://www.hackerrank.com/challenges/detect-the-domain-name/problem?isFullScreen=true"
      ],
      "metadata": {
        "id": "jKzbIfdq0CKr"
      }
    },
    {
      "cell_type": "markdown",
      "source": [
        "NLP2_3 (дз1): Реализовать stemming, lemmatization & BoW на следующем датасете: https://cloud.mail.ru/public/Z4L3/vB8GcgTtK (Russian Toxic-abuse comments)"
      ],
      "metadata": {
        "id": "Op8qPHa8J68_"
      }
    },
    {
      "cell_type": "markdown",
      "source": [
        "NLP2_4 Реализовать классификатор токсичных комментариев tfidf на базе датасета\n",
        "https://www.kaggle.com/datasets/blackmoon/russian-language-toxic-comments  \n",
        "\n",
        "Дубликат файла: https://cloud.mail.ru/public/Z4L3/vB8GcgTtK\n",
        "\n"
      ],
      "metadata": {
        "id": "b5DQQnoU1bXY"
      }
    },
    {
      "cell_type": "code",
      "source": [
        "# NLP2_1 https://www.hackerrank.com/challenges/detect-the-email-addresses/problem?isFullScreen=true"
      ],
      "metadata": {
        "id": "0BRC1-k81pIW"
      },
      "execution_count": null,
      "outputs": []
    },
    {
      "cell_type": "code",
      "source": [
        "import re\n",
        "p = re.compile('[_0-9a-zA-Z]+[_\\.0-9a-zA-Z]*@[0-9a-zA-Z_]+[\\.0-9a-zA-Z_]+[0-9a-zA-Z_]+')\n",
        "n = int(input())\n",
        "l = []\n",
        "for i in range(n):\n",
        "    x = str(input())\n",
        "    r = re.findall(p, x)\n",
        "    for z in r:\n",
        "        if(z not in l):\n",
        "            l.append(z)\n",
        "l.sort()\n",
        "for i in range(len(l)):\n",
        "    if(i == len(l)-1):\n",
        "        print(l[i])\n",
        "    else:\n",
        "        print(l[i],end=\";\")"
      ],
      "metadata": {
        "id": "ImpqRed1zyiS"
      },
      "execution_count": null,
      "outputs": []
    },
    {
      "cell_type": "code",
      "source": [
        "# NLP2_2 https://www.hackerrank.com/challenges/detect-the-domain-name/problem?isFullScreen=true"
      ],
      "metadata": {
        "id": "T_MJaEmczzeu"
      },
      "execution_count": null,
      "outputs": []
    },
    {
      "cell_type": "code",
      "source": [
        "import re\n",
        "pattern = '(http|https)\\\\://(www.|ww2.|)([a-zA-Z0-9\\\\-\\\\.]+)(\\\\.[a-zA-Z]+)(/\\\\S*)?'\n",
        "regex = re.compile(pattern)\n",
        "s = set()\n",
        "for i in range(int(input())):\n",
        "    string = input()\n",
        "    iterator = regex.finditer(string)\n",
        "    if iterator:\n",
        "        for match in iterator:\n",
        "            s.add(match.group(3)+match.group(4))\n",
        "print(';'.join(t for t in sorted(s)))"
      ],
      "metadata": {
        "id": "e8315jGUzzhI"
      },
      "execution_count": null,
      "outputs": []
    },
    {
      "cell_type": "code",
      "source": [
        "# NLP2_3 (дз1): Реализовать stemming, lemmatization & BoW на следующем датасете: https://cloud.mail.ru/public/Z4L3/vB8GcgTtK (Russian Toxic-abuse comments)"
      ],
      "metadata": {
        "id": "V_veaTemzzjT"
      },
      "execution_count": null,
      "outputs": []
    },
    {
      "cell_type": "code",
      "source": [
        "pip install pandas nltk sklearn"
      ],
      "metadata": {
        "id": "2Zx3u1MuzzlP"
      },
      "execution_count": null,
      "outputs": []
    },
    {
      "cell_type": "code",
      "source": [
        "pip install pymorphy2"
      ],
      "metadata": {
        "colab": {
          "base_uri": "https://localhost:8080/"
        },
        "id": "12rEz4V0bH8q",
        "outputId": "a3bf562a-c418-4f8f-b945-8e4d4505c94c"
      },
      "execution_count": 29,
      "outputs": [
        {
          "output_type": "stream",
          "name": "stdout",
          "text": [
            "Requirement already satisfied: pymorphy2 in /usr/local/lib/python3.10/dist-packages (0.9.1)\n",
            "Requirement already satisfied: dawg-python>=0.7.1 in /usr/local/lib/python3.10/dist-packages (from pymorphy2) (0.7.2)\n",
            "Requirement already satisfied: pymorphy2-dicts-ru<3.0,>=2.4 in /usr/local/lib/python3.10/dist-packages (from pymorphy2) (2.4.417127.4579844)\n",
            "Requirement already satisfied: docopt>=0.6 in /usr/local/lib/python3.10/dist-packages (from pymorphy2) (0.6.2)\n"
          ]
        }
      ]
    },
    {
      "cell_type": "code",
      "source": [
        "from nltk.stem.snowball import SnowballStemmer"
      ],
      "metadata": {
        "id": "pbpuaHI6aLnz"
      },
      "execution_count": 24,
      "outputs": []
    },
    {
      "cell_type": "code",
      "source": [
        "import nltk\n",
        "nltk.download('punkt')\n",
        "nltk.download('wordnet')"
      ],
      "metadata": {
        "id": "zP4ZCwnGY2Qo",
        "outputId": "5e35638a-ca71-4b49-abfc-1022e1968451",
        "colab": {
          "base_uri": "https://localhost:8080/"
        }
      },
      "execution_count": 30,
      "outputs": [
        {
          "output_type": "stream",
          "name": "stderr",
          "text": [
            "[nltk_data] Downloading package punkt to /root/nltk_data...\n",
            "[nltk_data]   Package punkt is already up-to-date!\n",
            "[nltk_data] Downloading package wordnet to /root/nltk_data...\n",
            "[nltk_data]   Package wordnet is already up-to-date!\n"
          ]
        },
        {
          "output_type": "execute_result",
          "data": {
            "text/plain": [
              "True"
            ]
          },
          "metadata": {},
          "execution_count": 30
        }
      ]
    },
    {
      "cell_type": "code",
      "source": [
        "import pandas as pd\n",
        "from nltk.tokenize import word_tokenize\n",
        "from nltk.stem import PorterStemmer, SnowballStemmer\n",
        "from nltk.stem import WordNetLemmatizer\n",
        "import pymorphy2\n",
        "from sklearn.feature_extraction.text import CountVectorizer\n",
        "\n",
        "# Загрузка данных из CSV файла\n",
        "df = pd.read_csv('labeled.csv')\n",
        "\n",
        "# Инициализация стеммера и лемматизатора\n",
        "# stemmer = PorterStemmer()\n",
        "stemmer = SnowballStemmer(\"russian\")\n",
        "# lemmatizer = WordNetLemmatizer()\n",
        "lemmatizer = pymorphy2.MorphAnalyzer()\n",
        "\n",
        "# Функция для стемминга\n",
        "def stem_sentences(sentence):\n",
        "    tokens = word_tokenize(sentence)\n",
        "    stemmed_tokens = [stemmer.stem(token) for token in tokens]\n",
        "    return ' '.join(stemmed_tokens)\n",
        "\n",
        "# Функция для лемматизации\n",
        "def lemmatize_sentences(sentence):\n",
        "    tokens = word_tokenize(sentence)\n",
        "    lemmatized_tokens = [lemmatizer.parse(token)[0].normal_form for token in tokens]\n",
        "    return ' '.join(lemmatized_tokens)\n",
        "\n",
        "# Применение стемминга и лемматизации к комментариям\n",
        "df['stemmed_comments'] = df['comment'].apply(stem_sentences)\n",
        "df['lemmatized_comments'] = df['comment'].apply(lemmatize_sentences)\n",
        "\n",
        "# Создание матрицы признаков BoW\n",
        "vectorizer = CountVectorizer()\n",
        "bow_matrix = vectorizer.fit_transform(df['comment'])\n",
        "\n",
        "# Вывод результатов\n",
        "print(df[['comment', 'stemmed_comments', 'lemmatized_comments']].head())\n",
        "# print(bow_matrix.toarray())"
      ],
      "metadata": {
        "colab": {
          "base_uri": "https://localhost:8080/"
        },
        "id": "TFawy6UqbNpE",
        "outputId": "8ebf55ba-ea73-4417-c0aa-7904e3b1d2d9"
      },
      "execution_count": 32,
      "outputs": [
        {
          "output_type": "stream",
          "name": "stdout",
          "text": [
            "                                             comment  \\\n",
            "0               Верблюдов-то за что? Дебилы, бл...\\n   \n",
            "1  Хохлы, это отдушина затюканого россиянина, мол...   \n",
            "2                          Собаке - собачья смерть\\n   \n",
            "3  Страницу обнови, дебил. Это тоже не оскорблени...   \n",
            "4  тебя не убедил 6-страничный пдф в том, что Скр...   \n",
            "\n",
            "                                    stemmed_comments  \\\n",
            "0                верблюдов-т за что ? дебил , бл ...   \n",
            "1  хохл , эт отдушин затюкан россиянин , мол , во...   \n",
            "2                                собак - собач смерт   \n",
            "3  страниц обнов , деб . эт тож не оскорблен , а ...   \n",
            "4  теб не убед 6-страничн пдф в том , что скрипал...   \n",
            "\n",
            "                                 lemmatized_comments  \n",
            "0                 верблюд-то за что ? дебил , бл ...  \n",
            "1  хохол , это отдушина затюканый россиянин , мол...  \n",
            "2                            собака - собачий смерть  \n",
            "3  страница обновить , дебил . это тоже не оскорб...  \n",
            "4  ты не убедить 6-страничный пдф в тот , что скр...  \n"
          ]
        }
      ]
    },
    {
      "cell_type": "code",
      "source": [
        "df.columns"
      ],
      "metadata": {
        "id": "rFZh95--Y2YA",
        "colab": {
          "base_uri": "https://localhost:8080/"
        },
        "outputId": "a6814444-bc07-44a2-f2cb-4880b1059f44"
      },
      "execution_count": 33,
      "outputs": [
        {
          "output_type": "execute_result",
          "data": {
            "text/plain": [
              "Index(['comment', 'toxic', 'stemmed_comments', 'lemmatized_comments'], dtype='object')"
            ]
          },
          "metadata": {},
          "execution_count": 33
        }
      ]
    },
    {
      "cell_type": "code",
      "source": [
        "df.head()"
      ],
      "metadata": {
        "id": "Cd02fzY5zznT",
        "colab": {
          "base_uri": "https://localhost:8080/",
          "height": 206
        },
        "outputId": "de86db89-2f69-41c9-a3f3-631bab7d8661"
      },
      "execution_count": 34,
      "outputs": [
        {
          "output_type": "execute_result",
          "data": {
            "text/plain": [
              "                                             comment  toxic  \\\n",
              "0               Верблюдов-то за что? Дебилы, бл...\\n    1.0   \n",
              "1  Хохлы, это отдушина затюканого россиянина, мол...    1.0   \n",
              "2                          Собаке - собачья смерть\\n    1.0   \n",
              "3  Страницу обнови, дебил. Это тоже не оскорблени...    1.0   \n",
              "4  тебя не убедил 6-страничный пдф в том, что Скр...    1.0   \n",
              "\n",
              "                                    stemmed_comments  \\\n",
              "0                верблюдов-т за что ? дебил , бл ...   \n",
              "1  хохл , эт отдушин затюкан россиянин , мол , во...   \n",
              "2                                собак - собач смерт   \n",
              "3  страниц обнов , деб . эт тож не оскорблен , а ...   \n",
              "4  теб не убед 6-страничн пдф в том , что скрипал...   \n",
              "\n",
              "                                 lemmatized_comments  \n",
              "0                 верблюд-то за что ? дебил , бл ...  \n",
              "1  хохол , это отдушина затюканый россиянин , мол...  \n",
              "2                            собака - собачий смерть  \n",
              "3  страница обновить , дебил . это тоже не оскорб...  \n",
              "4  ты не убедить 6-страничный пдф в тот , что скр...  "
            ],
            "text/html": [
              "\n",
              "  <div id=\"df-733d1664-512b-4f86-a7bf-6a005d1f4c90\" class=\"colab-df-container\">\n",
              "    <div>\n",
              "<style scoped>\n",
              "    .dataframe tbody tr th:only-of-type {\n",
              "        vertical-align: middle;\n",
              "    }\n",
              "\n",
              "    .dataframe tbody tr th {\n",
              "        vertical-align: top;\n",
              "    }\n",
              "\n",
              "    .dataframe thead th {\n",
              "        text-align: right;\n",
              "    }\n",
              "</style>\n",
              "<table border=\"1\" class=\"dataframe\">\n",
              "  <thead>\n",
              "    <tr style=\"text-align: right;\">\n",
              "      <th></th>\n",
              "      <th>comment</th>\n",
              "      <th>toxic</th>\n",
              "      <th>stemmed_comments</th>\n",
              "      <th>lemmatized_comments</th>\n",
              "    </tr>\n",
              "  </thead>\n",
              "  <tbody>\n",
              "    <tr>\n",
              "      <th>0</th>\n",
              "      <td>Верблюдов-то за что? Дебилы, бл...\\n</td>\n",
              "      <td>1.0</td>\n",
              "      <td>верблюдов-т за что ? дебил , бл ...</td>\n",
              "      <td>верблюд-то за что ? дебил , бл ...</td>\n",
              "    </tr>\n",
              "    <tr>\n",
              "      <th>1</th>\n",
              "      <td>Хохлы, это отдушина затюканого россиянина, мол...</td>\n",
              "      <td>1.0</td>\n",
              "      <td>хохл , эт отдушин затюкан россиянин , мол , во...</td>\n",
              "      <td>хохол , это отдушина затюканый россиянин , мол...</td>\n",
              "    </tr>\n",
              "    <tr>\n",
              "      <th>2</th>\n",
              "      <td>Собаке - собачья смерть\\n</td>\n",
              "      <td>1.0</td>\n",
              "      <td>собак - собач смерт</td>\n",
              "      <td>собака - собачий смерть</td>\n",
              "    </tr>\n",
              "    <tr>\n",
              "      <th>3</th>\n",
              "      <td>Страницу обнови, дебил. Это тоже не оскорблени...</td>\n",
              "      <td>1.0</td>\n",
              "      <td>страниц обнов , деб . эт тож не оскорблен , а ...</td>\n",
              "      <td>страница обновить , дебил . это тоже не оскорб...</td>\n",
              "    </tr>\n",
              "    <tr>\n",
              "      <th>4</th>\n",
              "      <td>тебя не убедил 6-страничный пдф в том, что Скр...</td>\n",
              "      <td>1.0</td>\n",
              "      <td>теб не убед 6-страничн пдф в том , что скрипал...</td>\n",
              "      <td>ты не убедить 6-страничный пдф в тот , что скр...</td>\n",
              "    </tr>\n",
              "  </tbody>\n",
              "</table>\n",
              "</div>\n",
              "    <div class=\"colab-df-buttons\">\n",
              "\n",
              "  <div class=\"colab-df-container\">\n",
              "    <button class=\"colab-df-convert\" onclick=\"convertToInteractive('df-733d1664-512b-4f86-a7bf-6a005d1f4c90')\"\n",
              "            title=\"Convert this dataframe to an interactive table.\"\n",
              "            style=\"display:none;\">\n",
              "\n",
              "  <svg xmlns=\"http://www.w3.org/2000/svg\" height=\"24px\" viewBox=\"0 -960 960 960\">\n",
              "    <path d=\"M120-120v-720h720v720H120Zm60-500h600v-160H180v160Zm220 220h160v-160H400v160Zm0 220h160v-160H400v160ZM180-400h160v-160H180v160Zm440 0h160v-160H620v160ZM180-180h160v-160H180v160Zm440 0h160v-160H620v160Z\"/>\n",
              "  </svg>\n",
              "    </button>\n",
              "\n",
              "  <style>\n",
              "    .colab-df-container {\n",
              "      display:flex;\n",
              "      gap: 12px;\n",
              "    }\n",
              "\n",
              "    .colab-df-convert {\n",
              "      background-color: #E8F0FE;\n",
              "      border: none;\n",
              "      border-radius: 50%;\n",
              "      cursor: pointer;\n",
              "      display: none;\n",
              "      fill: #1967D2;\n",
              "      height: 32px;\n",
              "      padding: 0 0 0 0;\n",
              "      width: 32px;\n",
              "    }\n",
              "\n",
              "    .colab-df-convert:hover {\n",
              "      background-color: #E2EBFA;\n",
              "      box-shadow: 0px 1px 2px rgba(60, 64, 67, 0.3), 0px 1px 3px 1px rgba(60, 64, 67, 0.15);\n",
              "      fill: #174EA6;\n",
              "    }\n",
              "\n",
              "    .colab-df-buttons div {\n",
              "      margin-bottom: 4px;\n",
              "    }\n",
              "\n",
              "    [theme=dark] .colab-df-convert {\n",
              "      background-color: #3B4455;\n",
              "      fill: #D2E3FC;\n",
              "    }\n",
              "\n",
              "    [theme=dark] .colab-df-convert:hover {\n",
              "      background-color: #434B5C;\n",
              "      box-shadow: 0px 1px 3px 1px rgba(0, 0, 0, 0.15);\n",
              "      filter: drop-shadow(0px 1px 2px rgba(0, 0, 0, 0.3));\n",
              "      fill: #FFFFFF;\n",
              "    }\n",
              "  </style>\n",
              "\n",
              "    <script>\n",
              "      const buttonEl =\n",
              "        document.querySelector('#df-733d1664-512b-4f86-a7bf-6a005d1f4c90 button.colab-df-convert');\n",
              "      buttonEl.style.display =\n",
              "        google.colab.kernel.accessAllowed ? 'block' : 'none';\n",
              "\n",
              "      async function convertToInteractive(key) {\n",
              "        const element = document.querySelector('#df-733d1664-512b-4f86-a7bf-6a005d1f4c90');\n",
              "        const dataTable =\n",
              "          await google.colab.kernel.invokeFunction('convertToInteractive',\n",
              "                                                    [key], {});\n",
              "        if (!dataTable) return;\n",
              "\n",
              "        const docLinkHtml = 'Like what you see? Visit the ' +\n",
              "          '<a target=\"_blank\" href=https://colab.research.google.com/notebooks/data_table.ipynb>data table notebook</a>'\n",
              "          + ' to learn more about interactive tables.';\n",
              "        element.innerHTML = '';\n",
              "        dataTable['output_type'] = 'display_data';\n",
              "        await google.colab.output.renderOutput(dataTable, element);\n",
              "        const docLink = document.createElement('div');\n",
              "        docLink.innerHTML = docLinkHtml;\n",
              "        element.appendChild(docLink);\n",
              "      }\n",
              "    </script>\n",
              "  </div>\n",
              "\n",
              "\n",
              "<div id=\"df-1c85b537-8de5-426e-b293-56277e4bd50e\">\n",
              "  <button class=\"colab-df-quickchart\" onclick=\"quickchart('df-1c85b537-8de5-426e-b293-56277e4bd50e')\"\n",
              "            title=\"Suggest charts\"\n",
              "            style=\"display:none;\">\n",
              "\n",
              "<svg xmlns=\"http://www.w3.org/2000/svg\" height=\"24px\"viewBox=\"0 0 24 24\"\n",
              "     width=\"24px\">\n",
              "    <g>\n",
              "        <path d=\"M19 3H5c-1.1 0-2 .9-2 2v14c0 1.1.9 2 2 2h14c1.1 0 2-.9 2-2V5c0-1.1-.9-2-2-2zM9 17H7v-7h2v7zm4 0h-2V7h2v10zm4 0h-2v-4h2v4z\"/>\n",
              "    </g>\n",
              "</svg>\n",
              "  </button>\n",
              "\n",
              "<style>\n",
              "  .colab-df-quickchart {\n",
              "      --bg-color: #E8F0FE;\n",
              "      --fill-color: #1967D2;\n",
              "      --hover-bg-color: #E2EBFA;\n",
              "      --hover-fill-color: #174EA6;\n",
              "      --disabled-fill-color: #AAA;\n",
              "      --disabled-bg-color: #DDD;\n",
              "  }\n",
              "\n",
              "  [theme=dark] .colab-df-quickchart {\n",
              "      --bg-color: #3B4455;\n",
              "      --fill-color: #D2E3FC;\n",
              "      --hover-bg-color: #434B5C;\n",
              "      --hover-fill-color: #FFFFFF;\n",
              "      --disabled-bg-color: #3B4455;\n",
              "      --disabled-fill-color: #666;\n",
              "  }\n",
              "\n",
              "  .colab-df-quickchart {\n",
              "    background-color: var(--bg-color);\n",
              "    border: none;\n",
              "    border-radius: 50%;\n",
              "    cursor: pointer;\n",
              "    display: none;\n",
              "    fill: var(--fill-color);\n",
              "    height: 32px;\n",
              "    padding: 0;\n",
              "    width: 32px;\n",
              "  }\n",
              "\n",
              "  .colab-df-quickchart:hover {\n",
              "    background-color: var(--hover-bg-color);\n",
              "    box-shadow: 0 1px 2px rgba(60, 64, 67, 0.3), 0 1px 3px 1px rgba(60, 64, 67, 0.15);\n",
              "    fill: var(--button-hover-fill-color);\n",
              "  }\n",
              "\n",
              "  .colab-df-quickchart-complete:disabled,\n",
              "  .colab-df-quickchart-complete:disabled:hover {\n",
              "    background-color: var(--disabled-bg-color);\n",
              "    fill: var(--disabled-fill-color);\n",
              "    box-shadow: none;\n",
              "  }\n",
              "\n",
              "  .colab-df-spinner {\n",
              "    border: 2px solid var(--fill-color);\n",
              "    border-color: transparent;\n",
              "    border-bottom-color: var(--fill-color);\n",
              "    animation:\n",
              "      spin 1s steps(1) infinite;\n",
              "  }\n",
              "\n",
              "  @keyframes spin {\n",
              "    0% {\n",
              "      border-color: transparent;\n",
              "      border-bottom-color: var(--fill-color);\n",
              "      border-left-color: var(--fill-color);\n",
              "    }\n",
              "    20% {\n",
              "      border-color: transparent;\n",
              "      border-left-color: var(--fill-color);\n",
              "      border-top-color: var(--fill-color);\n",
              "    }\n",
              "    30% {\n",
              "      border-color: transparent;\n",
              "      border-left-color: var(--fill-color);\n",
              "      border-top-color: var(--fill-color);\n",
              "      border-right-color: var(--fill-color);\n",
              "    }\n",
              "    40% {\n",
              "      border-color: transparent;\n",
              "      border-right-color: var(--fill-color);\n",
              "      border-top-color: var(--fill-color);\n",
              "    }\n",
              "    60% {\n",
              "      border-color: transparent;\n",
              "      border-right-color: var(--fill-color);\n",
              "    }\n",
              "    80% {\n",
              "      border-color: transparent;\n",
              "      border-right-color: var(--fill-color);\n",
              "      border-bottom-color: var(--fill-color);\n",
              "    }\n",
              "    90% {\n",
              "      border-color: transparent;\n",
              "      border-bottom-color: var(--fill-color);\n",
              "    }\n",
              "  }\n",
              "</style>\n",
              "\n",
              "  <script>\n",
              "    async function quickchart(key) {\n",
              "      const quickchartButtonEl =\n",
              "        document.querySelector('#' + key + ' button');\n",
              "      quickchartButtonEl.disabled = true;  // To prevent multiple clicks.\n",
              "      quickchartButtonEl.classList.add('colab-df-spinner');\n",
              "      try {\n",
              "        const charts = await google.colab.kernel.invokeFunction(\n",
              "            'suggestCharts', [key], {});\n",
              "      } catch (error) {\n",
              "        console.error('Error during call to suggestCharts:', error);\n",
              "      }\n",
              "      quickchartButtonEl.classList.remove('colab-df-spinner');\n",
              "      quickchartButtonEl.classList.add('colab-df-quickchart-complete');\n",
              "    }\n",
              "    (() => {\n",
              "      let quickchartButtonEl =\n",
              "        document.querySelector('#df-1c85b537-8de5-426e-b293-56277e4bd50e button');\n",
              "      quickchartButtonEl.style.display =\n",
              "        google.colab.kernel.accessAllowed ? 'block' : 'none';\n",
              "    })();\n",
              "  </script>\n",
              "</div>\n",
              "    </div>\n",
              "  </div>\n"
            ],
            "application/vnd.google.colaboratory.intrinsic+json": {
              "type": "dataframe",
              "variable_name": "df",
              "summary": "{\n  \"name\": \"df\",\n  \"rows\": 14412,\n  \"fields\": [\n    {\n      \"column\": \"comment\",\n      \"properties\": {\n        \"dtype\": \"string\",\n        \"num_unique_values\": 14412,\n        \"samples\": [\n          \"\\u0431\\u0435\\u0437\\u0440\\u043e\\u0434\\u043d\\u044b\\u0439 \\u043f\\u043e\\u0442\\u043e\\u043c\\u043e\\u043a \\u0445\\u043e\\u043b\\u043e\\u043f\\u0430 \\u0440\\u0430\\u0441\\u0441\\u0443\\u0436\\u0434\\u0430\\u0435\\u0442 \\u043e \\u043d\\u0430\\u0446\\u0438\\u043e\\u043d\\u0430\\u043b\\u044c\\u043d\\u043e\\u0439 \\u0433\\u043e\\u0440\\u0434\\u043e\\u0441\\u0442\\u0438.\\n\",\n          \"\\u0418\\u043d\\u0442\\u0435\\u0440\\u0435\\u0441\\u043d\\u0430\\u044f \\u0442\\u0435\\u043c\\u0430, \\u043e\\u0434\\u043d\\u0430\\u043a\\u043e. \\u041e\\u0422\\u041f \\u0432\\u0440\\u043e\\u0434\\u0435 \\u0432\\u0435\\u043d\\u0433\\u0435\\u0440\\u0441\\u043a\\u0438\\u0439 \\u0431\\u0430\\u043d\\u043a, \\u0432 \\u0412\\u0435\\u043d\\u0433\\u0440\\u0438\\u0438 \\u043e\\u043d \\u0441\\u0430\\u043c\\u044b\\u0439 \\u043f\\u043e\\u043f\\u0443\\u043b\\u044f\\u0440\\u043d\\u044b\\u0439, \\u0443 \\u043c\\u0435\\u043d\\u044f \\u0443 \\u0441\\u0430\\u043c\\u043e\\u0433\\u043e \\u0435\\u0433\\u043e \\u0441\\u0447\\u0451\\u0442 \\u0438 \\u043a\\u0430\\u0440\\u0442\\u0430, \\u0438\\u0431\\u043e \\u0443 \\u043d\\u0435\\u0433\\u043e \\u0434\\u043e\\u0433\\u043e\\u0432\\u043e\\u0440 \\u0441 \\u0443\\u043d\\u0438\\u0432\\u0435\\u0440\\u043e\\u043c, \\u0441\\u043a\\u0438\\u0434\\u043a\\u0438-\\u043f\\u043b\\u044e\\u0448\\u043a\\u0438-\\u0432\\u043e\\u0437\\u0432\\u0440\\u0430\\u0442 \\u0438 \\u0442.\\u043f. \\u0434\\u043b\\u044f \\u0441\\u0442\\u0443\\u0434\\u0435\\u043d\\u0442\\u043e\\u0432. \\u0418 \\u0437\\u0430 4 \\u0433\\u043e\\u0434\\u0430 \\u043f\\u043e\\u043b\\u044c\\u0437\\u043e\\u0432\\u0430\\u043d\\u0438\\u044f \\u043d\\u0438 \\u043e\\u0434\\u043d\\u043e\\u0439 \\u043f\\u0440\\u043e\\u0431\\u043b\\u0435\\u043c\\u044b, \\u043d\\u0438 \\u043e\\u0434\\u043d\\u043e\\u0439 \\u043f\\u043e\\u0434\\u043a\\u043b\\u044e\\u0447\\u0451\\u043d\\u043d\\u043e\\u0439 \\u0443\\u0441\\u043b\\u0443\\u0433\\u0438, \\u0431\\u043b\\u043e\\u043a\\u0438\\u0440\\u043e\\u0432\\u0430\\u043d\\u0438\\u044f, \\u0441\\u043f\\u0438\\u0441\\u0430\\u043d\\u0438\\u044f \\u043d\\u0438 \\u0437\\u0430 \\u0447\\u0442\\u043e \\u0438 \\u043f\\u043e\\u0434\\u043e\\u0431\\u043d\\u043e\\u0439 \\u0435\\u0440\\u0435\\u0441\\u0438, \\u043a\\u043e\\u0442\\u043e\\u0440\\u043e\\u0439 \\u0441\\u0442\\u0440\\u0430\\u0434\\u0430\\u044e\\u0442 \\u0432\\u0441\\u0435 \\u0440\\u043e\\u0441\\u0441\\u0438\\u0439\\u0441\\u043a\\u0438\\u0435 \\u0431\\u0430\\u043d\\u043a\\u0438. \\u041d\\u0438\\u043a\\u0430\\u043a\\u0438\\u0445 \\u043a\\u0440\\u0435\\u0434\\u0438\\u0442\\u043d\\u044b\\u0445 \\u043a\\u0430\\u0440\\u0442 \\u0434\\u0430\\u0436\\u0435 \\u043d\\u0435 \\u043f\\u0440\\u0435\\u0434\\u043b\\u0430\\u0433\\u0430\\u044e\\u0442 (\\u0438 \\u0432\\u043e\\u043e\\u0431\\u0449\\u0435 \\u043e \\u043f\\u043e\\u0434\\u043e\\u0431\\u043d\\u044b\\u0445 \\u0438\\u0441\\u0442\\u043e\\u0440\\u0438\\u044f\\u0445 \\u043d\\u0435 \\u0441\\u043b\\u044b\\u0448\\u0430\\u043b). \\u0412\\u044b\\u0445\\u043e\\u0434\\u0438\\u0442, \\u0431\\u0430\\u043d\\u043a \\u0442\\u043e\\u0442 \\u0436\\u0435, \\u0430 \\u043f\\u0440\\u0438\\u043d\\u0446\\u0438\\u043f \\u0440\\u0430\\u0431\\u043e\\u0442\\u044b \\u0434\\u0440\\u0443\\u0433\\u043e\\u0439, \\u0437\\u0430\\u0442\\u043e\\u0447\\u0435\\u043d\\u043d\\u044b\\u0439 \\u043f\\u043e\\u0434 \\u0440\\u043e\\u0441\\u0441\\u0438\\u0439\\u0441\\u043a\\u0438\\u0439 \\u043a\\u043b\\u0438\\u0435\\u043d\\u0442 - \\u043b\\u043e\\u0445 . P.S. \\u0412 \\u0412\\u0435\\u043d\\u0433\\u0440\\u0438\\u0438 \\u0432\\u0441\\u0435 \\u0431\\u0430\\u043d\\u043a\\u0438 \\u0448\\u043b\\u044e\\u0442 \\u043a\\u0430\\u0440\\u0442\\u044b \\u043f\\u043e \\u043f\\u043e\\u0447\\u0442\\u0435, \\u043c\\u043e\\u044f \\u043a\\u0430\\u043a \\u0440\\u0430\\u0437 \\u0432 \\u044d\\u0442\\u043e\\u043c \\u043c\\u0435\\u0441\\u044f\\u0446\\u0435 \\u043f\\u0440\\u0438\\u0448\\u043b\\u0430. \\u041d\\u043e \\u0432 \\u043f\\u043e\\u0447\\u0442\\u043e\\u0432\\u044b\\u0439 \\u044f\\u0449\\u0438\\u043a \\u0438\\u0445 \\u043d\\u0438 \\u0437\\u0430 \\u0447\\u0442\\u043e \\u043d\\u0435 \\u043a\\u0438\\u043d\\u0443\\u0442. \\u041b\\u0438\\u0431\\u043e \\u0432 \\u0440\\u0443\\u043a\\u0438, \\u043b\\u0438\\u0431\\u043e \\u0438\\u0437\\u0432\\u0435\\u0449\\u0435\\u043d\\u0438\\u0435 \\u0447\\u0442\\u043e\\u0431 \\u0437\\u0430\\u0431\\u0440\\u0430\\u043b \\u043d\\u0430 \\u043f\\u043e\\u0447\\u0442\\u0435. \\u0410 \\u043f\\u043e\\u0447\\u0442\\u0430 \\u043f\\u043e\\u0440\\u044f\\u0434\\u043e\\u0447\\u043d\\u0430\\u044f\\n\",\n          \"\\u0421\\u0443\\u0442\\u044c \\u0442\\u0440\\u0435\\u0431\\u043e\\u0432\\u0430\\u043d\\u0438\\u044f \\u043f\\u0440\\u043e \\u041230 - \\u043d\\u0435 \\u043f\\u0440\\u043e\\u0447\\u043d\\u043e\\u0441\\u0442\\u044c, \\u0430 \\u0432\\u043e\\u0434\\u043e\\u043d\\u0435\\u043f\\u0440\\u043e\\u043d\\u0438\\u0446\\u0430\\u0435\\u043c\\u043e\\u0441\\u0442\\u044c. \\u0412\\u043e\\u0434\\u043e\\u043d\\u0435\\u043f\\u0440\\u043e\\u043d\\u0438\\u0446\\u0430\\u0435\\u043c\\u043e\\u0441\\u0442\\u044c \\u0432\\u043e\\u043e\\u0431\\u0449\\u0435 \\u0442\\u043e \\u043e\\u0431\\u043e\\u0437\\u043d\\u0430\\u0447\\u0430\\u0435\\u0442\\u0441\\u044f W, \\u043d\\u0443 \\u0434\\u0430 \\u043d\\u0435 \\u0441\\u0443\\u0442\\u044c, \\u0437\\u0430\\u0447\\u0435\\u043c \\u043c\\u043d\\u0435 \\u043e\\u043d\\u0430 \\u0432 \\u043b\\u0435\\u043d\\u0442\\u0435 \\u043f\\u043e\\u0434 \\u0437\\u0435\\u043c\\u043b\\u0451\\u0439 ?\\n\"\n        ],\n        \"semantic_type\": \"\",\n        \"description\": \"\"\n      }\n    },\n    {\n      \"column\": \"toxic\",\n      \"properties\": {\n        \"dtype\": \"number\",\n        \"std\": 0.47195781877088117,\n        \"min\": 0.0,\n        \"max\": 1.0,\n        \"num_unique_values\": 2,\n        \"samples\": [\n          0.0,\n          1.0\n        ],\n        \"semantic_type\": \"\",\n        \"description\": \"\"\n      }\n    },\n    {\n      \"column\": \"stemmed_comments\",\n      \"properties\": {\n        \"dtype\": \"string\",\n        \"num_unique_values\": 14155,\n        \"samples\": [\n          \"\\u043a\\u043e\\u0433\\u0434 \\u0448\\u0430\\u0440\\u0430\\u0445\\u043d\\u0443\\u043b \\u0438\\u0445 6 \\u0432 \\u0433\\u043e\\u0434 , \\u0438\\u0437 \\u043d\\u0438\\u0445 4 \\u0437\\u0430 \\u043c\\u0435\\u0441\\u044f\\u0446-\\u0432\\u043e\\u043e\\u0431\\u0449 \\u0441\\u0442\\u0430\\u043b \\u043e\\u0431\\u044b\\u0447\\u043d \\u0434\\u0435\\u043b \\u0442\\u043e\\u0436 )\",\n          \"\\u043b\\u0435\\u0442 7 \\u043d\\u0430\\u0437\\u0430\\u0434 \\u0436\\u0438\\u043b \\u0432 \\u0434\\u043e\\u043c \\u0441 \\u043e\\u0434\\u043d \\u043f\\u043e\\u0434\\u044a\\u0435\\u0437\\u0434 . \\u0437\\u0432\\u043e\\u043d \\u0432 \\u0441\\u043a\\u043e\\u0440 \\u043f\\u043e \\u0442\\u0440\\u0430\\u0432\\u043c \\u0433\\u043e\\u043b\\u043e\\u0432 \\u0443 \\u0431\\u043b\\u0438\\u0437\\u043a \\u0447\\u0435\\u043b\\u043e\\u0432\\u0435\\u043a \\u0438 \\u043e\\u043f\\u0435\\u0440\\u0430\\u0442\\u043e\\u0440 \\u043e\\u043f\\u0440\\u043e\\u0441 \\u043e\\u0431 \\u0432\\u0441\\u0435\\u043c \\u0434\\u043e\\u0445\\u043e\\u0434 \\u0434\\u043e \\u0432\\u043e\\u043f\\u0440\\u043e\\u0441 \\u043d\\u043e\\u043c\\u0435\\u0440 \\u043f\\u043e\\u0434\\u044a\\u0435\\u0437\\u0434 , \\u0433\\u043e\\u0432\\u043e\\u0440 , \\u0447\\u0442\\u043e \\u043f\\u043e\\u0434\\u044a\\u0435\\u0437\\u0434 \\u0432\\u0441\\u0435\\u0433 1 \\u0438 \\u043d\\u0430\\u0434 \\u043d\\u0438\\u043c \\u0434\\u0430\\u0436 \\u043d\\u043e\\u043c\\u0435\\u0440 \\u043d\\u0438\\u043a\\u043e\\u0433\\u0434 \\u043d\\u0435 \\u0432\\u0438\\u0441\\u0435\\u043b . \\u0445\\u043e\\u043b\\u043e\\u0434\\u043d \\u0442\\u043e\\u043d \\u043f\\u043e\\u0432\\u0442\\u043e\\u0440 \\u0432\\u043e\\u043f\\u0440\\u043e\\u0441 . \\u044f \\u0431\\u044b\\u0441\\u0442\\u0440 \\u043f\\u043e\\u043f\\u044b\\u0442\\u0430 \\u043f\\u043e\\u0432\\u0442\\u043e\\u0440 \\u0442\\u043e\\u0442 \\u0436\\u0435 \\u043e\\u0442\\u0432\\u0435\\u0442 , \\u0442\\u0430\\u043a \\u043a\\u0430\\u043a \\u0431\\u043e\\u044f \\u043e\\u0448\\u0438\\u0431 \\u0441 23 \\u043f\\u043e\\u0434\\u044a\\u0435\\u0437\\u0434 , \\u0432\\u0434\\u0440\\u0443\\u0433 \\u0436\\u0435 \\u0441\\u043a\\u043e\\u0440 \\u043a \\u043d\\u0435\\u043c \\u043f\\u043e\\u0434\\u044a\\u0435\\u0434\\u0435\\u0442 \\u0438 \\u0435 \\u0431\\u0443\\u0434\\u0435\\u0442 \\u0434\\u0430\\u043b\\u0435\\u043a \\u043f\\u043e\\u0442 \\u0438\\u0434\\u0442 \\u0434\\u043e \\u043c\\u043e \\u0431\\u0435\\u0437 \\u043d\\u043e\\u043c\\u0435\\u0440 . 4 \\u043f\\u043e\\u043f\\u044b\\u0442\\u043a \\u0438 \\u044f \\u0431\\u0440\\u043e\\u0441 \\u0442\\u0440\\u0443\\u0431\\u043a , \\u0432\\u044b\\u0432\\u0435\\u043b \\u0442\\u0440\\u0430\\u0432\\u043c\\u0438\\u0440\\u043e\\u0432\\u0430\\u043d \\u043d\\u0430 \\u0443\\u043b\\u0438\\u0446 \\u0438 \\u0441\\u0440\\u0430\\u0437 \\u044d\\u0442 \\u043a\\u0430\\u0440\\u0442\\u0438\\u043d \\u0437\\u0430\\u043c\\u0435\\u0442 \\u0441\\u043e\\u0441\\u0435\\u0434 \\u0441 \\u043c\\u0430\\u0448\\u0438\\u043d , \\u0447\\u0435\\u0440\\u0435\\u0437 10 \\u043c\\u0438\\u043d\\u0443\\u0442 \\u0431\\u044b\\u043b \\u0432 \\u043f\\u0440\\u0438\\u0435\\u043c\\u043d \\u043e\\u0442\\u0434\\u0435\\u043b\\u0435\\u043d .\"\n        ],\n        \"semantic_type\": \"\",\n        \"description\": \"\"\n      }\n    },\n    {\n      \"column\": \"lemmatized_comments\",\n      \"properties\": {\n        \"dtype\": \"string\",\n        \"num_unique_values\": 14155,\n        \"samples\": [\n          \"\\u043a\\u043e\\u0433\\u0434\\u0430 \\u0448\\u0430\\u0440\\u0430\\u0445\\u043d\\u0443\\u0442\\u044c \\u043e\\u043d\\u0438 6 \\u0432 \\u0433\\u043e\\u0434 , \\u0438\\u0437 \\u043e\\u043d\\u0438 4 \\u0437\\u0430 \\u043c\\u0435\\u0441\\u044f\\u0446-\\u0432\\u043e\\u043e\\u0431\\u0449\\u0435 \\u0441\\u0442\\u0430\\u0442\\u044c \\u043e\\u0431\\u044b\\u0447\\u043d\\u044b\\u0439 \\u0434\\u0435\\u043b\\u043e \\u0442\\u043e\\u0436\\u0435 )\",\n          \"\\u0433\\u043e\\u0434 7 \\u043d\\u0430\\u0437\\u0430\\u0434 \\u0436\\u0438\\u0442\\u044c \\u0432 \\u0434\\u043e\\u043c \\u0441 \\u043e\\u0434\\u0438\\u043d \\u043f\\u043e\\u0434\\u044a\\u0435\\u0437\\u0434 . \\u0437\\u0432\\u043e\\u043d\\u0438\\u0442\\u044c \\u0432 \\u0441\\u043a\\u043e\\u0440\\u044b\\u0439 \\u043f\\u043e \\u0442\\u0440\\u0430\\u0432\\u043c\\u0430 \\u0433\\u043e\\u043b\\u043e\\u0432\\u0430 \\u0443 \\u0431\\u043b\\u0438\\u0437\\u043a\\u0438\\u0439 \\u0447\\u0435\\u043b\\u043e\\u0432\\u0435\\u043a \\u0438 \\u043e\\u043f\\u0435\\u0440\\u0430\\u0442\\u043e\\u0440 \\u043e\\u043f\\u0440\\u043e\\u0441\\u0438\\u0442\\u044c \\u043e \\u0432\\u0435\\u0441\\u044c \\u0434\\u043e\\u0445\\u043e\\u0434\\u0438\\u0442\\u044c \\u0434\\u043e \\u0432\\u043e\\u043f\\u0440\\u043e\\u0441 \\u043d\\u043e\\u043c\\u0435\\u0440 \\u043f\\u043e\\u0434\\u044a\\u0435\\u0437\\u0434 , \\u0433\\u043e\\u0432\\u043e\\u0440\\u0438\\u0442\\u044c , \\u0447\\u0442\\u043e \\u043f\\u043e\\u0434\\u044a\\u0435\\u0437\\u0434 \\u0432\\u0435\\u0441\\u044c 1 \\u0438 \\u043d\\u0430\\u0434 \\u043e\\u043d\\u0438 \\u0434\\u0430\\u0436\\u0435 \\u043d\\u043e\\u043c\\u0435\\u0440 \\u043d\\u0438\\u043a\\u043e\\u0433\\u0434\\u0430 \\u043d\\u0435 \\u0432\\u0438\\u0441\\u0435\\u0442\\u044c . \\u0445\\u043e\\u043b\\u043e\\u0434\\u043d\\u044b\\u0439 \\u0442\\u043e\\u043d \\u043f\\u043e\\u0432\\u0442\\u043e\\u0440\\u0438\\u0442\\u044c \\u0432\\u043e\\u043f\\u0440\\u043e\\u0441 . \\u044f \\u0431\\u044b\\u0441\\u0442\\u0440\\u043e \\u043f\\u043e\\u043f\\u044b\\u0442\\u0430\\u0442\\u044c\\u0441\\u044f \\u043f\\u043e\\u0432\\u0442\\u043e\\u0440\\u0438\\u0442\\u044c \\u0442\\u043e\\u0442 \\u0436\\u0435 \\u043e\\u0442\\u0432\\u0435\\u0442 , \\u0442\\u0430\\u043a \\u043a\\u0430\\u043a \\u0431\\u043e\\u044f\\u0442\\u044c\\u0441\\u044f \\u043e\\u0448\\u0438\\u0431\\u0438\\u0442\\u044c\\u0441\\u044f \\u0441 23 \\u043f\\u043e\\u0434\\u044a\\u0435\\u0437\\u0434 , \\u0432\\u0434\\u0440\\u0443\\u0433 \\u0436\\u0435 \\u0441\\u043a\\u043e\\u0440\\u044b\\u0439 \\u043a \\u043e\\u043d \\u043f\\u043e\\u0434\\u044a\\u0435\\u0445\\u0430\\u0442\\u044c \\u0438 \\u043e\\u043d\\u0430 \\u0431\\u044b\\u0442\\u044c \\u0434\\u0430\\u043b\\u0435\\u043a\\u043e \\u043f\\u043e\\u0442\\u043e\\u043c \\u0438\\u0434\\u0442\\u0438 \\u0434\\u043e \\u043c\\u043e\\u0439 \\u0431\\u0435\\u0437 \\u043d\\u043e\\u043c\\u0435\\u0440 . 4 \\u043f\\u043e\\u043f\\u044b\\u0442\\u043a\\u0430 \\u0438 \\u044f \\u0431\\u0440\\u043e\\u0441\\u0438\\u0442\\u044c \\u0442\\u0440\\u0443\\u0431\\u043a\\u0430 , \\u0432\\u044b\\u0432\\u0435\\u0441\\u0442\\u0438 \\u0442\\u0440\\u0430\\u0432\\u043c\\u0438\\u0440\\u043e\\u0432\\u0430\\u043d\\u044b\\u0439 \\u043d\\u0430 \\u0443\\u043b\\u0438\\u0446\\u0430 \\u0438 \\u0441\\u0440\\u0430\\u0437\\u0443 \\u044d\\u0442\\u043e\\u0442 \\u043a\\u0430\\u0440\\u0442\\u0438\\u043d\\u0430 \\u0437\\u0430\\u043c\\u0435\\u0442\\u0438\\u0442\\u044c \\u0441\\u043e\\u0441\\u0435\\u0434 \\u0441 \\u043c\\u0430\\u0448\\u0438\\u043d\\u0430 , \\u0447\\u0435\\u0440\\u0435\\u0437 10 \\u043c\\u0438\\u043d\\u0443\\u0442\\u0430 \\u0431\\u044b\\u0442\\u044c \\u0432 \\u043f\\u0440\\u0438\\u0451\\u043c\\u043d\\u044b\\u0439 \\u043e\\u0442\\u0434\\u0435\\u043b\\u0435\\u043d\\u0438\\u0435 .\"\n        ],\n        \"semantic_type\": \"\",\n        \"description\": \"\"\n      }\n    }\n  ]\n}"
            }
          },
          "metadata": {},
          "execution_count": 34
        }
      ]
    },
    {
      "cell_type": "code",
      "source": [
        "df.info()"
      ],
      "metadata": {
        "id": "YJvzzhG9ZDyg",
        "colab": {
          "base_uri": "https://localhost:8080/"
        },
        "outputId": "dfb06c9b-33c4-456c-dd6b-89a46d178fa1"
      },
      "execution_count": 35,
      "outputs": [
        {
          "output_type": "stream",
          "name": "stdout",
          "text": [
            "<class 'pandas.core.frame.DataFrame'>\n",
            "RangeIndex: 14412 entries, 0 to 14411\n",
            "Data columns (total 4 columns):\n",
            " #   Column               Non-Null Count  Dtype  \n",
            "---  ------               --------------  -----  \n",
            " 0   comment              14412 non-null  object \n",
            " 1   toxic                14412 non-null  float64\n",
            " 2   stemmed_comments     14412 non-null  object \n",
            " 3   lemmatized_comments  14412 non-null  object \n",
            "dtypes: float64(1), object(3)\n",
            "memory usage: 450.5+ KB\n"
          ]
        }
      ]
    },
    {
      "cell_type": "code",
      "source": [
        "# NLP2_4 Реализовать классификатор токсичных комментариев tfidf на базе датасета https://www.kaggle.com/datasets/blackmoon/russian-language-toxic-comments"
      ],
      "metadata": {
        "id": "OM39bfPn3rfT"
      },
      "execution_count": null,
      "outputs": []
    },
    {
      "cell_type": "code",
      "source": [
        "import pandas as pd\n",
        "from sklearn.model_selection import train_test_split\n",
        "from sklearn.feature_extraction.text import TfidfVectorizer\n",
        "from sklearn.linear_model import LogisticRegression\n",
        "from sklearn.metrics import accuracy_score, classification_report\n",
        "\n",
        "# Загрузка данных из CSV-файла\n",
        "data = pd.read_csv('labeled.csv')\n",
        "\n",
        "# Предполагается, что в датасете есть столбцы 'text' и 'label'\n",
        "# 'text' содержит текст комментария, 'label' - метка токсичности (1 - токсичный, 0 - не токсичный)\n",
        "\n",
        "# Разделение данных на признаки (X) и целевую переменную (y)\n",
        "X = data['comment']\n",
        "y = data['toxic']\n",
        "\n",
        "# Преобразование текстов в векторное представление с помощью TF-IDF\n",
        "vectorizer = TfidfVectorizer()\n",
        "X_tfidf = vectorizer.fit_transform(X)\n",
        "\n",
        "# Разделение данных на обучающий и тестовый наборы\n",
        "X_train, X_test, y_train, y_test = train_test_split(X_tfidf, y, test_size=0.2, random_state=42)\n",
        "\n",
        "# Обучение модели логистической регрессии\n",
        "model = LogisticRegression()\n",
        "model.fit(X_train, y_train)\n",
        "\n",
        "# Предсказание на тестовых данных\n",
        "y_pred = model.predict(X_test)\n",
        "\n",
        "# Оценка модели\n",
        "accuracy = accuracy_score(y_test, y_pred)\n",
        "report = classification_report(y_test, y_pred)\n",
        "\n",
        "print(f\"Accuracy: {accuracy}\")\n",
        "print(f\"Classification Report:\\n{report}\")"
      ],
      "metadata": {
        "id": "XNSdVpv23rj9",
        "colab": {
          "base_uri": "https://localhost:8080/"
        },
        "outputId": "dc43f080-8d50-4fc9-e9c6-571071efff0d"
      },
      "execution_count": null,
      "outputs": [
        {
          "output_type": "stream",
          "name": "stdout",
          "text": [
            "Accuracy: 0.8321193201526188\n",
            "Classification Report:\n",
            "              precision    recall  f1-score   support\n",
            "\n",
            "         0.0       0.82      0.97      0.89      1944\n",
            "         1.0       0.90      0.55      0.68       939\n",
            "\n",
            "    accuracy                           0.83      2883\n",
            "   macro avg       0.86      0.76      0.78      2883\n",
            "weighted avg       0.84      0.83      0.82      2883\n",
            "\n"
          ]
        }
      ]
    }
  ]
}