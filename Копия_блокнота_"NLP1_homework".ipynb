{
  "nbformat": 4,
  "nbformat_minor": 0,
  "metadata": {
    "colab": {
      "provenance": [],
      "toc_visible": true,
      "include_colab_link": true
    },
    "kernelspec": {
      "name": "python3",
      "display_name": "Python 3"
    },
    "language_info": {
      "name": "python"
    }
  },
  "cells": [
    {
      "cell_type": "markdown",
      "metadata": {
        "id": "view-in-github",
        "colab_type": "text"
      },
      "source": [
        "<a href=\"https://colab.research.google.com/github/Geriys/VKirillV/blob/main/%D0%9A%D0%BE%D0%BF%D0%B8%D1%8F_%D0%B1%D0%BB%D0%BE%D0%BA%D0%BD%D0%BE%D1%82%D0%B0_%22NLP1_homework%22.ipynb\" target=\"_parent\"><img src=\"https://colab.research.google.com/assets/colab-badge.svg\" alt=\"Open In Colab\"/></a>"
      ]
    },
    {
      "cell_type": "markdown",
      "source": [
        "###ML1_1:\n",
        "https://www.hackerrank.com/challenges/capturing-non-capturing-groups/problem?isFullScreen=true\n",
        "\n",
        "###ML1_2:\n",
        "https://www.hackerrank.com/challenges/branch-reset-groups/problem?isFullScreen=true\n",
        "\n",
        "###ML1_3:\n",
        "https://www.hackerrank.com/challenges/detect-html-links/problem?isFullScreen=true\n",
        "\n",
        "###ML1_4: Реализовать stemming, lemmatization & BoW на следующем датасете: https://cloud.mail.ru/public/Z4L3/vB8GcgTtK (Russian Toxic-abuse comments)"
      ],
      "metadata": {
        "id": "dH7qx_irU4Y8"
      }
    },
    {
      "cell_type": "code",
      "source": [
        "# ML1_1:"
      ],
      "metadata": {
        "id": "xJfkstKpqsXp"
      },
      "execution_count": null,
      "outputs": []
    },
    {
      "cell_type": "code",
      "source": [
        "Regex_Pattern = r'(ok){3,}'\t# Do not delete 'r'."
      ],
      "metadata": {
        "id": "mrMjeykGyYME"
      },
      "execution_count": null,
      "outputs": []
    },
    {
      "cell_type": "code",
      "source": [
        "# ML1_2:"
      ],
      "metadata": {
        "id": "tdUp3v4hyaG2"
      },
      "execution_count": null,
      "outputs": []
    },
    {
      "cell_type": "code",
      "source": [
        "Regex_Pattern = ^\\d{2}(-(?:--)?|\\.|:)\\d{2}\\1\\d{2}\\1\\d{2}$"
      ],
      "metadata": {
        "id": "HVZBbNUgbiRW"
      },
      "execution_count": null,
      "outputs": []
    },
    {
      "cell_type": "code",
      "source": [
        "Regex_Pattern = '^(\\d{2}(?:-|:|---|\\.){1}){3}\\d{2}$'"
      ],
      "metadata": {
        "id": "yvkq_ZDVfQKF"
      },
      "execution_count": null,
      "outputs": []
    },
    {
      "cell_type": "code",
      "source": [
        "# ML1_3:"
      ],
      "metadata": {
        "id": "pO82NMbIbiWa"
      },
      "execution_count": null,
      "outputs": []
    },
    {
      "cell_type": "code",
      "source": [
        "import re\n",
        "n = int(input())\n",
        "l = []\n",
        "for i in range(n):\n",
        "    x = str(input())\n",
        "    l.append(x)\n",
        "pattern = re.compile('<a href=\"(.+?)\".*?>(.*?)<\\/a>')\n",
        "for x in l:\n",
        "        a = re.findall(pattern, x)\n",
        "        for z in a:\n",
        "            y1 = z[0].strip()\n",
        "            y2 = z[1].strip()\n",
        "            p2 = re.compile('[<.*>]*(.*?)<.*>')\n",
        "            y2 = re.findall(p2, y2)\n",
        "            if(len(y2) != 0):\n",
        "                y2 = str(y2)\n",
        "                y2 = y2[2:len(y2)-2]\n",
        "                zz = y2.find('>')\n",
        "                y2 = y2[zz+1 : len(y2)]\n",
        "                print(y1+','+y2)\n",
        "            else:\n",
        "                print(y1 + ',' + z[1].strip())"
      ],
      "metadata": {
        "id": "sSl3yguUbiYm"
      },
      "execution_count": null,
      "outputs": []
    },
    {
      "cell_type": "code",
      "source": [],
      "metadata": {
        "id": "B9u0uRERbiat"
      },
      "execution_count": null,
      "outputs": []
    },
    {
      "cell_type": "code",
      "source": [],
      "metadata": {
        "id": "9COcYFvhbidC"
      },
      "execution_count": null,
      "outputs": []
    }
  ]
}