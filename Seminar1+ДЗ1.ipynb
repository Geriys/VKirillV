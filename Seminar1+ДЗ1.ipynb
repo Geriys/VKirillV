{
  "cells": [
    {
      "cell_type": "markdown",
      "metadata": {
        "id": "view-in-github",
        "colab_type": "text"
      },
      "source": [
        "<a href=\"https://colab.research.google.com/github/Geriys/VKirillV/blob/main/Seminar1%2B%D0%94%D0%971.ipynb\" target=\"_parent\"><img src=\"https://colab.research.google.com/assets/colab-badge.svg\" alt=\"Open In Colab\"/></a>"
      ]
    },
    {
      "cell_type": "code",
      "execution_count": 56,
      "metadata": {
        "id": "RuSxPbblHJK1",
        "colab": {
          "base_uri": "https://localhost:8080/"
        },
        "outputId": "0d86f4ad-ed3b-4f00-bdc2-6d3777f02ab0"
      },
      "outputs": [
        {
          "output_type": "stream",
          "name": "stdout",
          "text": [
            "Найденные корни: [0.9999999999999992, 3.9999999999999973]\n"
          ]
        }
      ],
      "source": [
        "# Домашнее задание\n",
        "# x ** 2 - 5 * x + 4 = 0\n",
        "# x1 = 1\n",
        "# x2 = 4\n",
        "\n",
        "def gradient_descent(start_point, learning_rate, iterations):\n",
        "    x = start_point\n",
        "    for i in range(iterations):\n",
        "        # Вычисляем градиент\n",
        "        gradient = (2 * x - 5)*(x**2 - 5 * x + 4)\n",
        "        # Обновляем значение x\n",
        "        x = x - learning_rate * gradient\n",
        "    return x\n",
        "\n",
        "# # Начальная точка для x1\n",
        "# start_point1 = 0\n",
        "# # Начальная точка для x2\n",
        "# start_point2 = 3\n",
        "\n",
        "# Начальные точки\n",
        "start_point = [0, 3]\n",
        "roots = []\n",
        "# Скорость обучения (learning rate)\n",
        "learning_rate = 0.01\n",
        "\n",
        "# Количество итераций\n",
        "iterations = 1000\n",
        "\n",
        "for i in start_point:\n",
        "    roots.append(gradient_descent(i, learning_rate, iterations))\n",
        "\n",
        "# Находим корни\n",
        "print(\"Найденные корни:\", roots)\n",
        "\n"
      ]
    },
    {
      "cell_type": "code",
      "source": [
        "# задача 1\n",
        "\n",
        "# Найти корни квадратного уравнения методом градиентного спуска\n",
        "# x ** 2 - 5 * x + 4 = 0\n",
        "\n",
        "# надо начать движение от начальной точки в направлении антградиента с заданным шагом\n",
        "# x = x - lr * grad(x)\n",
        "# всегда ли сойдемся за приемлемое количество шагов?\n",
        "# важна ли начальная точка?\n",
        "# как найти второй корень?\n",
        "# как влияет ЛР?\n",
        "\n",
        "\n",
        "#1 Всегда ли сойдемся за приемлемое количество шагов?\n",
        "# Нет, не всегда. Метод градиентного спуска может застрять в локальных экстремумах, а не в глобальном минимуме.\n",
        "# Кроме того, если функция не является гладкой, метод может потеряться в очень вытянутом или выпуклом пространстве.\n",
        "\n",
        "#2 Важна ли начальная точка?\n",
        "# Да, очень важна. Если начальная точка уже близка к корню, то метод сможет быстро сойтись.\n",
        "# Если начальная точка далека, метод может застрять в локальном минимуме.\n",
        "\n",
        "#3 Как найти второй корень?\n",
        "# Для поиска второго корня, нужно начать с другой начальной точки, которая ближе к второму корню.\n",
        "\n",
        "#4 Как влияет скорость обучения (ЛР)?\n",
        "# Скорость обучения (ЛР) определяет, насколько быстро метод градиентного спуска движется в направлении антиградиента.\n",
        "# Если ЛР слишком маленькое, метод может очень медленно сойтись, а если ЛР слишком большое, метод может нестабильно работать или даже расходиться.\n",
        "# Выбор правильной ЛР зависит от конкретной задачи и функции, которую мы пытаемся минимизировать."
      ],
      "metadata": {
        "id": "eVwan8RV1lcf"
      },
      "execution_count": null,
      "outputs": []
    },
    {
      "cell_type": "code",
      "execution_count": null,
      "metadata": {
        "id": "cJlrSHw9Fz1x"
      },
      "outputs": [],
      "source": []
    },
    {
      "cell_type": "code",
      "execution_count": 60,
      "metadata": {
        "colab": {
          "base_uri": "https://localhost:8080/"
        },
        "id": "sPZfMWKKbnKE",
        "outputId": "fb3551d3-781e-44e1-d2c6-2fb2de6407ed"
      },
      "outputs": [
        {
          "output_type": "stream",
          "name": "stdout",
          "text": [
            "Найденный корень: 1.0000000000000002\n"
          ]
        }
      ],
      "source": [
        "# Задача 2\n",
        "\n",
        "# Реализовать адаптивний оптимизатор с подстраивающимся LR\n",
        "\n",
        "import numpy as np\n",
        "\n",
        "def ada_lr_optimizer(x_start, learning_rate, iterations, decay_rate=0.95, epsilon=1e-7):\n",
        "    x = x_start\n",
        "    cache = 0\n",
        "    for i in range(iterations):\n",
        "        gradient = (2 * x - 5)*(x**2 - 5 * x + 4)\n",
        "        cache = decay_rate * cache + (1 - decay_rate) * gradient ** 2\n",
        "        x = x - learning_rate * gradient / (np.sqrt(cache) + epsilon)\n",
        "    return x\n",
        "\n",
        "# Начальное приближение\n",
        "x_start = 0\n",
        "# Начальная скорость обучения\n",
        "learning_rate = 0.1\n",
        "# Количество итераций\n",
        "iterations = 1000\n",
        "\n",
        "root = ada_lr_optimizer(x_start, learning_rate, iterations)\n",
        "print(\"Найденный корень:\", root)\n"
      ]
    },
    {
      "cell_type": "code",
      "execution_count": null,
      "metadata": {
        "id": "QHGv_Y9XbnKF"
      },
      "outputs": [],
      "source": []
    },
    {
      "cell_type": "code",
      "execution_count": 62,
      "metadata": {
        "id": "l-iXHAA1Fz1p"
      },
      "outputs": [],
      "source": [
        "import numpy as np"
      ]
    },
    {
      "cell_type": "code",
      "execution_count": null,
      "metadata": {
        "id": "a2swiHK-HIOq"
      },
      "outputs": [],
      "source": [
        "# Task 2\n",
        "# Realize forward and backward pass for linear layer with sigmoid activation"
      ]
    },
    {
      "cell_type": "code",
      "execution_count": 61,
      "metadata": {
        "id": "ibFFthYnHIlh"
      },
      "outputs": [],
      "source": [
        "def sigmoid(x):\n",
        "    return 1. / (1 + np.exp(-x))\n",
        "\n",
        "def sigmoid_backward(da, x):\n",
        "    sig = sigmoid(x)\n",
        "\n",
        "    return da * sig * (1 - sig)\n",
        "\n",
        "def relu(x):\n",
        "    return np.maximum(0., x)\n",
        "\n",
        "def relu_backward(da, x):\n",
        "    da = np.array(da, copy = True)\n",
        "    da[x <= 0] = 0\n",
        "    return da"
      ]
    },
    {
      "cell_type": "code",
      "execution_count": 63,
      "metadata": {
        "id": "gvMKpB5WFz1z"
      },
      "outputs": [],
      "source": [
        "def mse_loss(t, y):\n",
        "    return (t - y) ** 2\n",
        "\n",
        "def d_mse_loss(t, y):\n",
        "    return 2 * (y - t)\n"
      ]
    },
    {
      "cell_type": "code",
      "execution_count": 64,
      "metadata": {
        "id": "-qAVeaVcFz10"
      },
      "outputs": [],
      "source": [
        "class LinearLayer:\n",
        "    def __init__(self, n_inp, n_out, activation='sigmoid'):\n",
        "        self.w = np.random.randn(n_out, n_inp) * 0.1\n",
        "        self.b = np.random.randn(n_out, 1) * 0.1\n",
        "        if activation == 'sigmoid':\n",
        "            self.activ = sigmoid\n",
        "        if activation == 'relu':\n",
        "            self.activ = relu\n",
        "        elif activation == 'None':\n",
        "            self.activ = None\n",
        "        else:\n",
        "            raise Exception(f'Unknown activation \"{activation}\"')\n",
        "        self._clear_state()\n",
        "\n",
        "    def _clear_state(self):\n",
        "        self.lin = None\n",
        "        self.inp = None\n",
        "        self.d_w = None\n",
        "        self.d_b = None\n",
        "\n",
        "    def forward(self, x):\n",
        "        self.inp = x\n",
        "        self.lin = np.dot(self.w, x) + self.b\n",
        "        activ = self.activ(self.lin) if self.activ is not None else self.lin\n",
        "\n",
        "        return activ\n",
        "\n",
        "    def backward(self, grad): # grad = d L / d z    Dout\n",
        "        # grad * dz / d lin\n",
        "        if self.activ == sigmoid:\n",
        "            grad_lin = sigmoid_backward(grad, self.lin)\n",
        "        if self.activ == relu:\n",
        "            grad_lin = relu_backward(grad, self.lin)\n",
        "        else:\n",
        "            grad_lin = grad\n",
        "        # grad_lin * d lin / d w\n",
        "        m = self.inp.shape[1]\n",
        "        self.d_w = grad_lin @ self.inp.T / m\n",
        "        # grad_lin * d lin / d b\n",
        "        self.d_b = np.sum(grad_lin, axis=1, keepdims=True) / m\n",
        "\n",
        "        grad = np.dot(self.w.T, grad_lin)\n",
        "\n",
        "        return grad"
      ]
    },
    {
      "cell_type": "code",
      "execution_count": 65,
      "metadata": {
        "id": "jUZcVU8z2T-t"
      },
      "outputs": [],
      "source": [
        "from typing import Tuple\n",
        "\n",
        "class Model:\n",
        "    def __init__(self, arch: Tuple[Tuple[int, int]], activation):\n",
        "        self.layers = []\n",
        "        for i, p in enumerate(arch):\n",
        "            self.layers.append(\n",
        "                LinearLayer(p[0], p[1],\n",
        "                            activation=activation if i < len(arch)-1 else 'None')\n",
        "                )\n",
        "        self._clear_state()\n",
        "\n",
        "    def _clear_state(self):\n",
        "        for l in self.layers:\n",
        "            l._clear_state()\n",
        "\n",
        "    def forward(self, x):\n",
        "        for l in self.layers:\n",
        "            x = l.forward(x)\n",
        "\n",
        "        return x\n",
        "\n",
        "    def backward(self, grad):\n",
        "        for l in reversed(self.layers):\n",
        "            grad = l.backward(grad)\n",
        "\n",
        "        return grad"
      ]
    },
    {
      "cell_type": "code",
      "execution_count": null,
      "metadata": {
        "id": "KmLRIBk4Fz12"
      },
      "outputs": [],
      "source": [
        "# Task 3\n",
        "# Realize SGD Momentum optimizer\n",
        "# velocity = momentum * velocity - lr * gradient\n",
        "# w = w + velocity"
      ]
    },
    {
      "cell_type": "code",
      "execution_count": 6,
      "metadata": {
        "id": "YRCDRdKNn8qs"
      },
      "outputs": [],
      "source": [
        "#для всей модели\n",
        "class SGDMomentum:\n",
        "    def __init__(self, model: Model, lr= 0.0001, momentum=0.9):\n",
        "        self.model = model\n",
        "        self.lr = lr\n",
        "        self.m = momentum\n",
        "        self.vel = [[np.zeros_like(layer.w),\n",
        "                     np.zeros_like(layer.b)] for layer in model.layers]\n",
        "\n",
        "    def step(self):\n",
        "        for i, layer in enumerate(self.model.layers):\n",
        "            self.vel[i][0] = self.vel[i][0] * self.m - self.lr * layer.d_w\n",
        "            self.vel[i][1] = self.vel[i][1] * self.m - self.lr * layer.d_b\n",
        "            layer.w += self.vel[i][0]\n",
        "            layer.b += self.vel[i][1]\n",
        "\n",
        "    def zero_grad(self):\n",
        "        self.model._clear_state()"
      ]
    },
    {
      "cell_type": "code",
      "execution_count": null,
      "metadata": {
        "id": "sZPKwvE-Fz15"
      },
      "outputs": [],
      "source": []
    },
    {
      "cell_type": "code",
      "execution_count": null,
      "metadata": {
        "id": "EXoxTHw5Fz16"
      },
      "outputs": [],
      "source": []
    },
    {
      "cell_type": "code",
      "execution_count": 7,
      "metadata": {
        "id": "AN-E_lK_Fz18"
      },
      "outputs": [],
      "source": [
        "x = np.random.uniform(-3, 3, 20000)\n",
        "y = x**2 + np.random.randn()*0.01\n"
      ]
    },
    {
      "cell_type": "code",
      "execution_count": 8,
      "metadata": {
        "colab": {
          "base_uri": "https://localhost:8080/"
        },
        "id": "j2aBvwzyFz18",
        "outputId": "2fdf9e11-6160-4c13-fcaa-2ff4a2bb6eb1"
      },
      "outputs": [
        {
          "output_type": "stream",
          "name": "stdout",
          "text": [
            "0 [[-0.29585722]] [[-0.34445304]] [[-0.19777265]] [[-0.17847653]]\n",
            "1 [[1.72396487]] [[4.48079063]] [[1.59010737]] [[4.43414302]]\n",
            "2 [[1.30525303]] [[4.48264826]] [[1.23017222]] [[4.45188755]]\n",
            "3 [[1.11131619]] [[4.45611824]] [[1.08761939]] [[4.4366114]]\n",
            "4 [[1.02328202]] [[4.41987844]] [[0.99315926]] [[4.40858837]]\n",
            "5 [[1.01947311]] [[4.37907408]] [[0.91337524]] [[4.37537623]]\n",
            "6 [[1.02781977]] [[4.33732487]] [[0.92380773]] [[4.33764886]]\n",
            "7 [[1.02877803]] [[4.29817876]] [[0.97814804]] [[4.29962617]]\n",
            "8 [[1.03592374]] [[4.26243156]] [[1.00689335]] [[4.26383623]]\n",
            "9 [[1.04322506]] [[4.23040376]] [[1.02120996]] [[4.23047607]]\n",
            "10 [[1.04751474]] [[4.20132799]] [[1.02810468]] [[4.19941073]]\n",
            "11 [[1.04895747]] [[4.17451899]] [[1.03080319]] [[4.17037003]]\n",
            "12 [[1.04846529]] [[4.14963424]] [[1.03093455]] [[4.14353788]]\n",
            "13 [[1.04671801]] [[4.12659376]] [[1.02948818]] [[4.11865742]]\n",
            "14 [[1.04445943]] [[4.10531487]] [[1.02716206]] [[4.09562858]]\n",
            "15 [[1.04197778]] [[4.08558551]] [[1.02454423]] [[4.07422779]]\n",
            "16 [[1.03956218]] [[4.06725663]] [[1.02190309]] [[4.0543783]]\n",
            "17 [[1.03721368]] [[4.05015639]] [[1.01942218]] [[4.03597955]]\n",
            "18 [[1.0350257]] [[4.03413821]] [[1.0171458]] [[4.01897221]]\n",
            "19 [[1.03294344]] [[4.02100718]] [[1.01512708]] [[4.00746854]]\n"
          ]
        }
      ],
      "source": [
        "model = Model(((1, 100), (100, 1)), activation='relu')\n",
        "optim = SGDMomentum(model, lr=0.00001)\n",
        "for e in range(20):\n",
        "    print(e, model.forward([[1]]), model.forward([[2]]), model.forward([[-1]]), model.forward([[-2]]))\n",
        "    for i, (val, t) in enumerate(zip(x, y)):\n",
        "        optim.zero_grad()\n",
        "        pred = model.forward(np.array([[val]]))\n",
        "        loss = mse_loss(t, pred)\n",
        "        grad = d_mse_loss(t, pred)\n",
        "        model.backward(grad)\n",
        "        optim.step()\n",
        "\n"
      ]
    },
    {
      "cell_type": "code",
      "execution_count": 9,
      "metadata": {
        "id": "_5jAO8pVFz19",
        "colab": {
          "base_uri": "https://localhost:8080/"
        },
        "outputId": "c178fd0c-25a0-479d-cd10-39ec045ffe99"
      },
      "outputs": [
        {
          "output_type": "stream",
          "name": "stdout",
          "text": [
            "19 [[1.03103003]] [[4.01274209]] [[1.01330267]] [[475.78717601]]\n"
          ]
        }
      ],
      "source": [
        "print(e, model.forward([[1]]), model.forward([[2]]), model.forward([[-1]]), model.forward([[103]]))"
      ]
    },
    {
      "cell_type": "code",
      "execution_count": null,
      "metadata": {
        "id": "bOOY8douFz1-"
      },
      "outputs": [],
      "source": []
    }
  ],
  "metadata": {
    "colab": {
      "provenance": [],
      "include_colab_link": true
    },
    "kernelspec": {
      "display_name": "Python 3",
      "language": "python",
      "name": "python3"
    },
    "language_info": {
      "codemirror_mode": {
        "name": "ipython",
        "version": 3
      },
      "file_extension": ".py",
      "mimetype": "text/x-python",
      "name": "python",
      "nbconvert_exporter": "python",
      "pygments_lexer": "ipython3",
      "version": "3.6.5"
    }
  },
  "nbformat": 4,
  "nbformat_minor": 0
}