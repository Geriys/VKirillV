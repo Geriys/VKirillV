{
  "cells": [
    {
      "cell_type": "markdown",
      "metadata": {
        "id": "view-in-github",
        "colab_type": "text"
      },
      "source": [
        "<a href=\"https://colab.research.google.com/github/Geriys/VKirillV/blob/main/HW_3_ML11.ipynb\" target=\"_parent\"><img src=\"https://colab.research.google.com/assets/colab-badge.svg\" alt=\"Open In Colab\"/></a>"
      ]
    },
    {
      "cell_type": "code",
      "execution_count": 15,
      "metadata": {
        "id": "pq8naiX4TkhU"
      },
      "outputs": [],
      "source": [
        "%matplotlib inline\n",
        "\n",
        "from sklearn.linear_model import LinearRegression\n",
        "import matplotlib.pyplot as plt\n",
        "import pandas as pd\n",
        "import numpy as np\n"
      ]
    },
    {
      "cell_type": "code",
      "execution_count": 16,
      "metadata": {
        "id": "rQGYH6bTTkhU"
      },
      "outputs": [],
      "source": [
        "RANDOM_STATE = 42\n",
        "\n",
        "results_regression = pd.DataFrame(columns = ['model', 'task', 'R2'])\n",
        "results_classification = pd.DataFrame(columns = ['model', 'task', 'f1', 'accuracy'])"
      ]
    },
    {
      "cell_type": "markdown",
      "metadata": {
        "id": "URu-6PsDTkhV"
      },
      "source": [
        "https://www.cs.toronto.edu/~delve/data/boston/bostonDetail.html"
      ]
    },
    {
      "cell_type": "code",
      "execution_count": 17,
      "metadata": {
        "colab": {
          "base_uri": "https://localhost:8080/",
          "height": 206
        },
        "id": "fXAFQQp7TkhV",
        "outputId": "82c1dd74-57a3-4ff6-89d9-b1045d93fafa"
      },
      "outputs": [
        {
          "output_type": "execute_result",
          "data": {
            "text/plain": [
              "      CRIM    ZN  INDUS  CHAS    NOX     RM   AGE     DIS  RAD    TAX  \\\n",
              "0  0.00632  18.0   2.31   0.0  0.538  6.575  65.2  4.0900  1.0  296.0   \n",
              "1  0.02731   0.0   7.07   0.0  0.469  6.421  78.9  4.9671  2.0  242.0   \n",
              "2  0.02729   0.0   7.07   0.0  0.469  7.185  61.1  4.9671  2.0  242.0   \n",
              "3  0.03237   0.0   2.18   0.0  0.458  6.998  45.8  6.0622  3.0  222.0   \n",
              "4  0.06905   0.0   2.18   0.0  0.458  7.147  54.2  6.0622  3.0  222.0   \n",
              "\n",
              "   PTRATIO       B  LSTAT  MEDV  \n",
              "0     15.3  396.90   4.98  24.0  \n",
              "1     17.8  396.90   9.14  21.6  \n",
              "2     17.8  392.83   4.03  34.7  \n",
              "3     18.7  394.63   2.94  33.4  \n",
              "4     18.7  396.90   5.33  36.2  "
            ],
            "text/html": [
              "\n",
              "  <div id=\"df-b99e69ed-5dad-4db9-ba05-d657d7d41d51\" class=\"colab-df-container\">\n",
              "    <div>\n",
              "<style scoped>\n",
              "    .dataframe tbody tr th:only-of-type {\n",
              "        vertical-align: middle;\n",
              "    }\n",
              "\n",
              "    .dataframe tbody tr th {\n",
              "        vertical-align: top;\n",
              "    }\n",
              "\n",
              "    .dataframe thead th {\n",
              "        text-align: right;\n",
              "    }\n",
              "</style>\n",
              "<table border=\"1\" class=\"dataframe\">\n",
              "  <thead>\n",
              "    <tr style=\"text-align: right;\">\n",
              "      <th></th>\n",
              "      <th>CRIM</th>\n",
              "      <th>ZN</th>\n",
              "      <th>INDUS</th>\n",
              "      <th>CHAS</th>\n",
              "      <th>NOX</th>\n",
              "      <th>RM</th>\n",
              "      <th>AGE</th>\n",
              "      <th>DIS</th>\n",
              "      <th>RAD</th>\n",
              "      <th>TAX</th>\n",
              "      <th>PTRATIO</th>\n",
              "      <th>B</th>\n",
              "      <th>LSTAT</th>\n",
              "      <th>MEDV</th>\n",
              "    </tr>\n",
              "  </thead>\n",
              "  <tbody>\n",
              "    <tr>\n",
              "      <th>0</th>\n",
              "      <td>0.00632</td>\n",
              "      <td>18.0</td>\n",
              "      <td>2.31</td>\n",
              "      <td>0.0</td>\n",
              "      <td>0.538</td>\n",
              "      <td>6.575</td>\n",
              "      <td>65.2</td>\n",
              "      <td>4.0900</td>\n",
              "      <td>1.0</td>\n",
              "      <td>296.0</td>\n",
              "      <td>15.3</td>\n",
              "      <td>396.90</td>\n",
              "      <td>4.98</td>\n",
              "      <td>24.0</td>\n",
              "    </tr>\n",
              "    <tr>\n",
              "      <th>1</th>\n",
              "      <td>0.02731</td>\n",
              "      <td>0.0</td>\n",
              "      <td>7.07</td>\n",
              "      <td>0.0</td>\n",
              "      <td>0.469</td>\n",
              "      <td>6.421</td>\n",
              "      <td>78.9</td>\n",
              "      <td>4.9671</td>\n",
              "      <td>2.0</td>\n",
              "      <td>242.0</td>\n",
              "      <td>17.8</td>\n",
              "      <td>396.90</td>\n",
              "      <td>9.14</td>\n",
              "      <td>21.6</td>\n",
              "    </tr>\n",
              "    <tr>\n",
              "      <th>2</th>\n",
              "      <td>0.02729</td>\n",
              "      <td>0.0</td>\n",
              "      <td>7.07</td>\n",
              "      <td>0.0</td>\n",
              "      <td>0.469</td>\n",
              "      <td>7.185</td>\n",
              "      <td>61.1</td>\n",
              "      <td>4.9671</td>\n",
              "      <td>2.0</td>\n",
              "      <td>242.0</td>\n",
              "      <td>17.8</td>\n",
              "      <td>392.83</td>\n",
              "      <td>4.03</td>\n",
              "      <td>34.7</td>\n",
              "    </tr>\n",
              "    <tr>\n",
              "      <th>3</th>\n",
              "      <td>0.03237</td>\n",
              "      <td>0.0</td>\n",
              "      <td>2.18</td>\n",
              "      <td>0.0</td>\n",
              "      <td>0.458</td>\n",
              "      <td>6.998</td>\n",
              "      <td>45.8</td>\n",
              "      <td>6.0622</td>\n",
              "      <td>3.0</td>\n",
              "      <td>222.0</td>\n",
              "      <td>18.7</td>\n",
              "      <td>394.63</td>\n",
              "      <td>2.94</td>\n",
              "      <td>33.4</td>\n",
              "    </tr>\n",
              "    <tr>\n",
              "      <th>4</th>\n",
              "      <td>0.06905</td>\n",
              "      <td>0.0</td>\n",
              "      <td>2.18</td>\n",
              "      <td>0.0</td>\n",
              "      <td>0.458</td>\n",
              "      <td>7.147</td>\n",
              "      <td>54.2</td>\n",
              "      <td>6.0622</td>\n",
              "      <td>3.0</td>\n",
              "      <td>222.0</td>\n",
              "      <td>18.7</td>\n",
              "      <td>396.90</td>\n",
              "      <td>5.33</td>\n",
              "      <td>36.2</td>\n",
              "    </tr>\n",
              "  </tbody>\n",
              "</table>\n",
              "</div>\n",
              "    <div class=\"colab-df-buttons\">\n",
              "\n",
              "  <div class=\"colab-df-container\">\n",
              "    <button class=\"colab-df-convert\" onclick=\"convertToInteractive('df-b99e69ed-5dad-4db9-ba05-d657d7d41d51')\"\n",
              "            title=\"Convert this dataframe to an interactive table.\"\n",
              "            style=\"display:none;\">\n",
              "\n",
              "  <svg xmlns=\"http://www.w3.org/2000/svg\" height=\"24px\" viewBox=\"0 -960 960 960\">\n",
              "    <path d=\"M120-120v-720h720v720H120Zm60-500h600v-160H180v160Zm220 220h160v-160H400v160Zm0 220h160v-160H400v160ZM180-400h160v-160H180v160Zm440 0h160v-160H620v160ZM180-180h160v-160H180v160Zm440 0h160v-160H620v160Z\"/>\n",
              "  </svg>\n",
              "    </button>\n",
              "\n",
              "  <style>\n",
              "    .colab-df-container {\n",
              "      display:flex;\n",
              "      gap: 12px;\n",
              "    }\n",
              "\n",
              "    .colab-df-convert {\n",
              "      background-color: #E8F0FE;\n",
              "      border: none;\n",
              "      border-radius: 50%;\n",
              "      cursor: pointer;\n",
              "      display: none;\n",
              "      fill: #1967D2;\n",
              "      height: 32px;\n",
              "      padding: 0 0 0 0;\n",
              "      width: 32px;\n",
              "    }\n",
              "\n",
              "    .colab-df-convert:hover {\n",
              "      background-color: #E2EBFA;\n",
              "      box-shadow: 0px 1px 2px rgba(60, 64, 67, 0.3), 0px 1px 3px 1px rgba(60, 64, 67, 0.15);\n",
              "      fill: #174EA6;\n",
              "    }\n",
              "\n",
              "    .colab-df-buttons div {\n",
              "      margin-bottom: 4px;\n",
              "    }\n",
              "\n",
              "    [theme=dark] .colab-df-convert {\n",
              "      background-color: #3B4455;\n",
              "      fill: #D2E3FC;\n",
              "    }\n",
              "\n",
              "    [theme=dark] .colab-df-convert:hover {\n",
              "      background-color: #434B5C;\n",
              "      box-shadow: 0px 1px 3px 1px rgba(0, 0, 0, 0.15);\n",
              "      filter: drop-shadow(0px 1px 2px rgba(0, 0, 0, 0.3));\n",
              "      fill: #FFFFFF;\n",
              "    }\n",
              "  </style>\n",
              "\n",
              "    <script>\n",
              "      const buttonEl =\n",
              "        document.querySelector('#df-b99e69ed-5dad-4db9-ba05-d657d7d41d51 button.colab-df-convert');\n",
              "      buttonEl.style.display =\n",
              "        google.colab.kernel.accessAllowed ? 'block' : 'none';\n",
              "\n",
              "      async function convertToInteractive(key) {\n",
              "        const element = document.querySelector('#df-b99e69ed-5dad-4db9-ba05-d657d7d41d51');\n",
              "        const dataTable =\n",
              "          await google.colab.kernel.invokeFunction('convertToInteractive',\n",
              "                                                    [key], {});\n",
              "        if (!dataTable) return;\n",
              "\n",
              "        const docLinkHtml = 'Like what you see? Visit the ' +\n",
              "          '<a target=\"_blank\" href=https://colab.research.google.com/notebooks/data_table.ipynb>data table notebook</a>'\n",
              "          + ' to learn more about interactive tables.';\n",
              "        element.innerHTML = '';\n",
              "        dataTable['output_type'] = 'display_data';\n",
              "        await google.colab.output.renderOutput(dataTable, element);\n",
              "        const docLink = document.createElement('div');\n",
              "        docLink.innerHTML = docLinkHtml;\n",
              "        element.appendChild(docLink);\n",
              "      }\n",
              "    </script>\n",
              "  </div>\n",
              "\n",
              "\n",
              "<div id=\"df-66064d00-3a18-49f6-9778-184783f4887f\">\n",
              "  <button class=\"colab-df-quickchart\" onclick=\"quickchart('df-66064d00-3a18-49f6-9778-184783f4887f')\"\n",
              "            title=\"Suggest charts\"\n",
              "            style=\"display:none;\">\n",
              "\n",
              "<svg xmlns=\"http://www.w3.org/2000/svg\" height=\"24px\"viewBox=\"0 0 24 24\"\n",
              "     width=\"24px\">\n",
              "    <g>\n",
              "        <path d=\"M19 3H5c-1.1 0-2 .9-2 2v14c0 1.1.9 2 2 2h14c1.1 0 2-.9 2-2V5c0-1.1-.9-2-2-2zM9 17H7v-7h2v7zm4 0h-2V7h2v10zm4 0h-2v-4h2v4z\"/>\n",
              "    </g>\n",
              "</svg>\n",
              "  </button>\n",
              "\n",
              "<style>\n",
              "  .colab-df-quickchart {\n",
              "      --bg-color: #E8F0FE;\n",
              "      --fill-color: #1967D2;\n",
              "      --hover-bg-color: #E2EBFA;\n",
              "      --hover-fill-color: #174EA6;\n",
              "      --disabled-fill-color: #AAA;\n",
              "      --disabled-bg-color: #DDD;\n",
              "  }\n",
              "\n",
              "  [theme=dark] .colab-df-quickchart {\n",
              "      --bg-color: #3B4455;\n",
              "      --fill-color: #D2E3FC;\n",
              "      --hover-bg-color: #434B5C;\n",
              "      --hover-fill-color: #FFFFFF;\n",
              "      --disabled-bg-color: #3B4455;\n",
              "      --disabled-fill-color: #666;\n",
              "  }\n",
              "\n",
              "  .colab-df-quickchart {\n",
              "    background-color: var(--bg-color);\n",
              "    border: none;\n",
              "    border-radius: 50%;\n",
              "    cursor: pointer;\n",
              "    display: none;\n",
              "    fill: var(--fill-color);\n",
              "    height: 32px;\n",
              "    padding: 0;\n",
              "    width: 32px;\n",
              "  }\n",
              "\n",
              "  .colab-df-quickchart:hover {\n",
              "    background-color: var(--hover-bg-color);\n",
              "    box-shadow: 0 1px 2px rgba(60, 64, 67, 0.3), 0 1px 3px 1px rgba(60, 64, 67, 0.15);\n",
              "    fill: var(--button-hover-fill-color);\n",
              "  }\n",
              "\n",
              "  .colab-df-quickchart-complete:disabled,\n",
              "  .colab-df-quickchart-complete:disabled:hover {\n",
              "    background-color: var(--disabled-bg-color);\n",
              "    fill: var(--disabled-fill-color);\n",
              "    box-shadow: none;\n",
              "  }\n",
              "\n",
              "  .colab-df-spinner {\n",
              "    border: 2px solid var(--fill-color);\n",
              "    border-color: transparent;\n",
              "    border-bottom-color: var(--fill-color);\n",
              "    animation:\n",
              "      spin 1s steps(1) infinite;\n",
              "  }\n",
              "\n",
              "  @keyframes spin {\n",
              "    0% {\n",
              "      border-color: transparent;\n",
              "      border-bottom-color: var(--fill-color);\n",
              "      border-left-color: var(--fill-color);\n",
              "    }\n",
              "    20% {\n",
              "      border-color: transparent;\n",
              "      border-left-color: var(--fill-color);\n",
              "      border-top-color: var(--fill-color);\n",
              "    }\n",
              "    30% {\n",
              "      border-color: transparent;\n",
              "      border-left-color: var(--fill-color);\n",
              "      border-top-color: var(--fill-color);\n",
              "      border-right-color: var(--fill-color);\n",
              "    }\n",
              "    40% {\n",
              "      border-color: transparent;\n",
              "      border-right-color: var(--fill-color);\n",
              "      border-top-color: var(--fill-color);\n",
              "    }\n",
              "    60% {\n",
              "      border-color: transparent;\n",
              "      border-right-color: var(--fill-color);\n",
              "    }\n",
              "    80% {\n",
              "      border-color: transparent;\n",
              "      border-right-color: var(--fill-color);\n",
              "      border-bottom-color: var(--fill-color);\n",
              "    }\n",
              "    90% {\n",
              "      border-color: transparent;\n",
              "      border-bottom-color: var(--fill-color);\n",
              "    }\n",
              "  }\n",
              "</style>\n",
              "\n",
              "  <script>\n",
              "    async function quickchart(key) {\n",
              "      const quickchartButtonEl =\n",
              "        document.querySelector('#' + key + ' button');\n",
              "      quickchartButtonEl.disabled = true;  // To prevent multiple clicks.\n",
              "      quickchartButtonEl.classList.add('colab-df-spinner');\n",
              "      try {\n",
              "        const charts = await google.colab.kernel.invokeFunction(\n",
              "            'suggestCharts', [key], {});\n",
              "      } catch (error) {\n",
              "        console.error('Error during call to suggestCharts:', error);\n",
              "      }\n",
              "      quickchartButtonEl.classList.remove('colab-df-spinner');\n",
              "      quickchartButtonEl.classList.add('colab-df-quickchart-complete');\n",
              "    }\n",
              "    (() => {\n",
              "      let quickchartButtonEl =\n",
              "        document.querySelector('#df-66064d00-3a18-49f6-9778-184783f4887f button');\n",
              "      quickchartButtonEl.style.display =\n",
              "        google.colab.kernel.accessAllowed ? 'block' : 'none';\n",
              "    })();\n",
              "  </script>\n",
              "</div>\n",
              "    </div>\n",
              "  </div>\n"
            ],
            "application/vnd.google.colaboratory.intrinsic+json": {
              "type": "dataframe",
              "variable_name": "data",
              "summary": "{\n  \"name\": \"data\",\n  \"rows\": 506,\n  \"fields\": [\n    {\n      \"column\": \"CRIM\",\n      \"properties\": {\n        \"dtype\": \"number\",\n        \"std\": 8.596782593323319,\n        \"min\": 0.00632,\n        \"max\": 88.9762,\n        \"samples\": [\n          0.09178,\n          0.05644,\n          0.10574\n        ],\n        \"num_unique_values\": 504,\n        \"semantic_type\": \"\",\n        \"description\": \"\"\n      }\n    },\n    {\n      \"column\": \"ZN\",\n      \"properties\": {\n        \"dtype\": \"number\",\n        \"std\": 23.32245299451514,\n        \"min\": 0.0,\n        \"max\": 100.0,\n        \"samples\": [\n          25.0,\n          30.0,\n          18.0\n        ],\n        \"num_unique_values\": 26,\n        \"semantic_type\": \"\",\n        \"description\": \"\"\n      }\n    },\n    {\n      \"column\": \"INDUS\",\n      \"properties\": {\n        \"dtype\": \"number\",\n        \"std\": 6.860352940897585,\n        \"min\": 0.46,\n        \"max\": 27.74,\n        \"samples\": [\n          8.14,\n          1.47,\n          1.22\n        ],\n        \"num_unique_values\": 76,\n        \"semantic_type\": \"\",\n        \"description\": \"\"\n      }\n    },\n    {\n      \"column\": \"CHAS\",\n      \"properties\": {\n        \"dtype\": \"number\",\n        \"std\": 0.25399404134041037,\n        \"min\": 0.0,\n        \"max\": 1.0,\n        \"samples\": [\n          1.0,\n          0.0\n        ],\n        \"num_unique_values\": 2,\n        \"semantic_type\": \"\",\n        \"description\": \"\"\n      }\n    },\n    {\n      \"column\": \"NOX\",\n      \"properties\": {\n        \"dtype\": \"number\",\n        \"std\": 0.11587767566755595,\n        \"min\": 0.385,\n        \"max\": 0.871,\n        \"samples\": [\n          0.401,\n          0.538\n        ],\n        \"num_unique_values\": 81,\n        \"semantic_type\": \"\",\n        \"description\": \"\"\n      }\n    },\n    {\n      \"column\": \"RM\",\n      \"properties\": {\n        \"dtype\": \"number\",\n        \"std\": 0.7026171434153233,\n        \"min\": 3.561,\n        \"max\": 8.78,\n        \"samples\": [\n          6.849,\n          4.88\n        ],\n        \"num_unique_values\": 446,\n        \"semantic_type\": \"\",\n        \"description\": \"\"\n      }\n    },\n    {\n      \"column\": \"AGE\",\n      \"properties\": {\n        \"dtype\": \"number\",\n        \"std\": 28.148861406903617,\n        \"min\": 2.9,\n        \"max\": 100.0,\n        \"samples\": [\n          51.8,\n          33.8\n        ],\n        \"num_unique_values\": 356,\n        \"semantic_type\": \"\",\n        \"description\": \"\"\n      }\n    },\n    {\n      \"column\": \"DIS\",\n      \"properties\": {\n        \"dtype\": \"number\",\n        \"std\": 2.105710126627611,\n        \"min\": 1.1296,\n        \"max\": 12.1265,\n        \"samples\": [\n          2.2955,\n          4.2515\n        ],\n        \"num_unique_values\": 412,\n        \"semantic_type\": \"\",\n        \"description\": \"\"\n      }\n    },\n    {\n      \"column\": \"RAD\",\n      \"properties\": {\n        \"dtype\": \"number\",\n        \"std\": 8.707259384239366,\n        \"min\": 1.0,\n        \"max\": 24.0,\n        \"samples\": [\n          7.0,\n          2.0\n        ],\n        \"num_unique_values\": 9,\n        \"semantic_type\": \"\",\n        \"description\": \"\"\n      }\n    },\n    {\n      \"column\": \"TAX\",\n      \"properties\": {\n        \"dtype\": \"number\",\n        \"std\": 168.53711605495903,\n        \"min\": 187.0,\n        \"max\": 711.0,\n        \"samples\": [\n          370.0,\n          666.0\n        ],\n        \"num_unique_values\": 66,\n        \"semantic_type\": \"\",\n        \"description\": \"\"\n      }\n    },\n    {\n      \"column\": \"PTRATIO\",\n      \"properties\": {\n        \"dtype\": \"number\",\n        \"std\": 2.1649455237144406,\n        \"min\": 12.6,\n        \"max\": 22.0,\n        \"samples\": [\n          19.6,\n          15.6\n        ],\n        \"num_unique_values\": 46,\n        \"semantic_type\": \"\",\n        \"description\": \"\"\n      }\n    },\n    {\n      \"column\": \"B\",\n      \"properties\": {\n        \"dtype\": \"number\",\n        \"std\": 91.29486438415783,\n        \"min\": 0.32,\n        \"max\": 396.9,\n        \"samples\": [\n          396.24,\n          395.11\n        ],\n        \"num_unique_values\": 357,\n        \"semantic_type\": \"\",\n        \"description\": \"\"\n      }\n    },\n    {\n      \"column\": \"LSTAT\",\n      \"properties\": {\n        \"dtype\": \"number\",\n        \"std\": 7.141061511348571,\n        \"min\": 1.73,\n        \"max\": 37.97,\n        \"samples\": [\n          6.15,\n          4.32\n        ],\n        \"num_unique_values\": 455,\n        \"semantic_type\": \"\",\n        \"description\": \"\"\n      }\n    },\n    {\n      \"column\": \"MEDV\",\n      \"properties\": {\n        \"dtype\": \"number\",\n        \"std\": 9.197104087379818,\n        \"min\": 5.0,\n        \"max\": 50.0,\n        \"samples\": [\n          14.1,\n          22.5\n        ],\n        \"num_unique_values\": 229,\n        \"semantic_type\": \"\",\n        \"description\": \"\"\n      }\n    }\n  ]\n}"
            }
          },
          "metadata": {},
          "execution_count": 17
        }
      ],
      "source": [
        "data = pd.read_csv('boston.csv')\n",
        "data.head()"
      ]
    },
    {
      "cell_type": "markdown",
      "metadata": {
        "id": "8RWFJ4YwTkhW"
      },
      "source": [
        "1. Разделите выборку на обучающую и тестовую в отношении 80%/20%, предварительно выделив целевую переменную (колонка 'MEDV')."
      ]
    },
    {
      "cell_type": "code",
      "execution_count": 20,
      "metadata": {
        "id": "x55laT9rTkhW"
      },
      "outputs": [],
      "source": [
        "### Ваш код ###\n",
        "from sklearn.model_selection import train_test_split\n",
        "y = data[\"MEDV\"]\n",
        "X = data.drop(columns=[\"MEDV\"])\n",
        "X_train, X_test, y_train, y_test = train_test_split(X, y, train_size = 0.8, random_state = 10, shuffle = True)\n",
        "#print(f\"Классы в y_train:\\n{y_train}\\n\")\n",
        "#print(f\"Классы в y_test:\\n{y_test}\")"
      ]
    },
    {
      "cell_type": "markdown",
      "metadata": {
        "id": "Z0e1QiYeTkhW"
      },
      "source": [
        "2. Обучите стандартную регрессию, а также Ridge и  Lasso с параметрами по умолчанию и выведите их R2 на тестовой выборке"
      ]
    },
    {
      "cell_type": "code",
      "execution_count": 21,
      "metadata": {
        "scrolled": true,
        "colab": {
          "base_uri": "https://localhost:8080/"
        },
        "id": "CITk_7UWTkhW",
        "outputId": "e5b917ba-0465-4df3-8f92-dc1bd968824c"
      },
      "outputs": [
        {
          "output_type": "stream",
          "name": "stdout",
          "text": [
            "   model   task        R2\n",
            "0     LR  task2  0.670642\n",
            "1  Ridge  task2  0.665291\n",
            "2  Lasso  task2  0.534676\n"
          ]
        }
      ],
      "source": [
        "\n",
        "from sklearn.linear_model import LinearRegression # Линейная регресси\n",
        "from sklearn.linear_model import Ridge\n",
        "from sklearn.linear_model import Lasso\n",
        "from sklearn.model_selection import cross_val_score\n",
        "from sklearn.model_selection import KFold\n",
        "\n",
        "from sklearn.metrics import mean_squared_error\n",
        "\n",
        "### Ваш код ###\n",
        "lr_model = LinearRegression()\n",
        "lr_model.fit(X_train, y_train)\n",
        "# lr_y_pred = lr_model.predict(X_test)\n",
        "\n",
        "ridge_model = Ridge()\n",
        "ridge_model.fit(X_train, y_train)\n",
        "# ridge_y_pred = ridge_model.predict(X_test)\n",
        "\n",
        "lasso_model = Lasso()\n",
        "lasso_model.fit(X_train, y_train)\n",
        "# lasso_y_pred = lasso_model.predict(X_test)\n",
        "\n",
        "# https://scikit-learn.ru/3-1-cross-validation-evaluating-estimator-performance/\n",
        "# https://datafinder.ru/products/ocenka-r2-v-mashinnom-obuchenii#:~:text=%D0%9E%D1%86%D0%B5%D0%BD%D0%BA%D0%B0%20R2%20%E2%80%93%20%D0%BE%D1%87%D0%B5%D0%BD%D1%8C%20%D0%B2%D0%B0%D0%B6%D0%BD%D1%8B%D0%B9%20%D0%BF%D0%BE%D0%BA%D0%B0%D0%B7%D0%B0%D1%82%D0%B5%D0%BB%D1%8C,%D0%B2%20%D0%BF%D1%80%D0%BE%D0%B3%D0%BD%D0%BE%D0%B7%D0%B0%D1%85%2C%20%D0%BE%D0%B1%D1%8A%D1%8F%D1%81%D0%BD%D0%B5%D0%BD%D0%BD%D1%8B%D1%85%20%D0%BD%D0%B0%D0%B1%D0%BE%D1%80%D0%BE%D0%BC%20%D0%B4%D0%B0%D0%BD%D0%BD%D1%8B%D1%85.\n",
        "# Calculation of R2 Score\n",
        "r2_lr = lr_model.score(X_test, y_test) #cross_val_score(lr_model, X_test, y_test, cv=KFold(n_splits=3), scoring=\"r2\").mean()\n",
        "r2_ridge = ridge_model.score(X_test, y_test) #cross_val_score(ridge_model, X_test, y_test, cv=KFold(n_splits=3), scoring=\"r2\").mean()\n",
        "r2_lasso = lasso_model.score(X_test, y_test) #cross_val_score(lasso_model, X_test, y_test, cv=KFold(n_splits=3), scoring=\"r2\").mean()\n",
        "\n",
        "results_regression.loc[0] = ['LR', 'task2', r2_lr]\n",
        "results_regression.loc[1] = ['Ridge', 'task2', r2_ridge]\n",
        "results_regression.loc[2] = ['Lasso', 'task2', r2_lasso]\n",
        "print(results_regression)"
      ]
    },
    {
      "cell_type": "markdown",
      "metadata": {
        "id": "_QOXSzOdTkhW"
      },
      "source": [
        "3. Для Ridge и Lasso подберите коэффициент регуляризации двумя способами 1) GridSearchCV, 2) RidgeCV и LassoCV, в пределах от $10^{-5}$ до $10^5$ (по степеням 10). Посчитайте R2 на тестовой выборке по всем моделям и сравните с предыдущими результатами."
      ]
    },
    {
      "cell_type": "code",
      "execution_count": 23,
      "metadata": {
        "colab": {
          "base_uri": "https://localhost:8080/"
        },
        "id": "Bu1NhjmjTkhW",
        "outputId": "461f1bda-2673-4680-b117-2052ab3951cf"
      },
      "outputs": [
        {
          "output_type": "stream",
          "name": "stdout",
          "text": [
            "dict_keys(['alpha', 'copy_X', 'fit_intercept', 'max_iter', 'positive', 'random_state', 'solver', 'tol'])\n",
            "                model   task        R2\n",
            "0                  LR  task2  0.670642\n",
            "1               Ridge  task2  0.665291\n",
            "2               Lasso  task2  0.534676\n",
            "3  Ridge_GridSearchCV  task3  0.670002\n",
            "4             RidgeCV  task3  0.670002\n",
            "5  Lasso_GridSearchCV  task3  0.670360\n",
            "6             LassoCV  task3  0.670360\n"
          ]
        }
      ],
      "source": [
        "\n",
        "# https://medium.com/nuances-of-programming/%D0%BB%D0%B0%D1%81%D1%81%D0%BE-%D0%B8-%D1%80%D0%B8%D0%B4%D0%B6-%D1%80%D0%B5%D0%B3%D1%80%D0%B5%D1%81%D1%81%D0%B8%D0%B8-%D0%B8%D0%BD%D1%82%D1%83%D0%B8%D1%82%D0%B8%D0%B2%D0%BD%D0%BE%D0%B5-%D1%81%D1%80%D0%B0%D0%B2%D0%BD%D0%B5%D0%BD%D0%B8%D0%B5-a542dd761f62\n",
        "### Ваш код ###\n",
        "from sklearn.model_selection import GridSearchCV\n",
        "from sklearn.linear_model import RidgeCV\n",
        "from sklearn.linear_model import LassoCV\n",
        "\n",
        "# Defining grid of candidate alpha values (powers of 10, from 0.00001 to 1000000)\n",
        "param_grid = {\"alpha\": 10.0 ** np.arange(-5, 6)}\n",
        "\n",
        "# Initializing Ridge and GridSearchCV estimators\n",
        "ridge = Ridge()\n",
        "print(ridge.get_params().keys())\n",
        "grid_search = GridSearchCV(estimator=ridge, param_grid=param_grid)\n",
        "# Fitting grid search object\n",
        "grid_search.fit(X_train, y_train)\n",
        "r2_ridge_grid_search = grid_search.score(X_test, y_test)\n",
        "\n",
        "ridge_reg_cv = RidgeCV(alphas=param_grid['alpha'], cv=5)\n",
        "ridge_reg_cv.fit(X_train, y_train)\n",
        "r2_ridge_cv = ridge_reg_cv.score(X_test, y_test)\n",
        "\n",
        "# Initializing Lasso and GridSearchCV estimators\n",
        "lasso = Lasso()\n",
        "grid_search_lasso = GridSearchCV(estimator=lasso, param_grid=param_grid)\n",
        "# Fitting grid search object\n",
        "grid_search_lasso.fit(X_train, y_train)\n",
        "r2_lasso_grid_search = grid_search_lasso.score(X_test, y_test)\n",
        "\n",
        "lasso_reg_cv = LassoCV(alphas=param_grid['alpha'], cv=5)\n",
        "lasso_reg_cv.fit(X_train, y_train)\n",
        "\n",
        "r2_lasso_cv = lasso_reg_cv.score(X_test, y_test)\n",
        "\n",
        "results_regression.loc[3] = ['Ridge_GridSearchCV', 'task3', r2_ridge_grid_search]\n",
        "results_regression.loc[4] = ['RidgeCV', 'task3', r2_ridge_cv]\n",
        "results_regression.loc[5] = ['Lasso_GridSearchCV', 'task3', r2_lasso_grid_search]\n",
        "results_regression.loc[6] = ['LassoCV', 'task3', r2_lasso_cv]\n",
        "print(results_regression)"
      ]
    },
    {
      "cell_type": "markdown",
      "metadata": {
        "id": "JX1fykfnTkhX"
      },
      "source": [
        "4. Проведите масштабирование выборки (используйте Pipeline, StandardScaler, MinMaxScaler), посчитайте R2 для Ridge и Lasso с параметрами по умолчанию и сравните с предыдущими результатами."
      ]
    },
    {
      "cell_type": "code",
      "execution_count": 24,
      "metadata": {
        "colab": {
          "base_uri": "https://localhost:8080/"
        },
        "id": "M5YvUdBkTkhX",
        "outputId": "742aead7-8282-4acf-f5f5-e2058be41c55"
      },
      "outputs": [
        {
          "output_type": "stream",
          "name": "stdout",
          "text": [
            "                   model   task        R2\n",
            "0                     LR  task2  0.670642\n",
            "1                  Ridge  task2  0.665291\n",
            "2                  Lasso  task2  0.534676\n",
            "3     Ridge_GridSearchCV  task3  0.670002\n",
            "4                RidgeCV  task3  0.670002\n",
            "5     Lasso_GridSearchCV  task3  0.670360\n",
            "6                LassoCV  task3  0.670360\n",
            "7   Ridge_StandardScaler  task4  0.670844\n",
            "8     Ridge_MinMaxScaler  task4  0.666259\n",
            "9   Lasso_StandardScaler  task4  0.608150\n",
            "10    Lasso_MinMaxScaler  task4  0.094319\n"
          ]
        }
      ],
      "source": [
        "### Ваш код ###\n",
        "from sklearn.preprocessing import StandardScaler, MinMaxScaler\n",
        "from sklearn.pipeline import Pipeline\n",
        "\n",
        "estimators = [('scaler', StandardScaler()), ('model', Ridge())]\n",
        "pipe = Pipeline(estimators)\n",
        "r2_ridge_standart_scaler = pipe.fit(X_train, y_train).score(X_test, y_test)\n",
        "\n",
        "estimators = [('scaler', MinMaxScaler()), ('model', Ridge())]\n",
        "pipe = Pipeline(estimators)\n",
        "r2_ridge_min_max_scaler = pipe.fit(X_train, y_train).score(X_test, y_test)\n",
        "\n",
        "estimators = [('scaler', StandardScaler()), ('model', Lasso())]\n",
        "pipe = Pipeline(estimators)\n",
        "r2_lasso_standart_scaler = pipe.fit(X_train, y_train).score(X_test, y_test)\n",
        "\n",
        "estimators = [('scaler', MinMaxScaler()), ('model', Lasso())]\n",
        "pipe = Pipeline(estimators)\n",
        "r2_lasso_min_max_scaler = pipe.fit(X_train, y_train).score(X_test, y_test)\n",
        "results_regression.loc[7] = ['Ridge_StandardScaler', 'task4', r2_ridge_standart_scaler]\n",
        "results_regression.loc[8] = ['Ridge_MinMaxScaler', 'task4', r2_ridge_min_max_scaler]\n",
        "results_regression.loc[9] = ['Lasso_StandardScaler', 'task4', r2_lasso_standart_scaler]\n",
        "results_regression.loc[10] = ['Lasso_MinMaxScaler', 'task4', r2_lasso_min_max_scaler]\n",
        "print(results_regression)"
      ]
    },
    {
      "cell_type": "markdown",
      "metadata": {
        "id": "-iqNt2MdTkhX"
      },
      "source": [
        "5. Подберите коэффициент регуляризации для Ridge и Lasso на масштабированных данных, посчитайте R2 и сравните с предыдущими результатами."
      ]
    },
    {
      "cell_type": "code",
      "execution_count": 25,
      "metadata": {
        "colab": {
          "base_uri": "https://localhost:8080/"
        },
        "id": "vjbPtJrzTkhX",
        "outputId": "8bee2865-854e-4756-c39a-4eff3d23c6e5"
      },
      "outputs": [
        {
          "output_type": "stream",
          "name": "stdout",
          "text": [
            "                      model   task        R2\n",
            "0                        LR  task2  0.670642\n",
            "1                     Ridge  task2  0.665291\n",
            "2                     Lasso  task2  0.534676\n",
            "3        Ridge_GridSearchCV  task3  0.670002\n",
            "4                   RidgeCV  task3  0.670002\n",
            "5        Lasso_GridSearchCV  task3  0.670360\n",
            "6                   LassoCV  task3  0.670360\n",
            "7      Ridge_StandardScaler  task4  0.670844\n",
            "8        Ridge_MinMaxScaler  task4  0.666259\n",
            "9      Lasso_StandardScaler  task4  0.608150\n",
            "10       Lasso_MinMaxScaler  task4  0.094319\n",
            "11  Ridge_StandardScaler_CV  task5  0.671640\n",
            "12    Ridge_MinMaxScaler_CV  task5  0.670629\n",
            "13  Lasso_StandardScaler_CV  task5  0.671214\n",
            "14    Lasso_MinMaxScaler_CV  task5  0.671900\n"
          ]
        }
      ],
      "source": [
        "### Ваш код ###\n",
        "\n",
        "pipe = Pipeline([('scaler', StandardScaler()), ('model', Ridge())])\n",
        "params = { 'model__alpha': 10.0 ** np.arange(-5, 6) }\n",
        "grid_pipeline = GridSearchCV(pipe, params)\n",
        "r2_ridge_standart_scaler_cv = grid_pipeline.fit(X_train, y_train).score(X_test, y_test)\n",
        "\n",
        "pipe = Pipeline([('scaler', MinMaxScaler()), ('model', Ridge())])\n",
        "params = { 'model__alpha': 10.0 ** np.arange(-5, 6) }\n",
        "grid_pipeline = GridSearchCV(pipe, params)\n",
        "r2_ridge_min_max_scaler_cv = grid_pipeline.fit(X_train, y_train).score(X_test, y_test)\n",
        "\n",
        "pipe = Pipeline([('scaler', StandardScaler()), ('model', Lasso())])\n",
        "params = { 'model__alpha': 10.0 ** np.arange(-5, 6) }\n",
        "grid_pipeline = GridSearchCV(pipe, params)\n",
        "r2_lasso_standart_scaler_cv = grid_pipeline.fit(X_train, y_train).score(X_test, y_test)\n",
        "\n",
        "pipe = Pipeline([('scaler', MinMaxScaler()), ('model', Lasso())])\n",
        "params = { 'model__alpha': 10.0 ** np.arange(-5, 6) }\n",
        "grid_pipeline = GridSearchCV(pipe, params)\n",
        "r2_lasso_min_max_scaler_cv = grid_pipeline.fit(X_train, y_train).score(X_test, y_test)\n",
        "\n",
        "results_regression.loc[11] = ['Ridge_StandardScaler_CV', 'task5', r2_ridge_standart_scaler_cv]\n",
        "results_regression.loc[12] = ['Ridge_MinMaxScaler_CV', 'task5', r2_ridge_min_max_scaler_cv]\n",
        "results_regression.loc[13] = ['Lasso_StandardScaler_CV', 'task5', r2_lasso_standart_scaler_cv]\n",
        "results_regression.loc[14] = ['Lasso_MinMaxScaler_CV', 'task5', r2_lasso_min_max_scaler_cv]\n",
        "print(results_regression)"
      ]
    },
    {
      "cell_type": "markdown",
      "metadata": {
        "id": "CXo4pRZ9TkhX"
      },
      "source": [
        "6. Добавьте попарные произведения признаков и их квадраты (используйте PolynomialFeatures) на масштабированных признаках, посчитайте R2 для Ridge и Lasso с параметрами по умолчанию и сравните с предыдущими результатами."
      ]
    },
    {
      "cell_type": "code",
      "execution_count": 26,
      "metadata": {
        "colab": {
          "base_uri": "https://localhost:8080/"
        },
        "id": "BOl7wSk-TkhX",
        "outputId": "dfa080b8-63c3-4f7a-eeec-f4c1a0c1ba52"
      },
      "outputs": [
        {
          "output_type": "stream",
          "name": "stdout",
          "text": [
            "                        model   task        R2\n",
            "0                          LR  task2  0.670642\n",
            "1                       Ridge  task2  0.665291\n",
            "2                       Lasso  task2  0.534676\n",
            "3          Ridge_GridSearchCV  task3  0.670002\n",
            "4                     RidgeCV  task3  0.670002\n",
            "5          Lasso_GridSearchCV  task3  0.670360\n",
            "6                     LassoCV  task3  0.670360\n",
            "7        Ridge_StandardScaler  task4  0.670844\n",
            "8          Ridge_MinMaxScaler  task4  0.666259\n",
            "9        Lasso_StandardScaler  task4  0.608150\n",
            "10         Lasso_MinMaxScaler  task4  0.094319\n",
            "11    Ridge_StandardScaler_CV  task5  0.671640\n",
            "12      Ridge_MinMaxScaler_CV  task5  0.670629\n",
            "13    Lasso_StandardScaler_CV  task5  0.671214\n",
            "14      Lasso_MinMaxScaler_CV  task5  0.671900\n",
            "15  Ridge_StandardScaler_Poly  task6  0.877763\n",
            "16    Ridge_MinMaxScaler_Poly  task6  0.825928\n",
            "17  Lasso_StandardScaler_Poly  task6  0.748369\n",
            "18    Lasso_MinMaxScaler_Poly  task6  0.089644\n"
          ]
        }
      ],
      "source": [
        "### Ваш код ###\n",
        "from sklearn.preprocessing import PolynomialFeatures\n",
        "\n",
        "pipe = Pipeline([('scaler', StandardScaler()), ('poly', PolynomialFeatures()), ('model', Ridge())])\n",
        "r2_ridge_standart_scaler_poly = pipe.fit(X_train, y_train).score(X_test, y_test)\n",
        "\n",
        "pipe = Pipeline([('scaler', MinMaxScaler()), ('poly', PolynomialFeatures()), ('model', Ridge())])\n",
        "r2_ridge_min_max_scaler_poly = pipe.fit(X_train, y_train).score(X_test, y_test)\n",
        "\n",
        "pipe = Pipeline([('scaler', StandardScaler()), ('poly', PolynomialFeatures()), ('model', Lasso())])\n",
        "r2_lasso_standart_scaler_poly = pipe.fit(X_train, y_train).score(X_test, y_test)\n",
        "\n",
        "pipe = Pipeline([('scaler', MinMaxScaler()), ('poly', PolynomialFeatures()), ('model', Lasso())])\n",
        "r2_lasso_min_max_scaler_poly = pipe.fit(X_train, y_train).score(X_test, y_test)\n",
        "\n",
        "\n",
        "results_regression.loc[15] = ['Ridge_StandardScaler_Poly', 'task6', r2_ridge_standart_scaler_poly]\n",
        "results_regression.loc[16] = ['Ridge_MinMaxScaler_Poly', 'task6', r2_ridge_min_max_scaler_poly]\n",
        "results_regression.loc[17] = ['Lasso_StandardScaler_Poly', 'task6', r2_lasso_standart_scaler_poly]\n",
        "results_regression.loc[18] = ['Lasso_MinMaxScaler_Poly', 'task6', r2_lasso_min_max_scaler_poly]\n",
        "print(results_regression)"
      ]
    },
    {
      "cell_type": "markdown",
      "metadata": {
        "id": "UCOOmCwlTkhY"
      },
      "source": [
        "7. Подберите коэффициент регуляризации для Ridge и Lasso на масштабированных данных, добавив PolynomialFeatures, посчитайте R2 и сравните с предыдущими результатами."
      ]
    },
    {
      "cell_type": "code",
      "execution_count": 27,
      "metadata": {
        "scrolled": false,
        "colab": {
          "base_uri": "https://localhost:8080/"
        },
        "id": "LN2w9_y_TkhY",
        "outputId": "459434c5-00cf-49e6-81d4-6f83ae797fb2"
      },
      "outputs": [
        {
          "output_type": "stream",
          "name": "stderr",
          "text": [
            "/usr/local/lib/python3.10/dist-packages/sklearn/linear_model/_coordinate_descent.py:631: ConvergenceWarning: Objective did not converge. You might want to increase the number of iterations, check the scale of the features or consider increasing regularisation. Duality gap: 8.495e+02, tolerance: 2.514e+00\n",
            "  model = cd_fast.enet_coordinate_descent(\n",
            "/usr/local/lib/python3.10/dist-packages/sklearn/linear_model/_coordinate_descent.py:631: ConvergenceWarning: Objective did not converge. You might want to increase the number of iterations, check the scale of the features or consider increasing regularisation. Duality gap: 8.146e+02, tolerance: 2.574e+00\n",
            "  model = cd_fast.enet_coordinate_descent(\n",
            "/usr/local/lib/python3.10/dist-packages/sklearn/linear_model/_coordinate_descent.py:631: ConvergenceWarning: Objective did not converge. You might want to increase the number of iterations, check the scale of the features or consider increasing regularisation. Duality gap: 8.237e+02, tolerance: 2.353e+00\n",
            "  model = cd_fast.enet_coordinate_descent(\n",
            "/usr/local/lib/python3.10/dist-packages/sklearn/linear_model/_coordinate_descent.py:631: ConvergenceWarning: Objective did not converge. You might want to increase the number of iterations, check the scale of the features or consider increasing regularisation. Duality gap: 7.350e+02, tolerance: 2.483e+00\n",
            "  model = cd_fast.enet_coordinate_descent(\n",
            "/usr/local/lib/python3.10/dist-packages/sklearn/linear_model/_coordinate_descent.py:631: ConvergenceWarning: Objective did not converge. You might want to increase the number of iterations, check the scale of the features or consider increasing regularisation. Duality gap: 6.224e+02, tolerance: 2.507e+00\n",
            "  model = cd_fast.enet_coordinate_descent(\n",
            "/usr/local/lib/python3.10/dist-packages/sklearn/linear_model/_coordinate_descent.py:631: ConvergenceWarning: Objective did not converge. You might want to increase the number of iterations, check the scale of the features or consider increasing regularisation. Duality gap: 8.176e+02, tolerance: 2.514e+00\n",
            "  model = cd_fast.enet_coordinate_descent(\n",
            "/usr/local/lib/python3.10/dist-packages/sklearn/linear_model/_coordinate_descent.py:631: ConvergenceWarning: Objective did not converge. You might want to increase the number of iterations, check the scale of the features or consider increasing regularisation. Duality gap: 8.085e+02, tolerance: 2.574e+00\n",
            "  model = cd_fast.enet_coordinate_descent(\n",
            "/usr/local/lib/python3.10/dist-packages/sklearn/linear_model/_coordinate_descent.py:631: ConvergenceWarning: Objective did not converge. You might want to increase the number of iterations, check the scale of the features or consider increasing regularisation. Duality gap: 7.963e+02, tolerance: 2.353e+00\n",
            "  model = cd_fast.enet_coordinate_descent(\n",
            "/usr/local/lib/python3.10/dist-packages/sklearn/linear_model/_coordinate_descent.py:631: ConvergenceWarning: Objective did not converge. You might want to increase the number of iterations, check the scale of the features or consider increasing regularisation. Duality gap: 7.174e+02, tolerance: 2.483e+00\n",
            "  model = cd_fast.enet_coordinate_descent(\n",
            "/usr/local/lib/python3.10/dist-packages/sklearn/linear_model/_coordinate_descent.py:631: ConvergenceWarning: Objective did not converge. You might want to increase the number of iterations, check the scale of the features or consider increasing regularisation. Duality gap: 6.036e+02, tolerance: 2.507e+00\n",
            "  model = cd_fast.enet_coordinate_descent(\n",
            "/usr/local/lib/python3.10/dist-packages/sklearn/linear_model/_coordinate_descent.py:631: ConvergenceWarning: Objective did not converge. You might want to increase the number of iterations, check the scale of the features or consider increasing regularisation. Duality gap: 6.540e+02, tolerance: 2.514e+00\n",
            "  model = cd_fast.enet_coordinate_descent(\n",
            "/usr/local/lib/python3.10/dist-packages/sklearn/linear_model/_coordinate_descent.py:631: ConvergenceWarning: Objective did not converge. You might want to increase the number of iterations, check the scale of the features or consider increasing regularisation. Duality gap: 6.809e+02, tolerance: 2.574e+00\n",
            "  model = cd_fast.enet_coordinate_descent(\n",
            "/usr/local/lib/python3.10/dist-packages/sklearn/linear_model/_coordinate_descent.py:631: ConvergenceWarning: Objective did not converge. You might want to increase the number of iterations, check the scale of the features or consider increasing regularisation. Duality gap: 5.445e+02, tolerance: 2.353e+00\n",
            "  model = cd_fast.enet_coordinate_descent(\n",
            "/usr/local/lib/python3.10/dist-packages/sklearn/linear_model/_coordinate_descent.py:631: ConvergenceWarning: Objective did not converge. You might want to increase the number of iterations, check the scale of the features or consider increasing regularisation. Duality gap: 6.491e+02, tolerance: 2.483e+00\n",
            "  model = cd_fast.enet_coordinate_descent(\n",
            "/usr/local/lib/python3.10/dist-packages/sklearn/linear_model/_coordinate_descent.py:631: ConvergenceWarning: Objective did not converge. You might want to increase the number of iterations, check the scale of the features or consider increasing regularisation. Duality gap: 5.699e+02, tolerance: 2.507e+00\n",
            "  model = cd_fast.enet_coordinate_descent(\n",
            "/usr/local/lib/python3.10/dist-packages/sklearn/linear_model/_coordinate_descent.py:631: ConvergenceWarning: Objective did not converge. You might want to increase the number of iterations, check the scale of the features or consider increasing regularisation. Duality gap: 1.440e+01, tolerance: 2.483e+00\n",
            "  model = cd_fast.enet_coordinate_descent(\n",
            "/usr/local/lib/python3.10/dist-packages/sklearn/linear_model/_coordinate_descent.py:631: ConvergenceWarning: Objective did not converge. You might want to increase the number of iterations, check the scale of the features or consider increasing regularisation. Duality gap: 9.566e+02, tolerance: 2.514e+00\n",
            "  model = cd_fast.enet_coordinate_descent(\n",
            "/usr/local/lib/python3.10/dist-packages/sklearn/linear_model/_coordinate_descent.py:631: ConvergenceWarning: Objective did not converge. You might want to increase the number of iterations, check the scale of the features or consider increasing regularisation. Duality gap: 9.174e+02, tolerance: 2.574e+00\n",
            "  model = cd_fast.enet_coordinate_descent(\n",
            "/usr/local/lib/python3.10/dist-packages/sklearn/linear_model/_coordinate_descent.py:631: ConvergenceWarning: Objective did not converge. You might want to increase the number of iterations, check the scale of the features or consider increasing regularisation. Duality gap: 8.928e+02, tolerance: 2.353e+00\n",
            "  model = cd_fast.enet_coordinate_descent(\n",
            "/usr/local/lib/python3.10/dist-packages/sklearn/linear_model/_coordinate_descent.py:631: ConvergenceWarning: Objective did not converge. You might want to increase the number of iterations, check the scale of the features or consider increasing regularisation. Duality gap: 8.322e+02, tolerance: 2.483e+00\n",
            "  model = cd_fast.enet_coordinate_descent(\n",
            "/usr/local/lib/python3.10/dist-packages/sklearn/linear_model/_coordinate_descent.py:631: ConvergenceWarning: Objective did not converge. You might want to increase the number of iterations, check the scale of the features or consider increasing regularisation. Duality gap: 7.071e+02, tolerance: 2.507e+00\n",
            "  model = cd_fast.enet_coordinate_descent(\n",
            "/usr/local/lib/python3.10/dist-packages/sklearn/linear_model/_coordinate_descent.py:631: ConvergenceWarning: Objective did not converge. You might want to increase the number of iterations, check the scale of the features or consider increasing regularisation. Duality gap: 9.728e+02, tolerance: 2.514e+00\n",
            "  model = cd_fast.enet_coordinate_descent(\n",
            "/usr/local/lib/python3.10/dist-packages/sklearn/linear_model/_coordinate_descent.py:631: ConvergenceWarning: Objective did not converge. You might want to increase the number of iterations, check the scale of the features or consider increasing regularisation. Duality gap: 9.271e+02, tolerance: 2.574e+00\n",
            "  model = cd_fast.enet_coordinate_descent(\n",
            "/usr/local/lib/python3.10/dist-packages/sklearn/linear_model/_coordinate_descent.py:631: ConvergenceWarning: Objective did not converge. You might want to increase the number of iterations, check the scale of the features or consider increasing regularisation. Duality gap: 8.819e+02, tolerance: 2.353e+00\n",
            "  model = cd_fast.enet_coordinate_descent(\n",
            "/usr/local/lib/python3.10/dist-packages/sklearn/linear_model/_coordinate_descent.py:631: ConvergenceWarning: Objective did not converge. You might want to increase the number of iterations, check the scale of the features or consider increasing regularisation. Duality gap: 8.307e+02, tolerance: 2.483e+00\n",
            "  model = cd_fast.enet_coordinate_descent(\n",
            "/usr/local/lib/python3.10/dist-packages/sklearn/linear_model/_coordinate_descent.py:631: ConvergenceWarning: Objective did not converge. You might want to increase the number of iterations, check the scale of the features or consider increasing regularisation. Duality gap: 7.133e+02, tolerance: 2.507e+00\n",
            "  model = cd_fast.enet_coordinate_descent(\n",
            "/usr/local/lib/python3.10/dist-packages/sklearn/linear_model/_coordinate_descent.py:631: ConvergenceWarning: Objective did not converge. You might want to increase the number of iterations, check the scale of the features or consider increasing regularisation. Duality gap: 8.942e+02, tolerance: 2.514e+00\n",
            "  model = cd_fast.enet_coordinate_descent(\n",
            "/usr/local/lib/python3.10/dist-packages/sklearn/linear_model/_coordinate_descent.py:631: ConvergenceWarning: Objective did not converge. You might want to increase the number of iterations, check the scale of the features or consider increasing regularisation. Duality gap: 7.024e+02, tolerance: 2.574e+00\n",
            "  model = cd_fast.enet_coordinate_descent(\n",
            "/usr/local/lib/python3.10/dist-packages/sklearn/linear_model/_coordinate_descent.py:631: ConvergenceWarning: Objective did not converge. You might want to increase the number of iterations, check the scale of the features or consider increasing regularisation. Duality gap: 5.604e+02, tolerance: 2.353e+00\n",
            "  model = cd_fast.enet_coordinate_descent(\n",
            "/usr/local/lib/python3.10/dist-packages/sklearn/linear_model/_coordinate_descent.py:631: ConvergenceWarning: Objective did not converge. You might want to increase the number of iterations, check the scale of the features or consider increasing regularisation. Duality gap: 5.892e+02, tolerance: 2.483e+00\n",
            "  model = cd_fast.enet_coordinate_descent(\n",
            "/usr/local/lib/python3.10/dist-packages/sklearn/linear_model/_coordinate_descent.py:631: ConvergenceWarning: Objective did not converge. You might want to increase the number of iterations, check the scale of the features or consider increasing regularisation. Duality gap: 5.958e+02, tolerance: 2.507e+00\n",
            "  model = cd_fast.enet_coordinate_descent(\n",
            "/usr/local/lib/python3.10/dist-packages/sklearn/linear_model/_coordinate_descent.py:631: ConvergenceWarning: Objective did not converge. You might want to increase the number of iterations, check the scale of the features or consider increasing regularisation. Duality gap: 6.675e+00, tolerance: 2.514e+00\n",
            "  model = cd_fast.enet_coordinate_descent(\n",
            "/usr/local/lib/python3.10/dist-packages/sklearn/linear_model/_coordinate_descent.py:631: ConvergenceWarning: Objective did not converge. You might want to increase the number of iterations, check the scale of the features or consider increasing regularisation. Duality gap: 2.817e+01, tolerance: 2.574e+00\n",
            "  model = cd_fast.enet_coordinate_descent(\n",
            "/usr/local/lib/python3.10/dist-packages/sklearn/linear_model/_coordinate_descent.py:631: ConvergenceWarning: Objective did not converge. You might want to increase the number of iterations, check the scale of the features or consider increasing regularisation. Duality gap: 4.101e+00, tolerance: 2.483e+00\n",
            "  model = cd_fast.enet_coordinate_descent(\n"
          ]
        },
        {
          "output_type": "stream",
          "name": "stdout",
          "text": [
            "                           model   task        R2\n",
            "0                             LR  task2  0.670642\n",
            "1                          Ridge  task2  0.665291\n",
            "2                          Lasso  task2  0.534676\n",
            "3             Ridge_GridSearchCV  task3  0.670002\n",
            "4                        RidgeCV  task3  0.670002\n",
            "5             Lasso_GridSearchCV  task3  0.670360\n",
            "6                        LassoCV  task3  0.670360\n",
            "7           Ridge_StandardScaler  task4  0.670844\n",
            "8             Ridge_MinMaxScaler  task4  0.666259\n",
            "9           Lasso_StandardScaler  task4  0.608150\n",
            "10            Lasso_MinMaxScaler  task4  0.094319\n",
            "11       Ridge_StandardScaler_CV  task5  0.671640\n",
            "12         Ridge_MinMaxScaler_CV  task5  0.670629\n",
            "13       Lasso_StandardScaler_CV  task5  0.671214\n",
            "14         Lasso_MinMaxScaler_CV  task5  0.671900\n",
            "15     Ridge_StandardScaler_Poly  task6  0.877763\n",
            "16       Ridge_MinMaxScaler_Poly  task6  0.825928\n",
            "17     Lasso_StandardScaler_Poly  task6  0.748369\n",
            "18       Lasso_MinMaxScaler_Poly  task6  0.089644\n",
            "19  Ridge_StandardScaler_Poly_CV  task7  0.866597\n",
            "20    Ridge_MinMaxScaler_Poly_CV  task7  0.868587\n",
            "21  Lasso_StandardScaler_Poly_CV  task7  0.852894\n",
            "22    Lasso_MinMaxScaler_Poly_CV  task7  0.840998\n"
          ]
        },
        {
          "output_type": "stream",
          "name": "stderr",
          "text": [
            "/usr/local/lib/python3.10/dist-packages/sklearn/linear_model/_coordinate_descent.py:631: ConvergenceWarning: Objective did not converge. You might want to increase the number of iterations, check the scale of the features or consider increasing regularisation. Duality gap: 1.853e+01, tolerance: 3.109e+00\n",
            "  model = cd_fast.enet_coordinate_descent(\n"
          ]
        }
      ],
      "source": [
        "### Ваш код ###\n",
        "\n",
        "params = { 'model__alpha': 10.0 ** np.arange(-5, 6) }\n",
        "\n",
        "pipe = Pipeline([('scaler', StandardScaler()), ('poly', PolynomialFeatures()), ('model', Ridge())])\n",
        "grid_pipeline = GridSearchCV(pipe, params)\n",
        "r2_ridge_standart_scaler_poly_cv = grid_pipeline.fit(X_train, y_train).score(X_test, y_test)\n",
        "\n",
        "pipe = Pipeline([('scaler', MinMaxScaler()), ('poly', PolynomialFeatures()), ('model', Ridge())])\n",
        "grid_pipeline = GridSearchCV(pipe, params)\n",
        "r2_ridge_min_max_scaler_poly_cv = grid_pipeline.fit(X_train, y_train).score(X_test, y_test)\n",
        "\n",
        "pipe = Pipeline([('scaler', StandardScaler()), ('poly', PolynomialFeatures()), ('model', Lasso())])\n",
        "grid_pipeline = GridSearchCV(pipe, params)\n",
        "r2_lasso_standart_scaler_poly_cv = grid_pipeline.fit(X_train, y_train).score(X_test, y_test)\n",
        "\n",
        "pipe = Pipeline([('scaler', MinMaxScaler()), ('poly', PolynomialFeatures()), ('model', Lasso())])\n",
        "grid_pipeline = GridSearchCV(pipe, params)\n",
        "r2_lasso_min_max_scaler_poly_cv = grid_pipeline.fit(X_train, y_train).score(X_test, y_test)\n",
        "\n",
        "\n",
        "results_regression.loc[19] = ['Ridge_StandardScaler_Poly_CV', 'task7', r2_ridge_standart_scaler_poly_cv]\n",
        "results_regression.loc[20] = ['Ridge_MinMaxScaler_Poly_CV', 'task7', r2_ridge_min_max_scaler_poly_cv]\n",
        "results_regression.loc[21] = ['Lasso_StandardScaler_Poly_CV', 'task7', r2_lasso_standart_scaler_poly_cv]\n",
        "results_regression.loc[22] = ['Lasso_MinMaxScaler_Poly_CV', 'task7', r2_lasso_min_max_scaler_poly_cv]\n",
        "print(results_regression)"
      ]
    },
    {
      "cell_type": "markdown",
      "metadata": {
        "id": "l1-68_aaTkhY"
      },
      "source": [
        "8. Подберите наилучшую модель (используйте Pipeline, GridSearchCV) подбирая тип регуляризации (L1,L2), коэффициент регуляризации, метод масштабирования и степень полинома в PolynomialFeatures. Выведите итоговые параметры и результат R2."
      ]
    },
    {
      "cell_type": "code",
      "execution_count": null,
      "metadata": {
        "id": "9RlIsM39TkhY"
      },
      "outputs": [],
      "source": [
        "### Ваш код ###\n",
        "params = { 'model__alpha': 10.0 ** np.arange(-5, 6) }\n",
        "\n",
        "\n",
        "pipe = Pipeline([('scaler', StandardScaler()), ('poly', PolynomialFeatures()), ('model', Lasso())])\n",
        "grid_pipeline = GridSearchCV(pipe, params)\n",
        "r2_lasso_standart_scaler_poly_cv = grid_pipeline.fit(X_train, y_train).score(X_test, y_test)\n",
        "\n",
        "best_params = {cv: 'GridSearchCV', scaler: 'MinMaxScaler', model: 'Ridge(L2)', best_aplha: grid_pipeline.best_params_, }\n",
        "\n",
        "\n",
        "print('Параметры лучшей модели:\\n', best_params)\n",
        "r2_best_model = 0\n",
        "results_regression.loc[23] = ['Best_Model', 'task8', r2_best_model]"
      ]
    },
    {
      "cell_type": "code",
      "execution_count": null,
      "metadata": {
        "id": "1G4s5wD0TkhY"
      },
      "outputs": [],
      "source": []
    },
    {
      "cell_type": "code",
      "execution_count": 30,
      "metadata": {
        "colab": {
          "base_uri": "https://localhost:8080/",
          "height": 770
        },
        "id": "XCvFSyk_TkhY",
        "outputId": "b37d2cbb-8d20-4603-e824-aff7cedac5cf"
      },
      "outputs": [
        {
          "output_type": "execute_result",
          "data": {
            "text/plain": [
              "                           model   task        R2\n",
              "0                             LR  task2  0.670642\n",
              "1                          Ridge  task2  0.665291\n",
              "2                          Lasso  task2  0.534676\n",
              "3             Ridge_GridSearchCV  task3  0.670002\n",
              "4                        RidgeCV  task3  0.670002\n",
              "5             Lasso_GridSearchCV  task3  0.670360\n",
              "6                        LassoCV  task3  0.670360\n",
              "7           Ridge_StandardScaler  task4  0.670844\n",
              "8             Ridge_MinMaxScaler  task4  0.666259\n",
              "9           Lasso_StandardScaler  task4  0.608150\n",
              "10            Lasso_MinMaxScaler  task4  0.094319\n",
              "11       Ridge_StandardScaler_CV  task5  0.671640\n",
              "12         Ridge_MinMaxScaler_CV  task5  0.670629\n",
              "13       Lasso_StandardScaler_CV  task5  0.671214\n",
              "14         Lasso_MinMaxScaler_CV  task5  0.671900\n",
              "15     Ridge_StandardScaler_Poly  task6  0.877763\n",
              "16       Ridge_MinMaxScaler_Poly  task6  0.825928\n",
              "17     Lasso_StandardScaler_Poly  task6  0.748369\n",
              "18       Lasso_MinMaxScaler_Poly  task6  0.089644\n",
              "19  Ridge_StandardScaler_Poly_CV  task7  0.866597\n",
              "20    Ridge_MinMaxScaler_Poly_CV  task7  0.868587\n",
              "21  Lasso_StandardScaler_Poly_CV  task7  0.852894\n",
              "22    Lasso_MinMaxScaler_Poly_CV  task7  0.840998"
            ],
            "text/html": [
              "\n",
              "  <div id=\"df-0e69c8e3-7df2-46b7-904d-f7c7751400ef\" class=\"colab-df-container\">\n",
              "    <div>\n",
              "<style scoped>\n",
              "    .dataframe tbody tr th:only-of-type {\n",
              "        vertical-align: middle;\n",
              "    }\n",
              "\n",
              "    .dataframe tbody tr th {\n",
              "        vertical-align: top;\n",
              "    }\n",
              "\n",
              "    .dataframe thead th {\n",
              "        text-align: right;\n",
              "    }\n",
              "</style>\n",
              "<table border=\"1\" class=\"dataframe\">\n",
              "  <thead>\n",
              "    <tr style=\"text-align: right;\">\n",
              "      <th></th>\n",
              "      <th>model</th>\n",
              "      <th>task</th>\n",
              "      <th>R2</th>\n",
              "    </tr>\n",
              "  </thead>\n",
              "  <tbody>\n",
              "    <tr>\n",
              "      <th>0</th>\n",
              "      <td>LR</td>\n",
              "      <td>task2</td>\n",
              "      <td>0.670642</td>\n",
              "    </tr>\n",
              "    <tr>\n",
              "      <th>1</th>\n",
              "      <td>Ridge</td>\n",
              "      <td>task2</td>\n",
              "      <td>0.665291</td>\n",
              "    </tr>\n",
              "    <tr>\n",
              "      <th>2</th>\n",
              "      <td>Lasso</td>\n",
              "      <td>task2</td>\n",
              "      <td>0.534676</td>\n",
              "    </tr>\n",
              "    <tr>\n",
              "      <th>3</th>\n",
              "      <td>Ridge_GridSearchCV</td>\n",
              "      <td>task3</td>\n",
              "      <td>0.670002</td>\n",
              "    </tr>\n",
              "    <tr>\n",
              "      <th>4</th>\n",
              "      <td>RidgeCV</td>\n",
              "      <td>task3</td>\n",
              "      <td>0.670002</td>\n",
              "    </tr>\n",
              "    <tr>\n",
              "      <th>5</th>\n",
              "      <td>Lasso_GridSearchCV</td>\n",
              "      <td>task3</td>\n",
              "      <td>0.670360</td>\n",
              "    </tr>\n",
              "    <tr>\n",
              "      <th>6</th>\n",
              "      <td>LassoCV</td>\n",
              "      <td>task3</td>\n",
              "      <td>0.670360</td>\n",
              "    </tr>\n",
              "    <tr>\n",
              "      <th>7</th>\n",
              "      <td>Ridge_StandardScaler</td>\n",
              "      <td>task4</td>\n",
              "      <td>0.670844</td>\n",
              "    </tr>\n",
              "    <tr>\n",
              "      <th>8</th>\n",
              "      <td>Ridge_MinMaxScaler</td>\n",
              "      <td>task4</td>\n",
              "      <td>0.666259</td>\n",
              "    </tr>\n",
              "    <tr>\n",
              "      <th>9</th>\n",
              "      <td>Lasso_StandardScaler</td>\n",
              "      <td>task4</td>\n",
              "      <td>0.608150</td>\n",
              "    </tr>\n",
              "    <tr>\n",
              "      <th>10</th>\n",
              "      <td>Lasso_MinMaxScaler</td>\n",
              "      <td>task4</td>\n",
              "      <td>0.094319</td>\n",
              "    </tr>\n",
              "    <tr>\n",
              "      <th>11</th>\n",
              "      <td>Ridge_StandardScaler_CV</td>\n",
              "      <td>task5</td>\n",
              "      <td>0.671640</td>\n",
              "    </tr>\n",
              "    <tr>\n",
              "      <th>12</th>\n",
              "      <td>Ridge_MinMaxScaler_CV</td>\n",
              "      <td>task5</td>\n",
              "      <td>0.670629</td>\n",
              "    </tr>\n",
              "    <tr>\n",
              "      <th>13</th>\n",
              "      <td>Lasso_StandardScaler_CV</td>\n",
              "      <td>task5</td>\n",
              "      <td>0.671214</td>\n",
              "    </tr>\n",
              "    <tr>\n",
              "      <th>14</th>\n",
              "      <td>Lasso_MinMaxScaler_CV</td>\n",
              "      <td>task5</td>\n",
              "      <td>0.671900</td>\n",
              "    </tr>\n",
              "    <tr>\n",
              "      <th>15</th>\n",
              "      <td>Ridge_StandardScaler_Poly</td>\n",
              "      <td>task6</td>\n",
              "      <td>0.877763</td>\n",
              "    </tr>\n",
              "    <tr>\n",
              "      <th>16</th>\n",
              "      <td>Ridge_MinMaxScaler_Poly</td>\n",
              "      <td>task6</td>\n",
              "      <td>0.825928</td>\n",
              "    </tr>\n",
              "    <tr>\n",
              "      <th>17</th>\n",
              "      <td>Lasso_StandardScaler_Poly</td>\n",
              "      <td>task6</td>\n",
              "      <td>0.748369</td>\n",
              "    </tr>\n",
              "    <tr>\n",
              "      <th>18</th>\n",
              "      <td>Lasso_MinMaxScaler_Poly</td>\n",
              "      <td>task6</td>\n",
              "      <td>0.089644</td>\n",
              "    </tr>\n",
              "    <tr>\n",
              "      <th>19</th>\n",
              "      <td>Ridge_StandardScaler_Poly_CV</td>\n",
              "      <td>task7</td>\n",
              "      <td>0.866597</td>\n",
              "    </tr>\n",
              "    <tr>\n",
              "      <th>20</th>\n",
              "      <td>Ridge_MinMaxScaler_Poly_CV</td>\n",
              "      <td>task7</td>\n",
              "      <td>0.868587</td>\n",
              "    </tr>\n",
              "    <tr>\n",
              "      <th>21</th>\n",
              "      <td>Lasso_StandardScaler_Poly_CV</td>\n",
              "      <td>task7</td>\n",
              "      <td>0.852894</td>\n",
              "    </tr>\n",
              "    <tr>\n",
              "      <th>22</th>\n",
              "      <td>Lasso_MinMaxScaler_Poly_CV</td>\n",
              "      <td>task7</td>\n",
              "      <td>0.840998</td>\n",
              "    </tr>\n",
              "  </tbody>\n",
              "</table>\n",
              "</div>\n",
              "    <div class=\"colab-df-buttons\">\n",
              "\n",
              "  <div class=\"colab-df-container\">\n",
              "    <button class=\"colab-df-convert\" onclick=\"convertToInteractive('df-0e69c8e3-7df2-46b7-904d-f7c7751400ef')\"\n",
              "            title=\"Convert this dataframe to an interactive table.\"\n",
              "            style=\"display:none;\">\n",
              "\n",
              "  <svg xmlns=\"http://www.w3.org/2000/svg\" height=\"24px\" viewBox=\"0 -960 960 960\">\n",
              "    <path d=\"M120-120v-720h720v720H120Zm60-500h600v-160H180v160Zm220 220h160v-160H400v160Zm0 220h160v-160H400v160ZM180-400h160v-160H180v160Zm440 0h160v-160H620v160ZM180-180h160v-160H180v160Zm440 0h160v-160H620v160Z\"/>\n",
              "  </svg>\n",
              "    </button>\n",
              "\n",
              "  <style>\n",
              "    .colab-df-container {\n",
              "      display:flex;\n",
              "      gap: 12px;\n",
              "    }\n",
              "\n",
              "    .colab-df-convert {\n",
              "      background-color: #E8F0FE;\n",
              "      border: none;\n",
              "      border-radius: 50%;\n",
              "      cursor: pointer;\n",
              "      display: none;\n",
              "      fill: #1967D2;\n",
              "      height: 32px;\n",
              "      padding: 0 0 0 0;\n",
              "      width: 32px;\n",
              "    }\n",
              "\n",
              "    .colab-df-convert:hover {\n",
              "      background-color: #E2EBFA;\n",
              "      box-shadow: 0px 1px 2px rgba(60, 64, 67, 0.3), 0px 1px 3px 1px rgba(60, 64, 67, 0.15);\n",
              "      fill: #174EA6;\n",
              "    }\n",
              "\n",
              "    .colab-df-buttons div {\n",
              "      margin-bottom: 4px;\n",
              "    }\n",
              "\n",
              "    [theme=dark] .colab-df-convert {\n",
              "      background-color: #3B4455;\n",
              "      fill: #D2E3FC;\n",
              "    }\n",
              "\n",
              "    [theme=dark] .colab-df-convert:hover {\n",
              "      background-color: #434B5C;\n",
              "      box-shadow: 0px 1px 3px 1px rgba(0, 0, 0, 0.15);\n",
              "      filter: drop-shadow(0px 1px 2px rgba(0, 0, 0, 0.3));\n",
              "      fill: #FFFFFF;\n",
              "    }\n",
              "  </style>\n",
              "\n",
              "    <script>\n",
              "      const buttonEl =\n",
              "        document.querySelector('#df-0e69c8e3-7df2-46b7-904d-f7c7751400ef button.colab-df-convert');\n",
              "      buttonEl.style.display =\n",
              "        google.colab.kernel.accessAllowed ? 'block' : 'none';\n",
              "\n",
              "      async function convertToInteractive(key) {\n",
              "        const element = document.querySelector('#df-0e69c8e3-7df2-46b7-904d-f7c7751400ef');\n",
              "        const dataTable =\n",
              "          await google.colab.kernel.invokeFunction('convertToInteractive',\n",
              "                                                    [key], {});\n",
              "        if (!dataTable) return;\n",
              "\n",
              "        const docLinkHtml = 'Like what you see? Visit the ' +\n",
              "          '<a target=\"_blank\" href=https://colab.research.google.com/notebooks/data_table.ipynb>data table notebook</a>'\n",
              "          + ' to learn more about interactive tables.';\n",
              "        element.innerHTML = '';\n",
              "        dataTable['output_type'] = 'display_data';\n",
              "        await google.colab.output.renderOutput(dataTable, element);\n",
              "        const docLink = document.createElement('div');\n",
              "        docLink.innerHTML = docLinkHtml;\n",
              "        element.appendChild(docLink);\n",
              "      }\n",
              "    </script>\n",
              "  </div>\n",
              "\n",
              "\n",
              "<div id=\"df-baac573e-a840-4e0b-a278-97e432bf6a60\">\n",
              "  <button class=\"colab-df-quickchart\" onclick=\"quickchart('df-baac573e-a840-4e0b-a278-97e432bf6a60')\"\n",
              "            title=\"Suggest charts\"\n",
              "            style=\"display:none;\">\n",
              "\n",
              "<svg xmlns=\"http://www.w3.org/2000/svg\" height=\"24px\"viewBox=\"0 0 24 24\"\n",
              "     width=\"24px\">\n",
              "    <g>\n",
              "        <path d=\"M19 3H5c-1.1 0-2 .9-2 2v14c0 1.1.9 2 2 2h14c1.1 0 2-.9 2-2V5c0-1.1-.9-2-2-2zM9 17H7v-7h2v7zm4 0h-2V7h2v10zm4 0h-2v-4h2v4z\"/>\n",
              "    </g>\n",
              "</svg>\n",
              "  </button>\n",
              "\n",
              "<style>\n",
              "  .colab-df-quickchart {\n",
              "      --bg-color: #E8F0FE;\n",
              "      --fill-color: #1967D2;\n",
              "      --hover-bg-color: #E2EBFA;\n",
              "      --hover-fill-color: #174EA6;\n",
              "      --disabled-fill-color: #AAA;\n",
              "      --disabled-bg-color: #DDD;\n",
              "  }\n",
              "\n",
              "  [theme=dark] .colab-df-quickchart {\n",
              "      --bg-color: #3B4455;\n",
              "      --fill-color: #D2E3FC;\n",
              "      --hover-bg-color: #434B5C;\n",
              "      --hover-fill-color: #FFFFFF;\n",
              "      --disabled-bg-color: #3B4455;\n",
              "      --disabled-fill-color: #666;\n",
              "  }\n",
              "\n",
              "  .colab-df-quickchart {\n",
              "    background-color: var(--bg-color);\n",
              "    border: none;\n",
              "    border-radius: 50%;\n",
              "    cursor: pointer;\n",
              "    display: none;\n",
              "    fill: var(--fill-color);\n",
              "    height: 32px;\n",
              "    padding: 0;\n",
              "    width: 32px;\n",
              "  }\n",
              "\n",
              "  .colab-df-quickchart:hover {\n",
              "    background-color: var(--hover-bg-color);\n",
              "    box-shadow: 0 1px 2px rgba(60, 64, 67, 0.3), 0 1px 3px 1px rgba(60, 64, 67, 0.15);\n",
              "    fill: var(--button-hover-fill-color);\n",
              "  }\n",
              "\n",
              "  .colab-df-quickchart-complete:disabled,\n",
              "  .colab-df-quickchart-complete:disabled:hover {\n",
              "    background-color: var(--disabled-bg-color);\n",
              "    fill: var(--disabled-fill-color);\n",
              "    box-shadow: none;\n",
              "  }\n",
              "\n",
              "  .colab-df-spinner {\n",
              "    border: 2px solid var(--fill-color);\n",
              "    border-color: transparent;\n",
              "    border-bottom-color: var(--fill-color);\n",
              "    animation:\n",
              "      spin 1s steps(1) infinite;\n",
              "  }\n",
              "\n",
              "  @keyframes spin {\n",
              "    0% {\n",
              "      border-color: transparent;\n",
              "      border-bottom-color: var(--fill-color);\n",
              "      border-left-color: var(--fill-color);\n",
              "    }\n",
              "    20% {\n",
              "      border-color: transparent;\n",
              "      border-left-color: var(--fill-color);\n",
              "      border-top-color: var(--fill-color);\n",
              "    }\n",
              "    30% {\n",
              "      border-color: transparent;\n",
              "      border-left-color: var(--fill-color);\n",
              "      border-top-color: var(--fill-color);\n",
              "      border-right-color: var(--fill-color);\n",
              "    }\n",
              "    40% {\n",
              "      border-color: transparent;\n",
              "      border-right-color: var(--fill-color);\n",
              "      border-top-color: var(--fill-color);\n",
              "    }\n",
              "    60% {\n",
              "      border-color: transparent;\n",
              "      border-right-color: var(--fill-color);\n",
              "    }\n",
              "    80% {\n",
              "      border-color: transparent;\n",
              "      border-right-color: var(--fill-color);\n",
              "      border-bottom-color: var(--fill-color);\n",
              "    }\n",
              "    90% {\n",
              "      border-color: transparent;\n",
              "      border-bottom-color: var(--fill-color);\n",
              "    }\n",
              "  }\n",
              "</style>\n",
              "\n",
              "  <script>\n",
              "    async function quickchart(key) {\n",
              "      const quickchartButtonEl =\n",
              "        document.querySelector('#' + key + ' button');\n",
              "      quickchartButtonEl.disabled = true;  // To prevent multiple clicks.\n",
              "      quickchartButtonEl.classList.add('colab-df-spinner');\n",
              "      try {\n",
              "        const charts = await google.colab.kernel.invokeFunction(\n",
              "            'suggestCharts', [key], {});\n",
              "      } catch (error) {\n",
              "        console.error('Error during call to suggestCharts:', error);\n",
              "      }\n",
              "      quickchartButtonEl.classList.remove('colab-df-spinner');\n",
              "      quickchartButtonEl.classList.add('colab-df-quickchart-complete');\n",
              "    }\n",
              "    (() => {\n",
              "      let quickchartButtonEl =\n",
              "        document.querySelector('#df-baac573e-a840-4e0b-a278-97e432bf6a60 button');\n",
              "      quickchartButtonEl.style.display =\n",
              "        google.colab.kernel.accessAllowed ? 'block' : 'none';\n",
              "    })();\n",
              "  </script>\n",
              "</div>\n",
              "    </div>\n",
              "  </div>\n"
            ],
            "application/vnd.google.colaboratory.intrinsic+json": {
              "type": "dataframe",
              "variable_name": "results_regression",
              "summary": "{\n  \"name\": \"results_regression\",\n  \"rows\": 23,\n  \"fields\": [\n    {\n      \"column\": \"model\",\n      \"properties\": {\n        \"dtype\": \"string\",\n        \"samples\": [\n          \"Ridge_StandardScaler_Poly\",\n          \"Lasso_StandardScaler\",\n          \"LR\"\n        ],\n        \"num_unique_values\": 23,\n        \"semantic_type\": \"\",\n        \"description\": \"\"\n      }\n    },\n    {\n      \"column\": \"task\",\n      \"properties\": {\n        \"dtype\": \"category\",\n        \"samples\": [\n          \"task2\",\n          \"task3\",\n          \"task7\"\n        ],\n        \"num_unique_values\": 6,\n        \"semantic_type\": \"\",\n        \"description\": \"\"\n      }\n    },\n    {\n      \"column\": \"R2\",\n      \"properties\": {\n        \"dtype\": \"number\",\n        \"std\": 0.20266977854653184,\n        \"min\": 0.08964389476527435,\n        \"max\": 0.8777634766787686,\n        \"samples\": [\n          0.6706419566528606,\n          0.8665972283818332,\n          0.7483688916152148\n        ],\n        \"num_unique_values\": 21,\n        \"semantic_type\": \"\",\n        \"description\": \"\"\n      }\n    }\n  ]\n}"
            }
          },
          "metadata": {},
          "execution_count": 30
        }
      ],
      "source": [
        "results_regression"
      ]
    },
    {
      "cell_type": "code",
      "execution_count": null,
      "metadata": {
        "id": "fsIhH-b6TkhY"
      },
      "outputs": [],
      "source": []
    },
    {
      "cell_type": "markdown",
      "metadata": {
        "id": "N8mu0PVuTkhY"
      },
      "source": [
        "http://archive.ics.uci.edu/ml/datasets/Adult"
      ]
    },
    {
      "cell_type": "code",
      "execution_count": 34,
      "metadata": {
        "colab": {
          "base_uri": "https://localhost:8080/"
        },
        "id": "hSLR84s3TkhY",
        "outputId": "3e569c7b-dbef-462b-905f-30d056e18e31"
      },
      "outputs": [
        {
          "output_type": "stream",
          "name": "stdout",
          "text": [
            "['<=50K' '>50K']\n"
          ]
        }
      ],
      "source": [
        "data = pd.read_csv('adult.csv')\n",
        "print(data['class'].unique())#.head()"
      ]
    },
    {
      "cell_type": "markdown",
      "metadata": {
        "id": "5HQwI4o6TkhY"
      },
      "source": [
        "9. Разделите выборку на признаки и целевую переменную(колонка class). Замените целевую переменную на числовые значения ('<=50K' - 1, '>50K' - 0)."
      ]
    },
    {
      "cell_type": "code",
      "execution_count": 36,
      "metadata": {
        "id": "nNJmKBpUTkhZ"
      },
      "outputs": [],
      "source": [
        "### Ваш код ###\n",
        "data[\"class-num\"] = np.where(data[\"class\"] == \"<=50K\", 1, 0)\n",
        "y = data[\"class-num\"]\n",
        "X = data.drop(columns=[\"class\", \"class-num\"])\n",
        "X_train, X_test, y_train, y_test = train_test_split(X, y, train_size = 0.8, random_state = 10, shuffle = True)\n"
      ]
    },
    {
      "cell_type": "markdown",
      "metadata": {
        "id": "JSrLMeSlTkhZ"
      },
      "source": [
        "10. Посчитайте метрики accuracy и f1_score на предсказании только самого частого класса в целевой переменной.\n",
        "\n",
        "> Блок с отступами\n",
        "\n"
      ]
    },
    {
      "cell_type": "code",
      "source": [
        "#Определить самый часто встречающийся класс 1 или 0.\n",
        "#Облучить модель фитом как обычно // треин тест сплит на отфильтрованой выборке самого частого класса\n",
        "#на том что получилось найти аккураси и ф1 скор\n",
        "\n",
        "print(len(data[data[\"class-num\"] == 1]))\n",
        "print(len(data[data[\"class-num\"] == 0]))\n",
        "# Самый частый класс - 1"
      ],
      "metadata": {
        "colab": {
          "base_uri": "https://localhost:8080/"
        },
        "id": "Ds7lAYH0Zw1l",
        "outputId": "47303a31-bce2-4932-e858-8297f23e7ed3"
      },
      "execution_count": 39,
      "outputs": [
        {
          "output_type": "stream",
          "name": "stdout",
          "text": [
            "37155\n",
            "11687\n"
          ]
        }
      ]
    },
    {
      "cell_type": "code",
      "execution_count": 38,
      "metadata": {
        "colab": {
          "base_uri": "https://localhost:8080/"
        },
        "id": "jWOEeq9vTkhZ",
        "outputId": "8f230cd0-b4a8-494d-f5ad-65e8c21fd922"
      },
      "outputs": [
        {
          "output_type": "stream",
          "name": "stdout",
          "text": [
            "<class 'pandas.core.frame.DataFrame'>\n"
          ]
        }
      ],
      "source": [
        "\n",
        "### Ваш код ###\n",
        "print(type(X_test))\n",
        "# X_train_most_frequent = X_test[X_test[\"class-num\"] == 1]\n",
        "# y_train_most_frequent = y_test[y_test[\"class-num\"] == 1]\n",
        "\n",
        "f1_most_frequent = 0\n",
        "acc_most_frequent = 0\n",
        "results_classification.loc[0] = ['Most Frequent class', 'task10', f1_most_frequent, acc_most_frequent]"
      ]
    },
    {
      "cell_type": "markdown",
      "metadata": {
        "id": "UMsPN_VUTkhZ"
      },
      "source": [
        "11. Выясните, присутствуют ли в данных пропуски. Если присутствуют, заполните их самыми частыми значениями (испольуйте SimpleImputer)"
      ]
    },
    {
      "cell_type": "code",
      "execution_count": null,
      "metadata": {
        "id": "8qR8BH0sTkhZ",
        "outputId": "5418f57c-0c50-40fd-9b61-a288e35e8e63"
      },
      "outputs": [
        {
          "name": "stdout",
          "output_type": "stream",
          "text": [
            "Index(['age', 'workclass', 'fnlwgt', 'education', 'education-num',\n",
            "       'marital-status', 'occupation', 'relationship', 'race', 'sex',\n",
            "       'capital-gain', 'capital-loss', 'hours-per-week', 'native-country',\n",
            "       'class', 'class-num'],\n",
            "      dtype='object')\n"
          ]
        }
      ],
      "source": [
        "\n",
        "\n",
        "### Ваш код ###\n",
        "\n"
      ]
    },
    {
      "cell_type": "markdown",
      "metadata": {
        "id": "B2pvMePHTkhZ"
      },
      "source": [
        "12. Выберите колонки с числовыми и категориальными переменными (используя возможности pandas)."
      ]
    },
    {
      "cell_type": "code",
      "execution_count": null,
      "metadata": {
        "id": "4kAz71QnTkhZ"
      },
      "outputs": [],
      "source": [
        "tasks+=1\n",
        "\n",
        "### Ваш код ###"
      ]
    },
    {
      "cell_type": "markdown",
      "metadata": {
        "id": "gmRhmD1LTkhZ"
      },
      "source": [
        "13. Создайте пайплайн по обработке числовых и категориальных значений колонок (используйте OneHotEncoder,MinMaxScaler) и посчитайте cross_val_score по алгоритмам LogisticRegression, KNeighborsClassifier, LinearSVC по метрикам accuracy и f1_score."
      ]
    },
    {
      "cell_type": "code",
      "execution_count": null,
      "metadata": {
        "id": "BXym_kTCTkhZ"
      },
      "outputs": [],
      "source": [
        "\n",
        "\n",
        "### Ваш код ###\n",
        "\n",
        "f1_LR = 0\n",
        "acc_LR = 0\n",
        "f1_KNN = 0\n",
        "acc_KNN = 0\n",
        "f1_SVM = 0\n",
        "acc_SVM = 0\n",
        "results_classification.loc[1] = ['LogisticRegression', 'task13', f1_LR, acc_LR]\n",
        "results_classification.loc[2] = ['KNeighborsClassifier', 'task13', f1_KNN, acc_KNN]\n",
        "results_classification.loc[3] = ['LinearSVC', 'task13', f1_SVM, acc_SVM]"
      ]
    },
    {
      "cell_type": "markdown",
      "metadata": {
        "id": "BVVOg9UBTkhZ"
      },
      "source": [
        "14. Можно заметить что в данных присутствуют значения '?', замените их самыми частыми значениями, (испольуйте SimpleImputer). Посчитайте cross_val_score по алгоритмам LogisticRegression, KNeighborsClassifier, LinearSVC по метрикам accuracy и f1_score."
      ]
    },
    {
      "cell_type": "code",
      "execution_count": null,
      "metadata": {
        "id": "oaMSxTDMTkha"
      },
      "outputs": [],
      "source": [
        "\n",
        "\n",
        "### Ваш код ###\n",
        "\n",
        "f1_LR = 0\n",
        "acc_LR = 0\n",
        "f1_KNN = 0\n",
        "acc_KNN = 0\n",
        "f1_SVM = 0\n",
        "acc_SVM = 0\n",
        "results_classification.loc[4] = ['LogisticRegression_impute', 'task14', f1_LR, acc_LR]\n",
        "results_classification.loc[5] = ['KNeighborsClassifier_impute', 'task14', f1_KNN, acc_KNN]\n",
        "results_classification.loc[6] = ['LinearSVC_impute', 'task14', f1_SVM, acc_SVM]"
      ]
    },
    {
      "cell_type": "markdown",
      "metadata": {
        "id": "qVgWBC2NTkha"
      },
      "source": [
        "15. Посчитайте cross_val_score по тем же алгоритмам и метрикам, если просто удалить значения '?'."
      ]
    },
    {
      "cell_type": "code",
      "execution_count": null,
      "metadata": {
        "id": "THyvvH1MTkhg"
      },
      "outputs": [],
      "source": [
        "\n",
        "\n",
        "### Ваш код ###\n",
        "\n",
        "f1_LR_del_missings = 0\n",
        "acc_LR_del_missings = 0\n",
        "f1_KNN_del_missings = 0\n",
        "acc_KNN_del_missings = 0\n",
        "f1_SVM_del_missings = 0\n",
        "acc_SVM_del_missings = 0\n",
        "results_classification.loc[7] = ['LogisticRegression_delete_missings', 'task15', f1_LR_del_missings, acc_LR_del_missings]\n",
        "results_classification.loc[8] = ['KNeighborsClassifier_delete_missings', 'task15', f1_KNN_del_missings, acc_KNN_del_missings]\n",
        "results_classification.loc[9] = ['LinearSVC_delete_missings', 'task15', f1_SVM_del_missings, acc_SVM_del_missings]"
      ]
    },
    {
      "cell_type": "markdown",
      "metadata": {
        "id": "PLgvbTHCTkhg"
      },
      "source": [
        " 16. Посчитайте cross_val_score для RandomForestClassifier,GradientBoostingClassifier на данных с замененными значениями '?' на самые частые значения."
      ]
    },
    {
      "cell_type": "code",
      "execution_count": null,
      "metadata": {
        "id": "98SNt384Tkhg"
      },
      "outputs": [],
      "source": [
        "\n",
        "\n",
        "### Ваш код ###\n",
        "\n",
        "f1_RF = 0\n",
        "acc_RF = 0\n",
        "f1_GB = 0\n",
        "acc_GB = 0\n",
        "results_classification.loc[10] = ['RandomForestClassifier', 'task16', f1_RF, acc_RF]\n",
        "results_classification.loc[11] = ['GradientBoostingClassifier', 'task16', f1_GB, acc_GB]"
      ]
    },
    {
      "cell_type": "markdown",
      "metadata": {
        "id": "Uo8El7HyTkhh"
      },
      "source": [
        "17. Подберите наилучшую модель, подбирая методы обработки колонок - масштабирование признаков, кодирование признаков и заполнение пропусков. Параметры алгоритмов оставьте по умолчанию. Выведите итоговые параметры и результат accuracy и f1_score."
      ]
    },
    {
      "cell_type": "code",
      "execution_count": null,
      "metadata": {
        "id": "zBWSy98HTkhh"
      },
      "outputs": [],
      "source": [
        "\n",
        "\n",
        "### Ваш код ###\n",
        "\n",
        "best_params = {}\n",
        "print('Параметры лучшей модели:\\n', best_params)\n",
        "f1_best = 0\n",
        "acc_best = 0\n",
        "results_classification.loc[12] = ['Best_Model', 'task17', f1_best, acc_best]"
      ]
    },
    {
      "cell_type": "code",
      "execution_count": null,
      "metadata": {
        "id": "kzlhOuCSTkhh"
      },
      "outputs": [],
      "source": []
    },
    {
      "cell_type": "code",
      "execution_count": null,
      "metadata": {
        "id": "49nXt97pTkhh"
      },
      "outputs": [],
      "source": [
        "results_classification"
      ]
    },
    {
      "cell_type": "code",
      "execution_count": null,
      "metadata": {
        "id": "Vh47NkgrTkhh"
      },
      "outputs": [],
      "source": []
    },
    {
      "cell_type": "code",
      "execution_count": null,
      "metadata": {
        "id": "Bw_seKtITkhh"
      },
      "outputs": [],
      "source": []
    },
    {
      "cell_type": "code",
      "execution_count": null,
      "metadata": {
        "id": "TWwInWcoTkhh"
      },
      "outputs": [],
      "source": []
    }
  ],
  "metadata": {
    "kernelspec": {
      "display_name": "Python 3 (ipykernel)",
      "language": "python",
      "name": "python3"
    },
    "language_info": {
      "codemirror_mode": {
        "name": "ipython",
        "version": 3
      },
      "file_extension": ".py",
      "mimetype": "text/x-python",
      "name": "python",
      "nbconvert_exporter": "python",
      "pygments_lexer": "ipython3",
      "version": "3.9.13"
    },
    "colab": {
      "provenance": [],
      "include_colab_link": true
    }
  },
  "nbformat": 4,
  "nbformat_minor": 0
}