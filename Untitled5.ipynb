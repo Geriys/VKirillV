{
  "nbformat": 4,
  "nbformat_minor": 0,
  "metadata": {
    "colab": {
      "provenance": [],
      "authorship_tag": "ABX9TyPc9P4H7cHzhGhfjUmK/ADW",
      "include_colab_link": true
    },
    "kernelspec": {
      "name": "python3",
      "display_name": "Python 3"
    },
    "language_info": {
      "name": "python"
    }
  },
  "cells": [
    {
      "cell_type": "markdown",
      "metadata": {
        "id": "view-in-github",
        "colab_type": "text"
      },
      "source": [
        "<a href=\"https://colab.research.google.com/github/Geriys/VKirillV/blob/main/Untitled5.ipynb\" target=\"_parent\"><img src=\"https://colab.research.google.com/assets/colab-badge.svg\" alt=\"Open In Colab\"/></a>"
      ]
    },
    {
      "cell_type": "code",
      "source": [
        "# Для сравнения LSTM, RNN и GRU на задаче предсказания части речи, мы можем использовать набор данных, например, данные о речи, доступные в библиотеке TensorFlow Datasets.\n",
        "# В этом примере мы будем использовать набор данных \"Speech Commands\".\n",
        "\n",
        "# Для начала, установите необходимые библиотеки:"
      ],
      "metadata": {
        "id": "oZ7z0Xdrlx9D"
      },
      "execution_count": null,
      "outputs": []
    },
    {
      "cell_type": "code",
      "execution_count": null,
      "metadata": {
        "id": "mr6ZRbcClxX6"
      },
      "outputs": [],
      "source": [
        "!pip install tensorflow tensorflow_datasets"
      ]
    },
    {
      "cell_type": "code",
      "source": [
        "# Затем, импортируйте необходимые библиотеки и загрузите данные:"
      ],
      "metadata": {
        "id": "1iJQ6Nk7lyEC"
      },
      "execution_count": null,
      "outputs": []
    },
    {
      "cell_type": "code",
      "source": [
        "import tensorflow as tf\n",
        "import tensorflow_datasets as tfds\n",
        "from tensorflow.keras.models import Sequential\n",
        "from tensorflow.keras.layers import Dense, LSTM, GRU, SimpleRNN\n",
        "from tensorflow.keras.callbacks import EarlyStopping\n",
        "\n",
        "# Загрузка данных\n",
        "(ds_train, ds_test), ds_info = tfds.load(\n",
        "    'speech_commands',\n",
        "    split=['train', 'test'],\n",
        "    shuffle_files=True,\n",
        "    with_info=True,\n",
        "    as_supervised=True,\n",
        ")"
      ],
      "metadata": {
        "id": "_U2CczsTlyGV"
      },
      "execution_count": null,
      "outputs": []
    },
    {
      "cell_type": "code",
      "source": [
        "# Теперь, давайте создадим функцию для предобработки данных:"
      ],
      "metadata": {
        "id": "8TNYSqiqlyIl"
      },
      "execution_count": null,
      "outputs": []
    },
    {
      "cell_type": "code",
      "source": [
        "def normalize_audio(audio, label):\n",
        "  audio = tf.cast(audio, tf.float32) / 32768.0\n",
        "  return audio, label\n",
        "\n",
        "ds_train = ds_train.map(\n",
        "    normalize_audio, num_parallel_calls=tf.data.experimental.AUTOTUNE)\n",
        "ds_train = ds_train.batch(128)\n",
        "ds_train = ds_train.cache().prefetch(tf.data.experimental.AUTOTUNE)\n",
        "\n",
        "ds_test = ds_test.map(\n",
        "    normalize_audio, num_parallel_calls=tf.data.experimental.AUTOTUNE)\n",
        "ds_test = ds_test.batch(128)\n",
        "ds_test = ds_test.cache().prefetch(tf.data.experimental.AUTOTUNE)"
      ],
      "metadata": {
        "id": "5AtUqgHylyLI"
      },
      "execution_count": null,
      "outputs": []
    },
    {
      "cell_type": "code",
      "source": [
        "# Теперь, давайте создадим функцию для обучения модели:"
      ],
      "metadata": {
        "id": "4sIkw6q9lyNE"
      },
      "execution_count": null,
      "outputs": []
    },
    {
      "cell_type": "code",
      "source": [
        "def train_model(model, epochs=10):\n",
        "  model.compile(\n",
        "      loss=tf.keras.losses.SparseCategoricalCrossentropy(from_logits=True),\n",
        "      optimizer=tf.keras.optimizers.Adam(),\n",
        "      metrics=['accuracy'],\n",
        "  )\n",
        "\n",
        "  model.fit(\n",
        "      ds_train,\n",
        "      validation_data=ds_test,\n",
        "      epochs=epochs,\n",
        "      callbacks=[EarlyStopping(patience=2)]\n",
        "  )\n",
        "\n",
        "  return model"
      ],
      "metadata": {
        "id": "E6BJZL_NlyPQ"
      },
      "execution_count": null,
      "outputs": []
    },
    {
      "cell_type": "code",
      "source": [
        "# Теперь, давайте обучим модели LSTM, RNN и GRU:"
      ],
      "metadata": {
        "id": "s1s3oWyzmGqU"
      },
      "execution_count": null,
      "outputs": []
    },
    {
      "cell_type": "code",
      "source": [
        "# LSTM\n",
        "lstm_model = Sequential([\n",
        "  LSTM(64, return_sequences=False),\n",
        "  Dense(10)\n",
        "])\n",
        "lstm_model = train_model(lstm_model)\n",
        "\n",
        "# RNN\n",
        "rnn_model = Sequential([\n",
        "  SimpleRNN(64, return_sequences=False),\n",
        "  Dense(10)\n",
        "])\n",
        "rnn_model = train_model(rnn_model)\n",
        "\n",
        "# GRU\n",
        "gru_model = Sequential([\n",
        "  GRU(64, return_sequences=False),\n",
        "  Dense(10)\n",
        "])\n",
        "gru_model = train_model(gru_model)"
      ],
      "metadata": {
        "id": "9nFm_hd5mGsg"
      },
      "execution_count": null,
      "outputs": []
    },
    {
      "cell_type": "code",
      "source": [
        "# После обучения моделей, мы можем сравнить их по качеству предсказания, скорости обучения и времени инференса.\n",
        "# Для этого, например, можно использовать метрики accuracy и loss, а также время обучения и время предсказания."
      ],
      "metadata": {
        "id": "XmkIzs5emGuv"
      },
      "execution_count": null,
      "outputs": []
    },
    {
      "cell_type": "code",
      "source": [],
      "metadata": {
        "id": "BmRfmw47mGw4"
      },
      "execution_count": null,
      "outputs": []
    },
    {
      "cell_type": "code",
      "source": [
        "import time\n",
        "\n",
        "# Проверка метрик accuracy и loss\n",
        "lstm_loss, lstm_accuracy = lstm_model.evaluate(ds_test)\n",
        "rnn_loss, rnn_accuracy = rnn_model.evaluate(ds_test)\n",
        "gru_loss, gru_accuracy = gru_model.evaluate(ds_test)\n",
        "\n",
        "print(f\"LSTM Loss: {lstm_loss}, Accuracy: {lstm_accuracy}\")\n",
        "print(f\"RNN Loss: {rnn_loss}, Accuracy: {rnn_accuracy}\")\n",
        "print(f\"GRU Loss: {gru_loss}, Accuracy: {gru_accuracy}\")\n",
        "\n",
        "# Проверка времени обучения\n",
        "start_time = time.time()\n",
        "lstm_model = train_model(lstm_model)\n",
        "lstm_training_time = time.time() - start_time\n",
        "\n",
        "start_time = time.time()\n",
        "rnn_model = train_model(rnn_model)\n",
        "rnn_training_time = time.time() - start_time\n",
        "\n",
        "start_time = time.time()\n",
        "gru_model = train_model(gru_model)\n",
        "gru_training_time = time.time() - start_time\n",
        "\n",
        "print(f\"LSTM Training Time: {lstm_training_time}\")\n",
        "print(f\"RNN Training Time: {rnn_training_time}\")\n",
        "print(f\"GRU Training Time: {gru_training_time}\")\n",
        "\n",
        "# Проверка времени предсказания\n",
        "lstm_start_time = time.time()\n",
        "lstm_model.predict(ds_test)\n",
        "lstm_inference_time = time.time() - lstm_start_time\n",
        "\n",
        "rnn_start_time = time.time()\n",
        "rnn_model.predict(ds_test)\n",
        "rnn_inference_time = time.time() - rnn_start_time\n",
        "\n",
        "gru_start_time = time.time()\n",
        "gru_model.predict(ds_test)\n",
        "gru_inference_time = time.time() - gru_start_time\n",
        "\n",
        "print(f\"LSTM Inference Time: {lstm_inference_time}\")\n",
        "print(f\"RNN Inference Time: {rnn_inference_time}\")\n",
        "print(f\"GRU Inference Time: {gru_inference_time}\")"
      ],
      "metadata": {
        "id": "5gjB4baYmGzg"
      },
      "execution_count": null,
      "outputs": []
    },
    {
      "cell_type": "code",
      "source": [],
      "metadata": {
        "id": "TctFShjtlyRc"
      },
      "execution_count": null,
      "outputs": []
    },
    {
      "cell_type": "code",
      "source": [],
      "metadata": {
        "id": "QvmuGKrUlyTh"
      },
      "execution_count": null,
      "outputs": []
    },
    {
      "cell_type": "code",
      "source": [],
      "metadata": {
        "id": "tytItgczlyVm"
      },
      "execution_count": null,
      "outputs": []
    }
  ]
}